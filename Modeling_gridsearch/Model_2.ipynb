{
 "cells": [
  {
   "cell_type": "code",
   "execution_count": 1,
   "metadata": {},
   "outputs": [],
   "source": [
    "import pandas as pd\n",
    "import numpy as np\n",
    "from matplotlib import pyplot as plt\n",
    "import seaborn as sns\n",
    "\n",
    "from sklearn.model_selection import train_test_split, GridSearchCV, cross_val_score\n",
    "from sklearn.pipeline import Pipeline\n",
    "from sklearn.preprocessing import StandardScaler, OneHotEncoder, FunctionTransformer\n",
    "from sklearn.impute import SimpleImputer\n",
    "from sklearn.compose import ColumnTransformer,  make_column_selector as selector\n",
    "from sklearn.linear_model import LogisticRegression\n",
    "from sklearn.ensemble import RandomForestClassifier, GradientBoostingClassifier\n",
    "from sklearn.metrics import plot_confusion_matrix, recall_score,\\\n",
    "    accuracy_score, precision_score, f1_score\n",
    "\n",
    "from sklearn.dummy import DummyClassifier\n",
    "\n",
    "from imblearn.over_sampling import SMOTE\n",
    "from imblearn.pipeline import Pipeline as ImPipeline\n",
    "\n",
    "from sklearn.multioutput import MultiOutputClassifier\n",
    "\n",
    "import pickle"
   ]
  },
  {
   "cell_type": "markdown",
   "metadata": {},
   "source": [
    "# Goal: Create an second model"
   ]
  },
  {
   "cell_type": "code",
   "execution_count": 2,
   "metadata": {
    "scrolled": true
   },
   "outputs": [
    {
     "data": {
      "text/html": [
       "<div>\n",
       "<style scoped>\n",
       "    .dataframe tbody tr th:only-of-type {\n",
       "        vertical-align: middle;\n",
       "    }\n",
       "\n",
       "    .dataframe tbody tr th {\n",
       "        vertical-align: top;\n",
       "    }\n",
       "\n",
       "    .dataframe thead th {\n",
       "        text-align: right;\n",
       "    }\n",
       "</style>\n",
       "<table border=\"1\" class=\"dataframe\">\n",
       "  <thead>\n",
       "    <tr style=\"text-align: right;\">\n",
       "      <th></th>\n",
       "      <th>DRIVERS_LICENSE_CLASS</th>\n",
       "      <th>SEX</th>\n",
       "      <th>AGE</th>\n",
       "      <th>SAFETY_EQUIPMENT</th>\n",
       "      <th>UNIT_TYPE</th>\n",
       "      <th>NUM_PASSENGERS</th>\n",
       "      <th>MAKE</th>\n",
       "      <th>MODEL</th>\n",
       "      <th>VEHICLE_DEFECT</th>\n",
       "      <th>VEHICLE_TYPE</th>\n",
       "      <th>...</th>\n",
       "      <th>ROAD_DEFECT</th>\n",
       "      <th>CRASH_TYPE</th>\n",
       "      <th>PRIM_CONTRIBUTORY_CAUSE</th>\n",
       "      <th>SEC_CONTRIBUTORY_CAUSE</th>\n",
       "      <th>STREET_DIRECTION</th>\n",
       "      <th>BEAT_OF_OCCURRENCE</th>\n",
       "      <th>CRASH_HOUR</th>\n",
       "      <th>CRASH_DAY_OF_WEEK</th>\n",
       "      <th>CRASH_MONTH</th>\n",
       "      <th>INJURY_LEVEL</th>\n",
       "    </tr>\n",
       "  </thead>\n",
       "  <tbody>\n",
       "    <tr>\n",
       "      <th>0</th>\n",
       "      <td>D</td>\n",
       "      <td>M</td>\n",
       "      <td>25.0</td>\n",
       "      <td>NONE PRESENT</td>\n",
       "      <td>DRIVER</td>\n",
       "      <td>0.0</td>\n",
       "      <td>HONDA</td>\n",
       "      <td>CIVIC</td>\n",
       "      <td>UNKNOWN</td>\n",
       "      <td>PASSENGER</td>\n",
       "      <td>...</td>\n",
       "      <td>NO DEFECTS</td>\n",
       "      <td>NO INJURY / DRIVE AWAY</td>\n",
       "      <td>UNABLE TO DETERMINE</td>\n",
       "      <td>NOT APPLICABLE</td>\n",
       "      <td>N</td>\n",
       "      <td>1531.0</td>\n",
       "      <td>3.0</td>\n",
       "      <td>7.0</td>\n",
       "      <td>9.0</td>\n",
       "      <td>0</td>\n",
       "    </tr>\n",
       "    <tr>\n",
       "      <th>1</th>\n",
       "      <td>NaN</td>\n",
       "      <td>M</td>\n",
       "      <td>37.0</td>\n",
       "      <td>SAFETY BELT USED</td>\n",
       "      <td>DRIVER</td>\n",
       "      <td>0.0</td>\n",
       "      <td>BUICK</td>\n",
       "      <td>ENCORE</td>\n",
       "      <td>NONE</td>\n",
       "      <td>PASSENGER</td>\n",
       "      <td>...</td>\n",
       "      <td>NO DEFECTS</td>\n",
       "      <td>NO INJURY / DRIVE AWAY</td>\n",
       "      <td>IMPROPER OVERTAKING/PASSING</td>\n",
       "      <td>FAILING TO REDUCE SPEED TO AVOID CRASH</td>\n",
       "      <td>W</td>\n",
       "      <td>613.0</td>\n",
       "      <td>22.0</td>\n",
       "      <td>2.0</td>\n",
       "      <td>4.0</td>\n",
       "      <td>0</td>\n",
       "    </tr>\n",
       "    <tr>\n",
       "      <th>2</th>\n",
       "      <td>NaN</td>\n",
       "      <td>X</td>\n",
       "      <td>NaN</td>\n",
       "      <td>USAGE UNKNOWN</td>\n",
       "      <td>DRIVER</td>\n",
       "      <td>0.0</td>\n",
       "      <td>UNKNOWN</td>\n",
       "      <td>UNKNOWN</td>\n",
       "      <td>NONE</td>\n",
       "      <td>PASSENGER</td>\n",
       "      <td>...</td>\n",
       "      <td>NO DEFECTS</td>\n",
       "      <td>NO INJURY / DRIVE AWAY</td>\n",
       "      <td>DRIVING SKILLS/KNOWLEDGE/EXPERIENCE</td>\n",
       "      <td>NOT APPLICABLE</td>\n",
       "      <td>W</td>\n",
       "      <td>821.0</td>\n",
       "      <td>5.0</td>\n",
       "      <td>1.0</td>\n",
       "      <td>11.0</td>\n",
       "      <td>0</td>\n",
       "    </tr>\n",
       "    <tr>\n",
       "      <th>3</th>\n",
       "      <td>NaN</td>\n",
       "      <td>X</td>\n",
       "      <td>NaN</td>\n",
       "      <td>USAGE UNKNOWN</td>\n",
       "      <td>DRIVER</td>\n",
       "      <td>0.0</td>\n",
       "      <td>UNKNOWN</td>\n",
       "      <td>UNKNOWN</td>\n",
       "      <td>UNKNOWN</td>\n",
       "      <td>UNKNOWN/NA</td>\n",
       "      <td>...</td>\n",
       "      <td>NO DEFECTS</td>\n",
       "      <td>NO INJURY / DRIVE AWAY</td>\n",
       "      <td>UNABLE TO DETERMINE</td>\n",
       "      <td>UNABLE TO DETERMINE</td>\n",
       "      <td>N</td>\n",
       "      <td>2023.0</td>\n",
       "      <td>8.0</td>\n",
       "      <td>1.0</td>\n",
       "      <td>11.0</td>\n",
       "      <td>0</td>\n",
       "    </tr>\n",
       "    <tr>\n",
       "      <th>4</th>\n",
       "      <td>NaN</td>\n",
       "      <td>X</td>\n",
       "      <td>NaN</td>\n",
       "      <td>USAGE UNKNOWN</td>\n",
       "      <td>DRIVER</td>\n",
       "      <td>0.0</td>\n",
       "      <td>UNKNOWN</td>\n",
       "      <td>UNKNOWN</td>\n",
       "      <td>UNKNOWN</td>\n",
       "      <td>UNKNOWN/NA</td>\n",
       "      <td>...</td>\n",
       "      <td>NO DEFECTS</td>\n",
       "      <td>NO INJURY / DRIVE AWAY</td>\n",
       "      <td>UNABLE TO DETERMINE</td>\n",
       "      <td>NOT APPLICABLE</td>\n",
       "      <td>S</td>\n",
       "      <td>223.0</td>\n",
       "      <td>10.0</td>\n",
       "      <td>1.0</td>\n",
       "      <td>11.0</td>\n",
       "      <td>0</td>\n",
       "    </tr>\n",
       "  </tbody>\n",
       "</table>\n",
       "<p>5 rows × 30 columns</p>\n",
       "</div>"
      ],
      "text/plain": [
       "  DRIVERS_LICENSE_CLASS SEX   AGE  SAFETY_EQUIPMENT UNIT_TYPE  NUM_PASSENGERS  \\\n",
       "0                     D   M  25.0      NONE PRESENT    DRIVER             0.0   \n",
       "1                   NaN   M  37.0  SAFETY BELT USED    DRIVER             0.0   \n",
       "2                   NaN   X   NaN     USAGE UNKNOWN    DRIVER             0.0   \n",
       "3                   NaN   X   NaN     USAGE UNKNOWN    DRIVER             0.0   \n",
       "4                   NaN   X   NaN     USAGE UNKNOWN    DRIVER             0.0   \n",
       "\n",
       "      MAKE    MODEL VEHICLE_DEFECT VEHICLE_TYPE  ... ROAD_DEFECT  \\\n",
       "0    HONDA    CIVIC        UNKNOWN    PASSENGER  ...  NO DEFECTS   \n",
       "1    BUICK   ENCORE           NONE    PASSENGER  ...  NO DEFECTS   \n",
       "2  UNKNOWN  UNKNOWN           NONE    PASSENGER  ...  NO DEFECTS   \n",
       "3  UNKNOWN  UNKNOWN        UNKNOWN   UNKNOWN/NA  ...  NO DEFECTS   \n",
       "4  UNKNOWN  UNKNOWN        UNKNOWN   UNKNOWN/NA  ...  NO DEFECTS   \n",
       "\n",
       "               CRASH_TYPE              PRIM_CONTRIBUTORY_CAUSE  \\\n",
       "0  NO INJURY / DRIVE AWAY                  UNABLE TO DETERMINE   \n",
       "1  NO INJURY / DRIVE AWAY          IMPROPER OVERTAKING/PASSING   \n",
       "2  NO INJURY / DRIVE AWAY  DRIVING SKILLS/KNOWLEDGE/EXPERIENCE   \n",
       "3  NO INJURY / DRIVE AWAY                  UNABLE TO DETERMINE   \n",
       "4  NO INJURY / DRIVE AWAY                  UNABLE TO DETERMINE   \n",
       "\n",
       "                   SEC_CONTRIBUTORY_CAUSE STREET_DIRECTION BEAT_OF_OCCURRENCE  \\\n",
       "0                          NOT APPLICABLE                N             1531.0   \n",
       "1  FAILING TO REDUCE SPEED TO AVOID CRASH                W              613.0   \n",
       "2                          NOT APPLICABLE                W              821.0   \n",
       "3                     UNABLE TO DETERMINE                N             2023.0   \n",
       "4                          NOT APPLICABLE                S              223.0   \n",
       "\n",
       "  CRASH_HOUR CRASH_DAY_OF_WEEK CRASH_MONTH INJURY_LEVEL  \n",
       "0        3.0               7.0         9.0            0  \n",
       "1       22.0               2.0         4.0            0  \n",
       "2        5.0               1.0        11.0            0  \n",
       "3        8.0               1.0        11.0            0  \n",
       "4       10.0               1.0        11.0            0  \n",
       "\n",
       "[5 rows x 30 columns]"
      ]
     },
     "execution_count": 2,
     "metadata": {},
     "output_type": "execute_result"
    }
   ],
   "source": [
    "unpickleFile = open('./Data/clean_joined_df.pkl', 'rb')\n",
    "df = pickle.load(unpickleFile, encoding='bytes')\n",
    "df.head()"
   ]
  },
  {
   "cell_type": "code",
   "execution_count": 3,
   "metadata": {},
   "outputs": [
    {
     "data": {
      "text/plain": [
       "(1088146, 30)"
      ]
     },
     "execution_count": 3,
     "metadata": {},
     "output_type": "execute_result"
    }
   ],
   "source": [
    "df.shape"
   ]
  },
  {
   "cell_type": "code",
   "execution_count": 5,
   "metadata": {
    "scrolled": false
   },
   "outputs": [
    {
     "data": {
      "text/plain": [
       "DRIVERS_LICENSE_CLASS       object\n",
       "SEX                         object\n",
       "AGE                        float64\n",
       "SAFETY_EQUIPMENT            object\n",
       "UNIT_TYPE                   object\n",
       "NUM_PASSENGERS             float64\n",
       "MAKE                        object\n",
       "MODEL                       object\n",
       "VEHICLE_DEFECT              object\n",
       "VEHICLE_TYPE                object\n",
       "VEHICLE_USE                 object\n",
       "MANEUVER                    object\n",
       "FIRST_CONTACT_POINT         object\n",
       "POSTED_SPEED_LIMIT         float64\n",
       "WEATHER_CONDITION           object\n",
       "LIGHTING_CONDITION          object\n",
       "FIRST_CRASH_TYPE            object\n",
       "TRAFFICWAY_TYPE             object\n",
       "ALIGNMENT                   object\n",
       "ROADWAY_SURFACE_COND        object\n",
       "ROAD_DEFECT                 object\n",
       "CRASH_TYPE                  object\n",
       "PRIM_CONTRIBUTORY_CAUSE     object\n",
       "SEC_CONTRIBUTORY_CAUSE      object\n",
       "STREET_DIRECTION            object\n",
       "BEAT_OF_OCCURRENCE         float64\n",
       "CRASH_HOUR                 float64\n",
       "CRASH_DAY_OF_WEEK          float64\n",
       "CRASH_MONTH                float64\n",
       "INJURY_LEVEL                object\n",
       "dtype: object"
      ]
     },
     "execution_count": 5,
     "metadata": {},
     "output_type": "execute_result"
    }
   ],
   "source": [
    "df.dtypes"
   ]
  },
  {
   "cell_type": "code",
   "execution_count": 6,
   "metadata": {},
   "outputs": [
    {
     "data": {
      "text/plain": [
       "CLEAR                       866704\n",
       "RAIN                         97693\n",
       "UNKNOWN                      43677\n",
       "SNOW                         38557\n",
       "CLOUDY/OVERCAST              33056\n",
       "OTHER                         3261\n",
       "FREEZING RAIN/DRIZZLE         1646\n",
       "FOG/SMOKE/HAZE                1542\n",
       "SLEET/HAIL                    1392\n",
       "BLOWING SNOW                   446\n",
       "SEVERE CROSS WIND GATE         164\n",
       "BLOWING SAND, SOIL, DIRT         8\n",
       "Name: WEATHER_CONDITION, dtype: int64"
      ]
     },
     "execution_count": 6,
     "metadata": {},
     "output_type": "execute_result"
    }
   ],
   "source": [
    "df.WEATHER_CONDITION.value_counts()"
   ]
  },
  {
   "cell_type": "code",
   "execution_count": 3,
   "metadata": {},
   "outputs": [
    {
     "data": {
      "text/plain": [
       "Index(['DRIVERS_LICENSE_CLASS', 'SEX', 'AGE', 'SAFETY_EQUIPMENT', 'UNIT_TYPE',\n",
       "       'NUM_PASSENGERS', 'MAKE', 'MODEL', 'VEHICLE_DEFECT', 'VEHICLE_TYPE',\n",
       "       'VEHICLE_USE', 'MANEUVER', 'FIRST_CONTACT_POINT', 'POSTED_SPEED_LIMIT',\n",
       "       'WEATHER_CONDITION', 'LIGHTING_CONDITION', 'FIRST_CRASH_TYPE',\n",
       "       'TRAFFICWAY_TYPE', 'ALIGNMENT', 'ROADWAY_SURFACE_COND', 'ROAD_DEFECT',\n",
       "       'CRASH_TYPE', 'PRIM_CONTRIBUTORY_CAUSE', 'SEC_CONTRIBUTORY_CAUSE',\n",
       "       'STREET_DIRECTION', 'BEAT_OF_OCCURRENCE', 'CRASH_HOUR',\n",
       "       'CRASH_DAY_OF_WEEK', 'CRASH_MONTH', 'INJURY_LEVEL'],\n",
       "      dtype='object')"
      ]
     },
     "execution_count": 3,
     "metadata": {},
     "output_type": "execute_result"
    }
   ],
   "source": [
    "df.columns"
   ]
  },
  {
   "cell_type": "code",
   "execution_count": 4,
   "metadata": {},
   "outputs": [
    {
     "data": {
      "text/plain": [
       "DRIVERS_LICENSE_CLASS      388727\n",
       "SEX                             0\n",
       "AGE                        291805\n",
       "SAFETY_EQUIPMENT                0\n",
       "UNIT_TYPE                       0\n",
       "NUM_PASSENGERS                  0\n",
       "MAKE                            0\n",
       "MODEL                           0\n",
       "VEHICLE_DEFECT                  0\n",
       "VEHICLE_TYPE                    0\n",
       "VEHICLE_USE                     0\n",
       "MANEUVER                        0\n",
       "FIRST_CONTACT_POINT             0\n",
       "POSTED_SPEED_LIMIT              0\n",
       "WEATHER_CONDITION               0\n",
       "LIGHTING_CONDITION              0\n",
       "FIRST_CRASH_TYPE                0\n",
       "TRAFFICWAY_TYPE                 0\n",
       "ALIGNMENT                       0\n",
       "ROADWAY_SURFACE_COND            0\n",
       "ROAD_DEFECT                     0\n",
       "CRASH_TYPE                      0\n",
       "PRIM_CONTRIBUTORY_CAUSE         0\n",
       "SEC_CONTRIBUTORY_CAUSE          0\n",
       "STREET_DIRECTION                0\n",
       "BEAT_OF_OCCURRENCE              0\n",
       "CRASH_HOUR                      0\n",
       "CRASH_DAY_OF_WEEK               0\n",
       "CRASH_MONTH                     0\n",
       "INJURY_LEVEL                    0\n",
       "dtype: int64"
      ]
     },
     "execution_count": 4,
     "metadata": {},
     "output_type": "execute_result"
    }
   ],
   "source": [
    "df.isna().sum()"
   ]
  },
  {
   "cell_type": "markdown",
   "metadata": {},
   "source": [
    "For most nan's, we've been able to engineer our data or drop most rows that have nan's.\n",
    "\n",
    "For the nan's that are leftover, they are in 'DRIVERS_LICENSE_CLASS' and 'AGE'.\n",
    "In our pipelines, we'll need to impute fixes for these nan's:\n",
    "- `DRIVERS_LICENSE_CLASS` - Fill with most common(assuming people are driving with a license)\n",
    "- `AGE` - Fill with mean\n",
    "\n",
    "We'll need to do this with pipelines to avoid data leakage.\n",
    "\n",
    "We're only going to use a couple of variables for our target for our FSM.\n",
    "\n",
    "We're also going to limit the amount of classes we're classifiying upon."
   ]
  },
  {
   "cell_type": "code",
   "execution_count": 19,
   "metadata": {},
   "outputs": [
    {
     "data": {
      "text/plain": [
       "UNABLE TO DETERMINE                                                                 380362\n",
       "FAILING TO YIELD RIGHT-OF-WAY                                                       133013\n",
       "FOLLOWING TOO CLOSELY                                                               132795\n",
       "IMPROPER OVERTAKING/PASSING                                                          57294\n",
       "FAILING TO REDUCE SPEED TO AVOID CRASH                                               51012\n",
       "NOT APPLICABLE                                                                       49737\n",
       "IMPROPER LANE USAGE                                                                  43608\n",
       "IMPROPER BACKING                                                                     41129\n",
       "IMPROPER TURNING/NO SIGNAL                                                           39791\n",
       "DRIVING SKILLS/KNOWLEDGE/EXPERIENCE                                                  30957\n",
       "DISREGARDING TRAFFIC SIGNALS                                                         25028\n",
       "WEATHER                                                                              16357\n",
       "DISREGARDING STOP SIGN                                                               14059\n",
       "OPERATING VEHICLE IN ERRATIC, RECKLESS, CARELESS, NEGLIGENT OR AGGRESSIVE MANNER     12537\n",
       "DISTRACTION - FROM INSIDE VEHICLE                                                     7708\n",
       "VISION OBSCURED (SIGNS, TREE LIMBS, BUILDINGS, ETC.)                                  5924\n",
       "EQUIPMENT - VEHICLE CONDITION                                                         5860\n",
       "DRIVING ON WRONG SIDE/WRONG WAY                                                       5605\n",
       "PHYSICAL CONDITION OF DRIVER                                                          5466\n",
       "UNDER THE INFLUENCE OF ALCOHOL/DRUGS (USE WHEN ARREST IS EFFECTED)                    4681\n",
       "DISTRACTION - FROM OUTSIDE VEHICLE                                                    4244\n",
       "EXCEEDING AUTHORIZED SPEED LIMIT                                                      3208\n",
       "EXCEEDING SAFE SPEED FOR CONDITIONS                                                   2863\n",
       "DISREGARDING OTHER TRAFFIC SIGNS                                                      2417\n",
       "ROAD CONSTRUCTION/MAINTENANCE                                                         1768\n",
       "EVASIVE ACTION DUE TO ANIMAL, OBJECT, NONMOTORIST                                     1673\n",
       "ROAD ENGINEERING/SURFACE/MARKING DEFECTS                                              1612\n",
       "CELL PHONE USE OTHER THAN TEXTING                                                     1517\n",
       "DISREGARDING ROAD MARKINGS                                                            1374\n",
       "HAD BEEN DRINKING (USE WHEN ARREST IS NOT MADE)                                       1008\n",
       "TURNING RIGHT ON RED                                                                   851\n",
       "ANIMAL                                                                                 586\n",
       "DISTRACTION - OTHER ELECTRONIC DEVICE (NAVIGATION DEVICE, DVD PLAYER, ETC.)            498\n",
       "TEXTING                                                                                449\n",
       "RELATED TO BUS STOP                                                                    425\n",
       "DISREGARDING YIELD SIGN                                                                384\n",
       "PASSING STOPPED SCHOOL BUS                                                             139\n",
       "BICYCLE ADVANCING LEGALLY ON RED LIGHT                                                  92\n",
       "OBSTRUCTED CROSSWALKS                                                                   80\n",
       "MOTORCYCLE ADVANCING LEGALLY ON RED LIGHT                                               35\n",
       "Name: PRIM_CONTRIBUTORY_CAUSE, dtype: int64"
      ]
     },
     "execution_count": 19,
     "metadata": {},
     "output_type": "execute_result"
    }
   ],
   "source": [
    "# Drop rows with a cause that has less than 10k total\n",
    "drop_list = []\n",
    "for cause, number in zip(df.PRIM_CONTRIBUTORY_CAUSE.value_counts().index, df.PRIM_CONTRIBUTORY_CAUSE.value_counts()):\n",
    "    if number < 10000:\n",
    "        drop_list.append(cause)\n",
    "df.PRIM_CONTRIBUTORY_CAUSE.value_counts()"
   ]
  },
  {
   "cell_type": "code",
   "execution_count": 20,
   "metadata": {
    "scrolled": true
   },
   "outputs": [
    {
     "data": {
      "text/plain": [
       "UNABLE TO DETERMINE                                                                 380362\n",
       "FAILING TO YIELD RIGHT-OF-WAY                                                       133013\n",
       "FOLLOWING TOO CLOSELY                                                               132795\n",
       "IMPROPER OVERTAKING/PASSING                                                          57294\n",
       "FAILING TO REDUCE SPEED TO AVOID CRASH                                               51012\n",
       "NOT APPLICABLE                                                                       49737\n",
       "IMPROPER LANE USAGE                                                                  43608\n",
       "IMPROPER BACKING                                                                     41129\n",
       "IMPROPER TURNING/NO SIGNAL                                                           39791\n",
       "DRIVING SKILLS/KNOWLEDGE/EXPERIENCE                                                  30957\n",
       "DISREGARDING TRAFFIC SIGNALS                                                         25028\n",
       "WEATHER                                                                              16357\n",
       "DISREGARDING STOP SIGN                                                               14059\n",
       "OPERATING VEHICLE IN ERRATIC, RECKLESS, CARELESS, NEGLIGENT OR AGGRESSIVE MANNER     12537\n",
       "Name: PRIM_CONTRIBUTORY_CAUSE, dtype: int64"
      ]
     },
     "execution_count": 20,
     "metadata": {},
     "output_type": "execute_result"
    }
   ],
   "source": [
    "df = df[~df['PRIM_CONTRIBUTORY_CAUSE'].isin(drop_list)]\n",
    "df.PRIM_CONTRIBUTORY_CAUSE.value_counts()"
   ]
  },
  {
   "cell_type": "code",
   "execution_count": 21,
   "metadata": {},
   "outputs": [],
   "source": [
    "simple_X = df[['WEATHER_CONDITION', 'NUM_PASSENGERS', 'AGE']]\n",
    "y = df[['PRIM_CONTRIBUTORY_CAUSE']]\n",
    "\n",
    "X_train, X_test, y_train, y_test = train_test_split(simple_X, y, random_state=42)"
   ]
  },
  {
   "cell_type": "code",
   "execution_count": 22,
   "metadata": {},
   "outputs": [],
   "source": [
    "# Create pipes\n",
    "subpipe_num = Pipeline(steps=[\n",
    "    ('num_impute', SimpleImputer(strategy='median')),\n",
    "    ('ss', StandardScaler())\n",
    "])\n",
    "\n",
    "\n",
    "subpipe_cat = Pipeline(steps=[\n",
    "    ('cat_impute',SimpleImputer(strategy='most_frequent')),\n",
    "    ('ohe', OneHotEncoder(sparse=False, handle_unknown='ignore'))\n",
    "])\n",
    "\n",
    "CT = ColumnTransformer(transformers=[\n",
    "    ('subpipe_num', subpipe_num, selector(dtype_include=np.number)),\n",
    "    ('subpipe_cat', subpipe_cat, selector(dtype_include=object))], remainder='passthrough')"
   ]
  },
  {
   "cell_type": "code",
   "execution_count": 23,
   "metadata": {},
   "outputs": [],
   "source": [
    "FSM_model_pipe = Pipeline(steps=[\n",
    "    ('ct', CT),\n",
    "    ('fsm', MultiOutputClassifier(LogisticRegression()))\n",
    "])"
   ]
  },
  {
   "cell_type": "code",
   "execution_count": 24,
   "metadata": {},
   "outputs": [
    {
     "name": "stderr",
     "output_type": "stream",
     "text": [
      "C:\\Users\\mitch\\anaconda3\\envs\\learn-env\\lib\\site-packages\\sklearn\\linear_model\\_logistic.py:762: ConvergenceWarning: lbfgs failed to converge (status=1):\n",
      "STOP: TOTAL NO. of ITERATIONS REACHED LIMIT.\n",
      "\n",
      "Increase the number of iterations (max_iter) or scale the data as shown in:\n",
      "    https://scikit-learn.org/stable/modules/preprocessing.html\n",
      "Please also refer to the documentation for alternative solver options:\n",
      "    https://scikit-learn.org/stable/modules/linear_model.html#logistic-regression\n",
      "  n_iter_i = _check_optimize_result(\n"
     ]
    }
   ],
   "source": [
    "fsm = FSM_model_pipe.fit(X_train, y_train)"
   ]
  },
  {
   "cell_type": "code",
   "execution_count": 27,
   "metadata": {},
   "outputs": [
    {
     "data": {
      "text/plain": [
       "0.3698445298725023"
      ]
     },
     "execution_count": 27,
     "metadata": {},
     "output_type": "execute_result"
    }
   ],
   "source": [
    "fsm.score(X_train, y_train)"
   ]
  },
  {
   "cell_type": "code",
   "execution_count": 31,
   "metadata": {},
   "outputs": [
    {
     "data": {
      "text/plain": [
       "0.3701697026311692"
      ]
     },
     "execution_count": 31,
     "metadata": {},
     "output_type": "execute_result"
    }
   ],
   "source": [
    "fsm.score(X_test, y_test)"
   ]
  },
  {
   "cell_type": "markdown",
   "metadata": {},
   "source": [
    "That score is a little rough, having only 37% score on unseen data. The 'good' news is that we're getting an almost identical score for the trained data which means the model performs identically on seen vs unseen data.\n",
    "\n",
    "This score is slightly worse than before, when we ran the model without person/car info.\n",
    "\n",
    "The next step is to iterate on this model and see how we can improve it.\n",
    "\n",
    "For the next iteration we'll modify our target, as a target of 'unable to determine' isn't helpful. We may need to apply SMOTE to the imbalanced dataset.\n",
    "\n",
    "We'll also apply gridsearch to find a more optimal model."
   ]
  },
  {
   "cell_type": "code",
   "execution_count": null,
   "metadata": {},
   "outputs": [],
   "source": []
  }
 ],
 "metadata": {
  "kernelspec": {
   "display_name": "Python (learn-env)",
   "language": "python",
   "name": "learn-env"
  },
  "language_info": {
   "codemirror_mode": {
    "name": "ipython",
    "version": 3
   },
   "file_extension": ".py",
   "mimetype": "text/x-python",
   "name": "python",
   "nbconvert_exporter": "python",
   "pygments_lexer": "ipython3",
   "version": "3.8.5"
  }
 },
 "nbformat": 4,
 "nbformat_minor": 4
}
