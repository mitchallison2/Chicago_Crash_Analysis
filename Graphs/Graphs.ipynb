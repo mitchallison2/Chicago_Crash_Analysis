{
 "cells": [
  {
   "cell_type": "code",
   "execution_count": 1,
   "metadata": {},
   "outputs": [],
   "source": [
    "import pandas as pd\n",
    "import numpy as np\n",
    "from matplotlib import pyplot as plt\n",
    "import seaborn as sns\n",
    "\n",
    "from sklearn.model_selection import train_test_split, GridSearchCV, cross_val_score\n",
    "from sklearn.pipeline import Pipeline\n",
    "from sklearn.preprocessing import StandardScaler, OneHotEncoder, FunctionTransformer, LabelEncoder\n",
    "from sklearn.impute import SimpleImputer\n",
    "from sklearn.compose import ColumnTransformer,  make_column_selector as selector\n",
    "from sklearn.linear_model import LogisticRegression\n",
    "from sklearn.ensemble import RandomForestClassifier, GradientBoostingClassifier\n",
    "from sklearn.metrics import plot_confusion_matrix, recall_score,\\\n",
    "    accuracy_score, precision_score, f1_score\n",
    "\n",
    "from sklearn.dummy import DummyClassifier\n",
    "\n",
    "from imblearn.over_sampling import SMOTE\n",
    "from imblearn.under_sampling import RandomUnderSampler\n",
    "from imblearn.pipeline import Pipeline as ImPipeline\n",
    "\n",
    "from sklearn.multioutput import MultiOutputClassifier\n",
    "\n",
    "from sklearn.tree import DecisionTreeClassifier\n",
    "\n",
    "import pickle"
   ]
  },
  {
   "cell_type": "code",
   "execution_count": 23,
   "metadata": {},
   "outputs": [
    {
     "data": {
      "text/html": [
       "<div>\n",
       "<style scoped>\n",
       "    .dataframe tbody tr th:only-of-type {\n",
       "        vertical-align: middle;\n",
       "    }\n",
       "\n",
       "    .dataframe tbody tr th {\n",
       "        vertical-align: top;\n",
       "    }\n",
       "\n",
       "    .dataframe thead th {\n",
       "        text-align: right;\n",
       "    }\n",
       "</style>\n",
       "<table border=\"1\" class=\"dataframe\">\n",
       "  <thead>\n",
       "    <tr style=\"text-align: right;\">\n",
       "      <th></th>\n",
       "      <th>SEX</th>\n",
       "      <th>AGE</th>\n",
       "      <th>MANEUVER</th>\n",
       "      <th>FIRST_CONTACT_POINT</th>\n",
       "      <th>LIGHTING_CONDITION</th>\n",
       "      <th>CRASH_TYPE</th>\n",
       "      <th>PRIM_CONTRIBUTORY_CAUSE</th>\n",
       "      <th>STREET_DIRECTION</th>\n",
       "      <th>CRASH_HOUR</th>\n",
       "      <th>CRASH_DAY_OF_WEEK</th>\n",
       "      <th>...</th>\n",
       "      <th>passengers_simple</th>\n",
       "      <th>defect_simple</th>\n",
       "      <th>vehicletype_simple</th>\n",
       "      <th>vehicleuse_simple</th>\n",
       "      <th>speedlimit_simple</th>\n",
       "      <th>weather_simple</th>\n",
       "      <th>roadcond_simple</th>\n",
       "      <th>roaddef_simple</th>\n",
       "      <th>trafficway_simple</th>\n",
       "      <th>alignment_simple</th>\n",
       "    </tr>\n",
       "  </thead>\n",
       "  <tbody>\n",
       "    <tr>\n",
       "      <th>12</th>\n",
       "      <td>F</td>\n",
       "      <td>34.0</td>\n",
       "      <td>MERGING</td>\n",
       "      <td>TOTAL (ALL AREAS)</td>\n",
       "      <td>DUSK</td>\n",
       "      <td>NO INJURY / DRIVE AWAY</td>\n",
       "      <td>IMPROPER OVERTAKING/PASSING</td>\n",
       "      <td>W</td>\n",
       "      <td>18.0</td>\n",
       "      <td>1.0</td>\n",
       "      <td>...</td>\n",
       "      <td>no passengers</td>\n",
       "      <td>defective/unknown</td>\n",
       "      <td>passenger car</td>\n",
       "      <td>personal vehicle</td>\n",
       "      <td>med</td>\n",
       "      <td>clear/unknown</td>\n",
       "      <td>dry</td>\n",
       "      <td>no road defect</td>\n",
       "      <td>not divided</td>\n",
       "      <td>straight</td>\n",
       "    </tr>\n",
       "    <tr>\n",
       "      <th>40</th>\n",
       "      <td>M</td>\n",
       "      <td>61.0</td>\n",
       "      <td>SLOW/STOP IN TRAFFIC</td>\n",
       "      <td>REAR-LEFT</td>\n",
       "      <td>DAYLIGHT</td>\n",
       "      <td>NO INJURY / DRIVE AWAY</td>\n",
       "      <td>FOLLOWING TOO CLOSELY</td>\n",
       "      <td>S</td>\n",
       "      <td>11.0</td>\n",
       "      <td>7.0</td>\n",
       "      <td>...</td>\n",
       "      <td>has passengers</td>\n",
       "      <td>not defective</td>\n",
       "      <td>other</td>\n",
       "      <td>personal vehicle</td>\n",
       "      <td>high</td>\n",
       "      <td>clear/unknown</td>\n",
       "      <td>dry</td>\n",
       "      <td>no road defect</td>\n",
       "      <td>divided</td>\n",
       "      <td>straight</td>\n",
       "    </tr>\n",
       "    <tr>\n",
       "      <th>60</th>\n",
       "      <td>F</td>\n",
       "      <td>24.0</td>\n",
       "      <td>STRAIGHT AHEAD</td>\n",
       "      <td>FRONT</td>\n",
       "      <td>DARKNESS, LIGHTED ROAD</td>\n",
       "      <td>INJURY AND / OR TOW DUE TO CRASH</td>\n",
       "      <td>FAILING TO REDUCE SPEED TO AVOID CRASH</td>\n",
       "      <td>W</td>\n",
       "      <td>0.0</td>\n",
       "      <td>2.0</td>\n",
       "      <td>...</td>\n",
       "      <td>no passengers</td>\n",
       "      <td>defective/unknown</td>\n",
       "      <td>passenger car</td>\n",
       "      <td>personal vehicle</td>\n",
       "      <td>med</td>\n",
       "      <td>clear/unknown</td>\n",
       "      <td>dry</td>\n",
       "      <td>no road defect</td>\n",
       "      <td>not divided</td>\n",
       "      <td>straight</td>\n",
       "    </tr>\n",
       "    <tr>\n",
       "      <th>96</th>\n",
       "      <td>M</td>\n",
       "      <td>23.0</td>\n",
       "      <td>TURNING LEFT</td>\n",
       "      <td>SIDE-RIGHT</td>\n",
       "      <td>DAYLIGHT</td>\n",
       "      <td>NO INJURY / DRIVE AWAY</td>\n",
       "      <td>FAILING TO YIELD RIGHT-OF-WAY</td>\n",
       "      <td>W</td>\n",
       "      <td>7.0</td>\n",
       "      <td>6.0</td>\n",
       "      <td>...</td>\n",
       "      <td>no passengers</td>\n",
       "      <td>not defective</td>\n",
       "      <td>passenger car</td>\n",
       "      <td>personal vehicle</td>\n",
       "      <td>med</td>\n",
       "      <td>clear/unknown</td>\n",
       "      <td>dry</td>\n",
       "      <td>no road defect</td>\n",
       "      <td>other</td>\n",
       "      <td>straight</td>\n",
       "    </tr>\n",
       "    <tr>\n",
       "      <th>97</th>\n",
       "      <td>M</td>\n",
       "      <td>52.0</td>\n",
       "      <td>STRAIGHT AHEAD</td>\n",
       "      <td>OTHER</td>\n",
       "      <td>DAYLIGHT</td>\n",
       "      <td>NO INJURY / DRIVE AWAY</td>\n",
       "      <td>FAILING TO YIELD RIGHT-OF-WAY</td>\n",
       "      <td>W</td>\n",
       "      <td>7.0</td>\n",
       "      <td>6.0</td>\n",
       "      <td>...</td>\n",
       "      <td>has passengers</td>\n",
       "      <td>not defective</td>\n",
       "      <td>passenger car</td>\n",
       "      <td>personal vehicle</td>\n",
       "      <td>med</td>\n",
       "      <td>clear/unknown</td>\n",
       "      <td>dry</td>\n",
       "      <td>no road defect</td>\n",
       "      <td>other</td>\n",
       "      <td>straight</td>\n",
       "    </tr>\n",
       "  </tbody>\n",
       "</table>\n",
       "<p>5 rows × 23 columns</p>\n",
       "</div>"
      ],
      "text/plain": [
       "   SEX   AGE              MANEUVER FIRST_CONTACT_POINT  \\\n",
       "12   F  34.0               MERGING   TOTAL (ALL AREAS)   \n",
       "40   M  61.0  SLOW/STOP IN TRAFFIC           REAR-LEFT   \n",
       "60   F  24.0        STRAIGHT AHEAD               FRONT   \n",
       "96   M  23.0          TURNING LEFT          SIDE-RIGHT   \n",
       "97   M  52.0        STRAIGHT AHEAD               OTHER   \n",
       "\n",
       "        LIGHTING_CONDITION                        CRASH_TYPE  \\\n",
       "12                    DUSK            NO INJURY / DRIVE AWAY   \n",
       "40                DAYLIGHT            NO INJURY / DRIVE AWAY   \n",
       "60  DARKNESS, LIGHTED ROAD  INJURY AND / OR TOW DUE TO CRASH   \n",
       "96                DAYLIGHT            NO INJURY / DRIVE AWAY   \n",
       "97                DAYLIGHT            NO INJURY / DRIVE AWAY   \n",
       "\n",
       "                   PRIM_CONTRIBUTORY_CAUSE STREET_DIRECTION  CRASH_HOUR  \\\n",
       "12             IMPROPER OVERTAKING/PASSING                W        18.0   \n",
       "40                   FOLLOWING TOO CLOSELY                S        11.0   \n",
       "60  FAILING TO REDUCE SPEED TO AVOID CRASH                W         0.0   \n",
       "96           FAILING TO YIELD RIGHT-OF-WAY                W         7.0   \n",
       "97           FAILING TO YIELD RIGHT-OF-WAY                W         7.0   \n",
       "\n",
       "    CRASH_DAY_OF_WEEK  ...  passengers_simple      defect_simple  \\\n",
       "12                1.0  ...      no passengers  defective/unknown   \n",
       "40                7.0  ...     has passengers      not defective   \n",
       "60                2.0  ...      no passengers  defective/unknown   \n",
       "96                6.0  ...      no passengers      not defective   \n",
       "97                6.0  ...     has passengers      not defective   \n",
       "\n",
       "   vehicletype_simple vehicleuse_simple speedlimit_simple weather_simple  \\\n",
       "12      passenger car  personal vehicle               med  clear/unknown   \n",
       "40              other  personal vehicle              high  clear/unknown   \n",
       "60      passenger car  personal vehicle               med  clear/unknown   \n",
       "96      passenger car  personal vehicle               med  clear/unknown   \n",
       "97      passenger car  personal vehicle               med  clear/unknown   \n",
       "\n",
       "   roadcond_simple  roaddef_simple trafficway_simple alignment_simple  \n",
       "12             dry  no road defect       not divided         straight  \n",
       "40             dry  no road defect           divided         straight  \n",
       "60             dry  no road defect       not divided         straight  \n",
       "96             dry  no road defect             other         straight  \n",
       "97             dry  no road defect             other         straight  \n",
       "\n",
       "[5 rows x 23 columns]"
      ]
     },
     "execution_count": 23,
     "metadata": {},
     "output_type": "execute_result"
    }
   ],
   "source": [
    "unpickleFile = open('./Data/final_data.pkl', 'rb')\n",
    "df_final = pickle.load(unpickleFile, encoding='bytes')\n",
    "df_final.head()"
   ]
  },
  {
   "cell_type": "code",
   "execution_count": 9,
   "metadata": {
    "scrolled": true
   },
   "outputs": [
    {
     "data": {
      "text/html": [
       "<div>\n",
       "<style scoped>\n",
       "    .dataframe tbody tr th:only-of-type {\n",
       "        vertical-align: middle;\n",
       "    }\n",
       "\n",
       "    .dataframe tbody tr th {\n",
       "        vertical-align: top;\n",
       "    }\n",
       "\n",
       "    .dataframe thead th {\n",
       "        text-align: right;\n",
       "    }\n",
       "</style>\n",
       "<table border=\"1\" class=\"dataframe\">\n",
       "  <thead>\n",
       "    <tr style=\"text-align: right;\">\n",
       "      <th></th>\n",
       "      <th>DRIVERS_LICENSE_CLASS</th>\n",
       "      <th>SEX</th>\n",
       "      <th>AGE</th>\n",
       "      <th>SAFETY_EQUIPMENT</th>\n",
       "      <th>UNIT_TYPE</th>\n",
       "      <th>NUM_PASSENGERS</th>\n",
       "      <th>MAKE</th>\n",
       "      <th>MODEL</th>\n",
       "      <th>VEHICLE_DEFECT</th>\n",
       "      <th>VEHICLE_TYPE</th>\n",
       "      <th>...</th>\n",
       "      <th>ROAD_DEFECT</th>\n",
       "      <th>CRASH_TYPE</th>\n",
       "      <th>PRIM_CONTRIBUTORY_CAUSE</th>\n",
       "      <th>SEC_CONTRIBUTORY_CAUSE</th>\n",
       "      <th>STREET_DIRECTION</th>\n",
       "      <th>BEAT_OF_OCCURRENCE</th>\n",
       "      <th>CRASH_HOUR</th>\n",
       "      <th>CRASH_DAY_OF_WEEK</th>\n",
       "      <th>CRASH_MONTH</th>\n",
       "      <th>INJURY_LEVEL</th>\n",
       "    </tr>\n",
       "  </thead>\n",
       "  <tbody>\n",
       "    <tr>\n",
       "      <th>0</th>\n",
       "      <td>D</td>\n",
       "      <td>M</td>\n",
       "      <td>25.0</td>\n",
       "      <td>NONE PRESENT</td>\n",
       "      <td>DRIVER</td>\n",
       "      <td>0.0</td>\n",
       "      <td>HONDA</td>\n",
       "      <td>CIVIC</td>\n",
       "      <td>UNKNOWN</td>\n",
       "      <td>PASSENGER</td>\n",
       "      <td>...</td>\n",
       "      <td>NO DEFECTS</td>\n",
       "      <td>NO INJURY / DRIVE AWAY</td>\n",
       "      <td>UNABLE TO DETERMINE</td>\n",
       "      <td>NOT APPLICABLE</td>\n",
       "      <td>N</td>\n",
       "      <td>1531.0</td>\n",
       "      <td>3.0</td>\n",
       "      <td>7.0</td>\n",
       "      <td>9.0</td>\n",
       "      <td>0</td>\n",
       "    </tr>\n",
       "    <tr>\n",
       "      <th>1</th>\n",
       "      <td>NaN</td>\n",
       "      <td>M</td>\n",
       "      <td>37.0</td>\n",
       "      <td>SAFETY BELT USED</td>\n",
       "      <td>DRIVER</td>\n",
       "      <td>0.0</td>\n",
       "      <td>BUICK</td>\n",
       "      <td>ENCORE</td>\n",
       "      <td>NONE</td>\n",
       "      <td>PASSENGER</td>\n",
       "      <td>...</td>\n",
       "      <td>NO DEFECTS</td>\n",
       "      <td>NO INJURY / DRIVE AWAY</td>\n",
       "      <td>IMPROPER OVERTAKING/PASSING</td>\n",
       "      <td>FAILING TO REDUCE SPEED TO AVOID CRASH</td>\n",
       "      <td>W</td>\n",
       "      <td>613.0</td>\n",
       "      <td>22.0</td>\n",
       "      <td>2.0</td>\n",
       "      <td>4.0</td>\n",
       "      <td>0</td>\n",
       "    </tr>\n",
       "    <tr>\n",
       "      <th>2</th>\n",
       "      <td>NaN</td>\n",
       "      <td>X</td>\n",
       "      <td>NaN</td>\n",
       "      <td>USAGE UNKNOWN</td>\n",
       "      <td>DRIVER</td>\n",
       "      <td>0.0</td>\n",
       "      <td>UNKNOWN</td>\n",
       "      <td>UNKNOWN</td>\n",
       "      <td>NONE</td>\n",
       "      <td>PASSENGER</td>\n",
       "      <td>...</td>\n",
       "      <td>NO DEFECTS</td>\n",
       "      <td>NO INJURY / DRIVE AWAY</td>\n",
       "      <td>DRIVING SKILLS/KNOWLEDGE/EXPERIENCE</td>\n",
       "      <td>NOT APPLICABLE</td>\n",
       "      <td>W</td>\n",
       "      <td>821.0</td>\n",
       "      <td>5.0</td>\n",
       "      <td>1.0</td>\n",
       "      <td>11.0</td>\n",
       "      <td>0</td>\n",
       "    </tr>\n",
       "    <tr>\n",
       "      <th>3</th>\n",
       "      <td>NaN</td>\n",
       "      <td>X</td>\n",
       "      <td>NaN</td>\n",
       "      <td>USAGE UNKNOWN</td>\n",
       "      <td>DRIVER</td>\n",
       "      <td>0.0</td>\n",
       "      <td>UNKNOWN</td>\n",
       "      <td>UNKNOWN</td>\n",
       "      <td>UNKNOWN</td>\n",
       "      <td>UNKNOWN/NA</td>\n",
       "      <td>...</td>\n",
       "      <td>NO DEFECTS</td>\n",
       "      <td>NO INJURY / DRIVE AWAY</td>\n",
       "      <td>UNABLE TO DETERMINE</td>\n",
       "      <td>UNABLE TO DETERMINE</td>\n",
       "      <td>N</td>\n",
       "      <td>2023.0</td>\n",
       "      <td>8.0</td>\n",
       "      <td>1.0</td>\n",
       "      <td>11.0</td>\n",
       "      <td>0</td>\n",
       "    </tr>\n",
       "    <tr>\n",
       "      <th>4</th>\n",
       "      <td>NaN</td>\n",
       "      <td>X</td>\n",
       "      <td>NaN</td>\n",
       "      <td>USAGE UNKNOWN</td>\n",
       "      <td>DRIVER</td>\n",
       "      <td>0.0</td>\n",
       "      <td>UNKNOWN</td>\n",
       "      <td>UNKNOWN</td>\n",
       "      <td>UNKNOWN</td>\n",
       "      <td>UNKNOWN/NA</td>\n",
       "      <td>...</td>\n",
       "      <td>NO DEFECTS</td>\n",
       "      <td>NO INJURY / DRIVE AWAY</td>\n",
       "      <td>UNABLE TO DETERMINE</td>\n",
       "      <td>NOT APPLICABLE</td>\n",
       "      <td>S</td>\n",
       "      <td>223.0</td>\n",
       "      <td>10.0</td>\n",
       "      <td>1.0</td>\n",
       "      <td>11.0</td>\n",
       "      <td>0</td>\n",
       "    </tr>\n",
       "  </tbody>\n",
       "</table>\n",
       "<p>5 rows × 30 columns</p>\n",
       "</div>"
      ],
      "text/plain": [
       "  DRIVERS_LICENSE_CLASS SEX   AGE  SAFETY_EQUIPMENT UNIT_TYPE  NUM_PASSENGERS  \\\n",
       "0                     D   M  25.0      NONE PRESENT    DRIVER             0.0   \n",
       "1                   NaN   M  37.0  SAFETY BELT USED    DRIVER             0.0   \n",
       "2                   NaN   X   NaN     USAGE UNKNOWN    DRIVER             0.0   \n",
       "3                   NaN   X   NaN     USAGE UNKNOWN    DRIVER             0.0   \n",
       "4                   NaN   X   NaN     USAGE UNKNOWN    DRIVER             0.0   \n",
       "\n",
       "      MAKE    MODEL VEHICLE_DEFECT VEHICLE_TYPE  ... ROAD_DEFECT  \\\n",
       "0    HONDA    CIVIC        UNKNOWN    PASSENGER  ...  NO DEFECTS   \n",
       "1    BUICK   ENCORE           NONE    PASSENGER  ...  NO DEFECTS   \n",
       "2  UNKNOWN  UNKNOWN           NONE    PASSENGER  ...  NO DEFECTS   \n",
       "3  UNKNOWN  UNKNOWN        UNKNOWN   UNKNOWN/NA  ...  NO DEFECTS   \n",
       "4  UNKNOWN  UNKNOWN        UNKNOWN   UNKNOWN/NA  ...  NO DEFECTS   \n",
       "\n",
       "               CRASH_TYPE              PRIM_CONTRIBUTORY_CAUSE  \\\n",
       "0  NO INJURY / DRIVE AWAY                  UNABLE TO DETERMINE   \n",
       "1  NO INJURY / DRIVE AWAY          IMPROPER OVERTAKING/PASSING   \n",
       "2  NO INJURY / DRIVE AWAY  DRIVING SKILLS/KNOWLEDGE/EXPERIENCE   \n",
       "3  NO INJURY / DRIVE AWAY                  UNABLE TO DETERMINE   \n",
       "4  NO INJURY / DRIVE AWAY                  UNABLE TO DETERMINE   \n",
       "\n",
       "                   SEC_CONTRIBUTORY_CAUSE STREET_DIRECTION BEAT_OF_OCCURRENCE  \\\n",
       "0                          NOT APPLICABLE                N             1531.0   \n",
       "1  FAILING TO REDUCE SPEED TO AVOID CRASH                W              613.0   \n",
       "2                          NOT APPLICABLE                W              821.0   \n",
       "3                     UNABLE TO DETERMINE                N             2023.0   \n",
       "4                          NOT APPLICABLE                S              223.0   \n",
       "\n",
       "  CRASH_HOUR CRASH_DAY_OF_WEEK CRASH_MONTH INJURY_LEVEL  \n",
       "0        3.0               7.0         9.0            0  \n",
       "1       22.0               2.0         4.0            0  \n",
       "2        5.0               1.0        11.0            0  \n",
       "3        8.0               1.0        11.0            0  \n",
       "4       10.0               1.0        11.0            0  \n",
       "\n",
       "[5 rows x 30 columns]"
      ]
     },
     "execution_count": 9,
     "metadata": {},
     "output_type": "execute_result"
    }
   ],
   "source": [
    "unpickleFile = open('./Data/clean_joined_df.pkl', 'rb')\n",
    "df_clean = pickle.load(unpickleFile, encoding='bytes')\n",
    "df_clean.head()"
   ]
  },
  {
   "cell_type": "code",
   "execution_count": 18,
   "metadata": {
    "scrolled": true
   },
   "outputs": [],
   "source": [
    "x = list(df_clean['PRIM_CONTRIBUTORY_CAUSE'].value_counts().index)"
   ]
  },
  {
   "cell_type": "code",
   "execution_count": 19,
   "metadata": {},
   "outputs": [],
   "source": [
    "y = list(df_clean['PRIM_CONTRIBUTORY_CAUSE'].value_counts()[:])"
   ]
  },
  {
   "cell_type": "code",
   "execution_count": 21,
   "metadata": {},
   "outputs": [
    {
     "data": {
      "text/plain": [
       "[380362,\n",
       " 133013,\n",
       " 132795,\n",
       " 57294,\n",
       " 51012,\n",
       " 49737,\n",
       " 43608,\n",
       " 41129,\n",
       " 39791,\n",
       " 30957,\n",
       " 25028,\n",
       " 16357,\n",
       " 14059,\n",
       " 12537,\n",
       " 7708,\n",
       " 5924,\n",
       " 5860,\n",
       " 5605,\n",
       " 5466,\n",
       " 4681,\n",
       " 4244,\n",
       " 3208,\n",
       " 2863,\n",
       " 2417,\n",
       " 1768,\n",
       " 1673,\n",
       " 1612,\n",
       " 1517,\n",
       " 1374,\n",
       " 1008,\n",
       " 851,\n",
       " 586,\n",
       " 498,\n",
       " 449,\n",
       " 425,\n",
       " 384,\n",
       " 139,\n",
       " 92,\n",
       " 80,\n",
       " 35]"
      ]
     },
     "execution_count": 21,
     "metadata": {},
     "output_type": "execute_result"
    }
   ],
   "source": [
    "y"
   ]
  },
  {
   "cell_type": "code",
   "execution_count": 13,
   "metadata": {},
   "outputs": [
    {
     "ename": "SyntaxError",
     "evalue": "unexpected EOF while parsing (<ipython-input-13-34c110e86fd9>, line 1)",
     "output_type": "error",
     "traceback": [
      "\u001b[1;36m  File \u001b[1;32m\"<ipython-input-13-34c110e86fd9>\"\u001b[1;36m, line \u001b[1;32m1\u001b[0m\n\u001b[1;33m    cause1, count1 = zip(df_clean['PRIM_CONTRIBUTORY_CAUSE'].value_counts().index()\u001b[0m\n\u001b[1;37m                                                                                   ^\u001b[0m\n\u001b[1;31mSyntaxError\u001b[0m\u001b[1;31m:\u001b[0m unexpected EOF while parsing\n"
     ]
    }
   ],
   "source": [
    "cause1, count1 = zip(df_clean['PRIM_CONTRIBUTORY_CAUSE'].value_counts().index()"
   ]
  },
  {
   "cell_type": "code",
   "execution_count": 22,
   "metadata": {},
   "outputs": [
    {
     "name": "stderr",
     "output_type": "stream",
     "text": [
      "C:\\Users\\mitch\\anaconda3\\envs\\learn-env\\lib\\site-packages\\seaborn\\_decorators.py:36: FutureWarning: Pass the following variables as keyword args: x, y. From version 0.12, the only valid positional argument will be `data`, and passing other arguments without an explicit keyword will result in an error or misinterpretation.\n",
      "  warnings.warn(\n"
     ]
    },
    {
     "data": {
      "image/png": "[encoded data removed]",
      "text/plain": [
       "<Figure size 720x576 with 1 Axes>"
      ]
     },
     "metadata": {},
     "output_type": "display_data"
    }
   ],
   "source": [
    "# graph of all crash causes\n",
    "sns.set_theme(style=\"whitegrid\")\n",
    "plt.figure(figsize=(10,8))\n",
    "ax = sns.barplot(x, y);"
   ]
  },
  {
   "cell_type": "code",
   "execution_count": 25,
   "metadata": {},
   "outputs": [
    {
     "name": "stderr",
     "output_type": "stream",
     "text": [
      "C:\\Users\\mitch\\anaconda3\\envs\\learn-env\\lib\\site-packages\\seaborn\\_decorators.py:36: FutureWarning: Pass the following variables as keyword args: x, y. From version 0.12, the only valid positional argument will be `data`, and passing other arguments without an explicit keyword will result in an error or misinterpretation.\n",
      "  warnings.warn(\n"
     ]
    },
    {
     "data": {
      "image/png": "[encoded data removed]",
      "text/plain": [
       "<Figure size 720x576 with 1 Axes>"
      ]
     },
     "metadata": {},
     "output_type": "display_data"
    }
   ],
   "source": [
    "# top 4 crash causes\n",
    "x = list(df_final['PRIM_CONTRIBUTORY_CAUSE'].value_counts().index)\n",
    "y = list(df_final['PRIM_CONTRIBUTORY_CAUSE'].value_counts()[:])\n",
    "plt.figure(figsize=(10,8))\n",
    "ax = sns.barplot(x, y)\n",
    "ax.set_xticklabels(ax.get_xticklabels(),rotation = 30);"
   ]
  },
  {
   "cell_type": "code",
   "execution_count": 28,
   "metadata": {},
   "outputs": [
    {
     "data": {
      "text/plain": [
       "0.21184105809330733"
      ]
     },
     "execution_count": 28,
     "metadata": {},
     "output_type": "execute_result"
    }
   ],
   "source": [
    "df_final.shape[0]/df_clean.shape[0]"
   ]
  },
  {
   "cell_type": "code",
   "execution_count": 34,
   "metadata": {
    "scrolled": true
   },
   "outputs": [
    {
     "data": {
      "text/plain": [
       "SEX                         object\n",
       "AGE                        float64\n",
       "MANEUVER                    object\n",
       "FIRST_CONTACT_POINT         object\n",
       "LIGHTING_CONDITION          object\n",
       "CRASH_TYPE                  object\n",
       "PRIM_CONTRIBUTORY_CAUSE     object\n",
       "STREET_DIRECTION            object\n",
       "CRASH_HOUR                 float64\n",
       "CRASH_DAY_OF_WEEK          float64\n",
       "CRASH_MONTH                float64\n",
       "INJURY_LEVEL                object\n",
       "se_simple                   object\n",
       "passengers_simple           object\n",
       "defect_simple               object\n",
       "vehicletype_simple          object\n",
       "vehicleuse_simple           object\n",
       "speedlimit_simple           object\n",
       "weather_simple              object\n",
       "roadcond_simple             object\n",
       "roaddef_simple              object\n",
       "trafficway_simple           object\n",
       "alignment_simple            object\n",
       "dtype: object"
      ]
     },
     "execution_count": 34,
     "metadata": {},
     "output_type": "execute_result"
    }
   ],
   "source": [
    "df_final.dtypes"
   ]
  },
  {
   "cell_type": "code",
   "execution_count": 35,
   "metadata": {},
   "outputs": [
    {
     "data": {
      "text/plain": [
       "DAYLIGHT                  164812\n",
       "DARKNESS, LIGHTED ROAD     44809\n",
       "DARKNESS                    8481\n",
       "DUSK                        7108\n",
       "DAWN                        3434\n",
       "UNKNOWN                     1870\n",
       "Name: LIGHTING_CONDITION, dtype: int64"
      ]
     },
     "execution_count": 35,
     "metadata": {},
     "output_type": "execute_result"
    }
   ],
   "source": [
    "df_final.LIGHTING_CONDITION.value_counts()"
   ]
  },
  {
   "cell_type": "code",
   "execution_count": 32,
   "metadata": {},
   "outputs": [
    {
     "data": {
      "text/plain": [
       "clear/unknown    191536\n",
       "rain              30647\n",
       "snow               6793\n",
       "other              1538\n",
       "Name: weather_simple, dtype: int64"
      ]
     },
     "execution_count": 32,
     "metadata": {},
     "output_type": "execute_result"
    }
   ],
   "source": [
    "df_final['weather_simple'].value_counts()"
   ]
  },
  {
   "cell_type": "code",
   "execution_count": null,
   "metadata": {},
   "outputs": [],
   "source": []
  }
 ],
 "metadata": {
  "kernelspec": {
   "display_name": "Python (learn-env)",
   "language": "python",
   "name": "learn-env"
  },
  "language_info": {
   "codemirror_mode": {
    "name": "ipython",
    "version": 3
   },
   "file_extension": ".py",
   "mimetype": "text/x-python",
   "name": "python",
   "nbconvert_exporter": "python",
   "pygments_lexer": "ipython3",
   "version": "3.8.5"
  }
 },
 "nbformat": 4,
 "nbformat_minor": 4
}
