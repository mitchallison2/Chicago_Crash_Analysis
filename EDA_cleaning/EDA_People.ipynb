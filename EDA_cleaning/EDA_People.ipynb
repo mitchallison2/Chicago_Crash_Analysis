{
 "cells": [
  {
   "cell_type": "code",
   "execution_count": 1,
   "metadata": {},
   "outputs": [],
   "source": [
    "import pandas as pd\n",
    "import numpy as np\n",
    "from matplotlib import pyplot as plt\n",
    "import seaborn as sns\n",
    "\n",
    "from sklearn.model_selection import train_test_split, GridSearchCV, cross_val_score\n",
    "from sklearn.pipeline import Pipeline\n",
    "from sklearn.preprocessing import StandardScaler, OneHotEncoder, FunctionTransformer\n",
    "from sklearn.impute import SimpleImputer\n",
    "from sklearn.compose import ColumnTransformer,  make_column_selector as selector\n",
    "from sklearn.linear_model import LogisticRegression\n",
    "from sklearn.ensemble import RandomForestClassifier, GradientBoostingClassifier\n",
    "from sklearn.metrics import plot_confusion_matrix, recall_score,\\\n",
    "    accuracy_score, precision_score, f1_score\n",
    "\n",
    "from sklearn.dummy import DummyClassifier\n",
    "\n",
    "from imblearn.over_sampling import SMOTE\n",
    "from imblearn.pipeline import Pipeline as ImPipeline\n",
    "\n",
    "from sklearn.multioutput import MultiOutputClassifier"
   ]
  },
  {
   "cell_type": "code",
   "execution_count": 2,
   "metadata": {},
   "outputs": [
    {
     "name": "stderr",
     "output_type": "stream",
     "text": [
      "C:\\Users\\mitch\\anaconda3\\envs\\learn-env\\lib\\site-packages\\IPython\\core\\interactiveshell.py:3145: DtypeWarning: Columns (20,24,25,26,29) have mixed types.Specify dtype option on import or set low_memory=False.\n",
      "  has_raised = await self.run_ast_nodes(code_ast.body, cell_name,\n"
     ]
    }
   ],
   "source": [
    "df = pd.read_csv('../Datasets/Traffic_Crashes_-_People.csv')"
   ]
  },
  {
   "cell_type": "code",
   "execution_count": 3,
   "metadata": {},
   "outputs": [
    {
     "data": {
      "text/plain": [
       "Index(['PERSON_ID', 'PERSON_TYPE', 'CRASH_RECORD_ID', 'RD_NO', 'VEHICLE_ID',\n",
       "       'CRASH_DATE', 'SEAT_NO', 'CITY', 'STATE', 'ZIPCODE', 'SEX', 'AGE',\n",
       "       'DRIVERS_LICENSE_STATE', 'DRIVERS_LICENSE_CLASS', 'SAFETY_EQUIPMENT',\n",
       "       'AIRBAG_DEPLOYED', 'EJECTION', 'INJURY_CLASSIFICATION', 'HOSPITAL',\n",
       "       'EMS_AGENCY', 'EMS_RUN_NO', 'DRIVER_ACTION', 'DRIVER_VISION',\n",
       "       'PHYSICAL_CONDITION', 'PEDPEDAL_ACTION', 'PEDPEDAL_VISIBILITY',\n",
       "       'PEDPEDAL_LOCATION', 'BAC_RESULT', 'BAC_RESULT VALUE',\n",
       "       'CELL_PHONE_USE'],\n",
       "      dtype='object')"
      ]
     },
     "execution_count": 3,
     "metadata": {},
     "output_type": "execute_result"
    }
   ],
   "source": [
    "df.columns"
   ]
  },
  {
   "cell_type": "code",
   "execution_count": 4,
   "metadata": {},
   "outputs": [
    {
     "data": {
      "text/plain": [
       "(1412636, 30)"
      ]
     },
     "execution_count": 4,
     "metadata": {},
     "output_type": "execute_result"
    }
   ],
   "source": [
    "df.shape"
   ]
  },
  {
   "cell_type": "code",
   "execution_count": 5,
   "metadata": {},
   "outputs": [],
   "source": [
    "clean_people = df[['PERSON_ID', 'CRASH_RECORD_ID', 'VEHICLE_ID', 'DRIVERS_LICENSE_CLASS',\n",
    "              'SEX', 'AGE', 'SAFETY_EQUIPMENT'\n",
    "              ]]"
   ]
  },
  {
   "cell_type": "code",
   "execution_count": 6,
   "metadata": {
    "scrolled": true
   },
   "outputs": [
    {
     "data": {
      "text/plain": [
       "PERSON_ID                 object\n",
       "CRASH_RECORD_ID           object\n",
       "VEHICLE_ID               float64\n",
       "DRIVERS_LICENSE_CLASS     object\n",
       "SEX                       object\n",
       "AGE                      float64\n",
       "SAFETY_EQUIPMENT          object\n",
       "dtype: object"
      ]
     },
     "execution_count": 6,
     "metadata": {},
     "output_type": "execute_result"
    }
   ],
   "source": [
    "clean_people.dtypes"
   ]
  },
  {
   "cell_type": "code",
   "execution_count": 7,
   "metadata": {},
   "outputs": [
    {
     "data": {
      "text/plain": [
       "(1412636, 7)"
      ]
     },
     "execution_count": 7,
     "metadata": {},
     "output_type": "execute_result"
    }
   ],
   "source": [
    "clean_people.shape"
   ]
  },
  {
   "cell_type": "code",
   "execution_count": 116,
   "metadata": {},
   "outputs": [],
   "source": [
    "# drop rows where ID for people starts with P(Passenger)\n",
    "# Assuming that the driver is at fault for the crash\n",
    "clean_people = clean_people[clean_people[\"PERSON_ID\"].str.contains((\"P\"))==False]"
   ]
  },
  {
   "cell_type": "code",
   "execution_count": 117,
   "metadata": {
    "scrolled": true
   },
   "outputs": [
    {
     "data": {
      "text/plain": [
       "PERSON_ID                 object\n",
       "CRASH_RECORD_ID           object\n",
       "VEHICLE_ID               float64\n",
       "DRIVERS_LICENSE_CLASS     object\n",
       "SEX                       object\n",
       "AGE                      float64\n",
       "SAFETY_EQUIPMENT          object\n",
       "dtype: object"
      ]
     },
     "execution_count": 117,
     "metadata": {},
     "output_type": "execute_result"
    }
   ],
   "source": [
    "clean_people.dtypes"
   ]
  },
  {
   "cell_type": "code",
   "execution_count": 118,
   "metadata": {},
   "outputs": [
    {
     "data": {
      "text/plain": [
       " 27.0     24384\n",
       " 25.0     24334\n",
       " 26.0     24206\n",
       " 28.0     23835\n",
       " 29.0     23369\n",
       "          ...  \n",
       " 102.0        2\n",
       "-47.0         1\n",
       "-177.0        1\n",
       "-1.0          1\n",
       "-49.0         1\n",
       "Name: AGE, Length: 113, dtype: int64"
      ]
     },
     "execution_count": 118,
     "metadata": {},
     "output_type": "execute_result"
    }
   ],
   "source": [
    "clean_people.AGE.value_counts()"
   ]
  },
  {
   "cell_type": "code",
   "execution_count": 119,
   "metadata": {},
   "outputs": [],
   "source": [
    "# drop negative value\n",
    "# can't do this yet: deletes nans\n",
    "# clean_people = clean_people[clean_people[\"AGE\"] > 0]"
   ]
  },
  {
   "cell_type": "code",
   "execution_count": 120,
   "metadata": {
    "scrolled": false
   },
   "outputs": [
    {
     "data": {
      "text/plain": [
       " 27.0     24384\n",
       " 25.0     24334\n",
       " 26.0     24206\n",
       " 28.0     23835\n",
       " 29.0     23369\n",
       "          ...  \n",
       " 102.0        2\n",
       "-47.0         1\n",
       "-177.0        1\n",
       "-1.0          1\n",
       "-49.0         1\n",
       "Name: AGE, Length: 113, dtype: int64"
      ]
     },
     "execution_count": 120,
     "metadata": {},
     "output_type": "execute_result"
    }
   ],
   "source": [
    "clean_people.AGE.value_counts()"
   ]
  },
  {
   "cell_type": "code",
   "execution_count": 121,
   "metadata": {
    "scrolled": false
   },
   "outputs": [
    {
     "data": {
      "text/plain": [
       "PERSON_ID                     0\n",
       "CRASH_RECORD_ID               0\n",
       "VEHICLE_ID                27644\n",
       "DRIVERS_LICENSE_CLASS    418809\n",
       "SEX                        1015\n",
       "AGE                      297453\n",
       "SAFETY_EQUIPMENT           3793\n",
       "dtype: int64"
      ]
     },
     "execution_count": 121,
     "metadata": {},
     "output_type": "execute_result"
    }
   ],
   "source": [
    "clean_people.isna().sum()"
   ]
  },
  {
   "cell_type": "code",
   "execution_count": 122,
   "metadata": {},
   "outputs": [],
   "source": [
    "# Not assuming sex of driver\n",
    "clean_people['SEX'].fillna('X', inplace=True)\n",
    "# df[1].fillna(0, inplace=True)"
   ]
  },
  {
   "cell_type": "code",
   "execution_count": null,
   "metadata": {},
   "outputs": [],
   "source": []
  },
  {
   "cell_type": "code",
   "execution_count": 123,
   "metadata": {
    "scrolled": true
   },
   "outputs": [
    {
     "data": {
      "text/plain": [
       "D     616038\n",
       "A      24453\n",
       "C      19321\n",
       "B      18854\n",
       "DM     11055\n",
       "       ...  \n",
       "MA         1\n",
       "?          1\n",
       "BX         1\n",
       "A2         1\n",
       "DP         1\n",
       "Name: DRIVERS_LICENSE_CLASS, Length: 257, dtype: int64"
      ]
     },
     "execution_count": 123,
     "metadata": {},
     "output_type": "execute_result"
    }
   ],
   "source": [
    "# Driver license missing will need to be imputed with most common\n",
    "clean_people.DRIVERS_LICENSE_CLASS.value_counts()"
   ]
  },
  {
   "cell_type": "code",
   "execution_count": 124,
   "metadata": {},
   "outputs": [],
   "source": [
    "y=0"
   ]
  },
  {
   "cell_type": "code",
   "execution_count": 125,
   "metadata": {},
   "outputs": [],
   "source": [
    "# SI = SimpleImputer(missing_values=np.nan, )\n",
    "# clean_people.AGE = SI.fit_transform(clean_people.AGE, y)"
   ]
  },
  {
   "cell_type": "code",
   "execution_count": 126,
   "metadata": {
    "scrolled": false
   },
   "outputs": [
    {
     "data": {
      "text/plain": [
       "SAFETY BELT USED                              541871\n",
       "USAGE UNKNOWN                                 531166\n",
       "NONE PRESENT                                   33655\n",
       "HELMET NOT USED                                 5848\n",
       "SAFETY BELT NOT USED                            4579\n",
       "BICYCLE HELMET (PEDACYCLIST INVOLVED ONLY)      2198\n",
       "HELMET USED                                     1332\n",
       "DOT COMPLIANT MOTORCYCLE HELMET                  846\n",
       "NOT DOT COMPLIANT MOTORCYCLE HELMET              169\n",
       "SHOULD/LAP BELT USED IMPROPERLY                  122\n",
       "WHEELCHAIR                                        82\n",
       "CHILD RESTRAINT USED                              11\n",
       "CHILD RESTRAINT NOT USED                           5\n",
       "STRETCHER                                          3\n",
       "CHILD RESTRAINT - TYPE UNKNOWN                     2\n",
       "CHILD RESTRAINT - FORWARD FACING                   2\n",
       "BOOSTER SEAT                                       1\n",
       "Name: SAFETY_EQUIPMENT, dtype: int64"
      ]
     },
     "execution_count": 126,
     "metadata": {},
     "output_type": "execute_result"
    }
   ],
   "source": [
    "clean_people.SAFETY_EQUIPMENT.value_counts()"
   ]
  },
  {
   "cell_type": "code",
   "execution_count": 127,
   "metadata": {
    "scrolled": true
   },
   "outputs": [
    {
     "data": {
      "text/plain": [
       "PERSON_ID                     0\n",
       "CRASH_RECORD_ID               0\n",
       "VEHICLE_ID                27644\n",
       "DRIVERS_LICENSE_CLASS    418809\n",
       "SEX                           0\n",
       "AGE                      297453\n",
       "SAFETY_EQUIPMENT           3793\n",
       "dtype: int64"
      ]
     },
     "execution_count": 127,
     "metadata": {},
     "output_type": "execute_result"
    }
   ],
   "source": [
    "clean_people.isna().sum()"
   ]
  },
  {
   "cell_type": "code",
   "execution_count": 128,
   "metadata": {},
   "outputs": [
    {
     "data": {
      "text/plain": [
       "(1125685, 7)"
      ]
     },
     "execution_count": 128,
     "metadata": {},
     "output_type": "execute_result"
    }
   ],
   "source": [
    "clean_people.shape"
   ]
  },
  {
   "cell_type": "code",
   "execution_count": 129,
   "metadata": {},
   "outputs": [],
   "source": [
    "# DRIVERS_LICENSE_CLASS - impute w/ most common\n",
    "# AGE - impute w/ mean\n",
    "# SAFETY_EQUIPMENT - can drop rows missing safety equipment"
   ]
  },
  {
   "cell_type": "code",
   "execution_count": 130,
   "metadata": {},
   "outputs": [
    {
     "data": {
      "text/plain": [
       "PERSON_ID                     0\n",
       "CRASH_RECORD_ID               0\n",
       "VEHICLE_ID                23862\n",
       "DRIVERS_LICENSE_CLASS    415017\n",
       "SEX                           0\n",
       "AGE                      296536\n",
       "SAFETY_EQUIPMENT              0\n",
       "dtype: int64"
      ]
     },
     "execution_count": 130,
     "metadata": {},
     "output_type": "execute_result"
    }
   ],
   "source": [
    "clean_people.dropna(subset=['SAFETY_EQUIPMENT'], inplace=True)\n",
    "clean_people.isna().sum()"
   ]
  },
  {
   "cell_type": "code",
   "execution_count": 131,
   "metadata": {},
   "outputs": [],
   "source": [
    "subpipe_num = Pipeline(steps=[\n",
    "    ('num_impute', SimpleImputer(strategy='mean')),\n",
    "    ('ss', StandardScaler())\n",
    "])\n",
    "\n",
    "\n",
    "subpipe_cat = Pipeline(steps=[\n",
    "    ('cat_impute',SimpleImputer(strategy='most_frequent')),\n",
    "    ('ohe', OneHotEncoder(sparse=False, handle_unknown='ignore'))\n",
    "])\n",
    "\n",
    "CT = ColumnTransformer(transformers=[\n",
    "    ('subpipe_num', subpipe_num, selector(dtype_include=np.number)),\n",
    "    ('subpipe_cat', subpipe_cat, selector(dtype_include=object))], remainder='passthrough')"
   ]
  },
  {
   "cell_type": "code",
   "execution_count": 132,
   "metadata": {},
   "outputs": [],
   "source": [
    "# Can't do transforms here because it'll allow data leakage!!!! DANG!\n",
    "# CT.fit_transform(clean_people, )"
   ]
  },
  {
   "cell_type": "code",
   "execution_count": 133,
   "metadata": {},
   "outputs": [],
   "source": [
    "# pickle df to combine with crash and vehicle df's\n",
    "clean_people.to_pickle(\"./Data/clean_people.pkl\")"
   ]
  },
  {
   "cell_type": "code",
   "execution_count": null,
   "metadata": {},
   "outputs": [],
   "source": []
  }
 ],
 "metadata": {
  "kernelspec": {
   "display_name": "Python (learn-env)",
   "language": "python",
   "name": "learn-env"
  },
  "language_info": {
   "codemirror_mode": {
    "name": "ipython",
    "version": 3
   },
   "file_extension": ".py",
   "mimetype": "text/x-python",
   "name": "python",
   "nbconvert_exporter": "python",
   "pygments_lexer": "ipython3",
   "version": "3.8.5"
  }
 },
 "nbformat": 4,
 "nbformat_minor": 4
}
