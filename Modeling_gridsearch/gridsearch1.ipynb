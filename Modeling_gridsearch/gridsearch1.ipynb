{
 "cells": [
  {
   "cell_type": "code",
   "execution_count": 14,
   "metadata": {},
   "outputs": [],
   "source": [
    "import pandas as pd\n",
    "import numpy as np\n",
    "from matplotlib import pyplot as plt\n",
    "import seaborn as sns\n",
    "\n",
    "from sklearn.model_selection import train_test_split, GridSearchCV, cross_val_score\n",
    "from sklearn.pipeline import Pipeline\n",
    "from sklearn.preprocessing import StandardScaler, OneHotEncoder, FunctionTransformer, LabelEncoder\n",
    "from sklearn.impute import SimpleImputer\n",
    "from sklearn.compose import ColumnTransformer,  make_column_selector as selector\n",
    "from sklearn.linear_model import LogisticRegression\n",
    "from sklearn.ensemble import RandomForestClassifier, GradientBoostingClassifier\n",
    "from sklearn.metrics import plot_confusion_matrix, recall_score,\\\n",
    "    accuracy_score, precision_score, f1_score\n",
    "\n",
    "from sklearn.dummy import DummyClassifier\n",
    "\n",
    "from imblearn.over_sampling import SMOTE\n",
    "from imblearn.pipeline import Pipeline as ImPipeline\n",
    "\n",
    "from sklearn.multioutput import MultiOutputClassifier\n",
    "\n",
    "from sklearn.tree import DecisionTreeClassifier\n",
    "\n",
    "import pickle"
   ]
  },
  {
   "cell_type": "code",
   "execution_count": 15,
   "metadata": {
    "scrolled": true
   },
   "outputs": [
    {
     "data": {
      "text/html": [
       "<div>\n",
       "<style scoped>\n",
       "    .dataframe tbody tr th:only-of-type {\n",
       "        vertical-align: middle;\n",
       "    }\n",
       "\n",
       "    .dataframe tbody tr th {\n",
       "        vertical-align: top;\n",
       "    }\n",
       "\n",
       "    .dataframe thead th {\n",
       "        text-align: right;\n",
       "    }\n",
       "</style>\n",
       "<table border=\"1\" class=\"dataframe\">\n",
       "  <thead>\n",
       "    <tr style=\"text-align: right;\">\n",
       "      <th></th>\n",
       "      <th>DRIVERS_LICENSE_CLASS</th>\n",
       "      <th>SEX</th>\n",
       "      <th>AGE</th>\n",
       "      <th>SAFETY_EQUIPMENT</th>\n",
       "      <th>UNIT_TYPE</th>\n",
       "      <th>NUM_PASSENGERS</th>\n",
       "      <th>MAKE</th>\n",
       "      <th>MODEL</th>\n",
       "      <th>VEHICLE_DEFECT</th>\n",
       "      <th>VEHICLE_TYPE</th>\n",
       "      <th>...</th>\n",
       "      <th>ROAD_DEFECT</th>\n",
       "      <th>CRASH_TYPE</th>\n",
       "      <th>PRIM_CONTRIBUTORY_CAUSE</th>\n",
       "      <th>SEC_CONTRIBUTORY_CAUSE</th>\n",
       "      <th>STREET_DIRECTION</th>\n",
       "      <th>BEAT_OF_OCCURRENCE</th>\n",
       "      <th>CRASH_HOUR</th>\n",
       "      <th>CRASH_DAY_OF_WEEK</th>\n",
       "      <th>CRASH_MONTH</th>\n",
       "      <th>INJURY_LEVEL</th>\n",
       "    </tr>\n",
       "  </thead>\n",
       "  <tbody>\n",
       "    <tr>\n",
       "      <th>0</th>\n",
       "      <td>D</td>\n",
       "      <td>M</td>\n",
       "      <td>25.0</td>\n",
       "      <td>NONE PRESENT</td>\n",
       "      <td>DRIVER</td>\n",
       "      <td>0.0</td>\n",
       "      <td>HONDA</td>\n",
       "      <td>CIVIC</td>\n",
       "      <td>UNKNOWN</td>\n",
       "      <td>PASSENGER</td>\n",
       "      <td>...</td>\n",
       "      <td>NO DEFECTS</td>\n",
       "      <td>NO INJURY / DRIVE AWAY</td>\n",
       "      <td>UNABLE TO DETERMINE</td>\n",
       "      <td>NOT APPLICABLE</td>\n",
       "      <td>N</td>\n",
       "      <td>1531.0</td>\n",
       "      <td>3.0</td>\n",
       "      <td>7.0</td>\n",
       "      <td>9.0</td>\n",
       "      <td>0</td>\n",
       "    </tr>\n",
       "    <tr>\n",
       "      <th>1</th>\n",
       "      <td>NaN</td>\n",
       "      <td>M</td>\n",
       "      <td>37.0</td>\n",
       "      <td>SAFETY BELT USED</td>\n",
       "      <td>DRIVER</td>\n",
       "      <td>0.0</td>\n",
       "      <td>BUICK</td>\n",
       "      <td>ENCORE</td>\n",
       "      <td>NONE</td>\n",
       "      <td>PASSENGER</td>\n",
       "      <td>...</td>\n",
       "      <td>NO DEFECTS</td>\n",
       "      <td>NO INJURY / DRIVE AWAY</td>\n",
       "      <td>IMPROPER OVERTAKING/PASSING</td>\n",
       "      <td>FAILING TO REDUCE SPEED TO AVOID CRASH</td>\n",
       "      <td>W</td>\n",
       "      <td>613.0</td>\n",
       "      <td>22.0</td>\n",
       "      <td>2.0</td>\n",
       "      <td>4.0</td>\n",
       "      <td>0</td>\n",
       "    </tr>\n",
       "    <tr>\n",
       "      <th>2</th>\n",
       "      <td>NaN</td>\n",
       "      <td>X</td>\n",
       "      <td>NaN</td>\n",
       "      <td>USAGE UNKNOWN</td>\n",
       "      <td>DRIVER</td>\n",
       "      <td>0.0</td>\n",
       "      <td>UNKNOWN</td>\n",
       "      <td>UNKNOWN</td>\n",
       "      <td>NONE</td>\n",
       "      <td>PASSENGER</td>\n",
       "      <td>...</td>\n",
       "      <td>NO DEFECTS</td>\n",
       "      <td>NO INJURY / DRIVE AWAY</td>\n",
       "      <td>DRIVING SKILLS/KNOWLEDGE/EXPERIENCE</td>\n",
       "      <td>NOT APPLICABLE</td>\n",
       "      <td>W</td>\n",
       "      <td>821.0</td>\n",
       "      <td>5.0</td>\n",
       "      <td>1.0</td>\n",
       "      <td>11.0</td>\n",
       "      <td>0</td>\n",
       "    </tr>\n",
       "    <tr>\n",
       "      <th>3</th>\n",
       "      <td>NaN</td>\n",
       "      <td>X</td>\n",
       "      <td>NaN</td>\n",
       "      <td>USAGE UNKNOWN</td>\n",
       "      <td>DRIVER</td>\n",
       "      <td>0.0</td>\n",
       "      <td>UNKNOWN</td>\n",
       "      <td>UNKNOWN</td>\n",
       "      <td>UNKNOWN</td>\n",
       "      <td>UNKNOWN/NA</td>\n",
       "      <td>...</td>\n",
       "      <td>NO DEFECTS</td>\n",
       "      <td>NO INJURY / DRIVE AWAY</td>\n",
       "      <td>UNABLE TO DETERMINE</td>\n",
       "      <td>UNABLE TO DETERMINE</td>\n",
       "      <td>N</td>\n",
       "      <td>2023.0</td>\n",
       "      <td>8.0</td>\n",
       "      <td>1.0</td>\n",
       "      <td>11.0</td>\n",
       "      <td>0</td>\n",
       "    </tr>\n",
       "    <tr>\n",
       "      <th>4</th>\n",
       "      <td>NaN</td>\n",
       "      <td>X</td>\n",
       "      <td>NaN</td>\n",
       "      <td>USAGE UNKNOWN</td>\n",
       "      <td>DRIVER</td>\n",
       "      <td>0.0</td>\n",
       "      <td>UNKNOWN</td>\n",
       "      <td>UNKNOWN</td>\n",
       "      <td>UNKNOWN</td>\n",
       "      <td>UNKNOWN/NA</td>\n",
       "      <td>...</td>\n",
       "      <td>NO DEFECTS</td>\n",
       "      <td>NO INJURY / DRIVE AWAY</td>\n",
       "      <td>UNABLE TO DETERMINE</td>\n",
       "      <td>NOT APPLICABLE</td>\n",
       "      <td>S</td>\n",
       "      <td>223.0</td>\n",
       "      <td>10.0</td>\n",
       "      <td>1.0</td>\n",
       "      <td>11.0</td>\n",
       "      <td>0</td>\n",
       "    </tr>\n",
       "  </tbody>\n",
       "</table>\n",
       "<p>5 rows × 30 columns</p>\n",
       "</div>"
      ],
      "text/plain": [
       "  DRIVERS_LICENSE_CLASS SEX   AGE  SAFETY_EQUIPMENT UNIT_TYPE  NUM_PASSENGERS  \\\n",
       "0                     D   M  25.0      NONE PRESENT    DRIVER             0.0   \n",
       "1                   NaN   M  37.0  SAFETY BELT USED    DRIVER             0.0   \n",
       "2                   NaN   X   NaN     USAGE UNKNOWN    DRIVER             0.0   \n",
       "3                   NaN   X   NaN     USAGE UNKNOWN    DRIVER             0.0   \n",
       "4                   NaN   X   NaN     USAGE UNKNOWN    DRIVER             0.0   \n",
       "\n",
       "      MAKE    MODEL VEHICLE_DEFECT VEHICLE_TYPE  ... ROAD_DEFECT  \\\n",
       "0    HONDA    CIVIC        UNKNOWN    PASSENGER  ...  NO DEFECTS   \n",
       "1    BUICK   ENCORE           NONE    PASSENGER  ...  NO DEFECTS   \n",
       "2  UNKNOWN  UNKNOWN           NONE    PASSENGER  ...  NO DEFECTS   \n",
       "3  UNKNOWN  UNKNOWN        UNKNOWN   UNKNOWN/NA  ...  NO DEFECTS   \n",
       "4  UNKNOWN  UNKNOWN        UNKNOWN   UNKNOWN/NA  ...  NO DEFECTS   \n",
       "\n",
       "               CRASH_TYPE              PRIM_CONTRIBUTORY_CAUSE  \\\n",
       "0  NO INJURY / DRIVE AWAY                  UNABLE TO DETERMINE   \n",
       "1  NO INJURY / DRIVE AWAY          IMPROPER OVERTAKING/PASSING   \n",
       "2  NO INJURY / DRIVE AWAY  DRIVING SKILLS/KNOWLEDGE/EXPERIENCE   \n",
       "3  NO INJURY / DRIVE AWAY                  UNABLE TO DETERMINE   \n",
       "4  NO INJURY / DRIVE AWAY                  UNABLE TO DETERMINE   \n",
       "\n",
       "                   SEC_CONTRIBUTORY_CAUSE STREET_DIRECTION BEAT_OF_OCCURRENCE  \\\n",
       "0                          NOT APPLICABLE                N             1531.0   \n",
       "1  FAILING TO REDUCE SPEED TO AVOID CRASH                W              613.0   \n",
       "2                          NOT APPLICABLE                W              821.0   \n",
       "3                     UNABLE TO DETERMINE                N             2023.0   \n",
       "4                          NOT APPLICABLE                S              223.0   \n",
       "\n",
       "  CRASH_HOUR CRASH_DAY_OF_WEEK CRASH_MONTH INJURY_LEVEL  \n",
       "0        3.0               7.0         9.0            0  \n",
       "1       22.0               2.0         4.0            0  \n",
       "2        5.0               1.0        11.0            0  \n",
       "3        8.0               1.0        11.0            0  \n",
       "4       10.0               1.0        11.0            0  \n",
       "\n",
       "[5 rows x 30 columns]"
      ]
     },
     "execution_count": 15,
     "metadata": {},
     "output_type": "execute_result"
    }
   ],
   "source": [
    "unpickleFile = open('./Data/clean_joined_df.pkl', 'rb')\n",
    "df = pickle.load(unpickleFile, encoding='bytes')\n",
    "df.head()"
   ]
  },
  {
   "cell_type": "code",
   "execution_count": 16,
   "metadata": {
    "scrolled": true
   },
   "outputs": [
    {
     "data": {
      "text/plain": [
       "UNABLE TO DETERMINE                                                                 380362\n",
       "FAILING TO YIELD RIGHT-OF-WAY                                                       133013\n",
       "FOLLOWING TOO CLOSELY                                                               132795\n",
       "IMPROPER OVERTAKING/PASSING                                                          57294\n",
       "FAILING TO REDUCE SPEED TO AVOID CRASH                                               51012\n",
       "NOT APPLICABLE                                                                       49737\n",
       "IMPROPER LANE USAGE                                                                  43608\n",
       "IMPROPER BACKING                                                                     41129\n",
       "IMPROPER TURNING/NO SIGNAL                                                           39791\n",
       "DRIVING SKILLS/KNOWLEDGE/EXPERIENCE                                                  30957\n",
       "DISREGARDING TRAFFIC SIGNALS                                                         25028\n",
       "WEATHER                                                                              16357\n",
       "DISREGARDING STOP SIGN                                                               14059\n",
       "OPERATING VEHICLE IN ERRATIC, RECKLESS, CARELESS, NEGLIGENT OR AGGRESSIVE MANNER     12537\n",
       "DISTRACTION - FROM INSIDE VEHICLE                                                     7708\n",
       "VISION OBSCURED (SIGNS, TREE LIMBS, BUILDINGS, ETC.)                                  5924\n",
       "EQUIPMENT - VEHICLE CONDITION                                                         5860\n",
       "DRIVING ON WRONG SIDE/WRONG WAY                                                       5605\n",
       "PHYSICAL CONDITION OF DRIVER                                                          5466\n",
       "UNDER THE INFLUENCE OF ALCOHOL/DRUGS (USE WHEN ARREST IS EFFECTED)                    4681\n",
       "DISTRACTION - FROM OUTSIDE VEHICLE                                                    4244\n",
       "EXCEEDING AUTHORIZED SPEED LIMIT                                                      3208\n",
       "EXCEEDING SAFE SPEED FOR CONDITIONS                                                   2863\n",
       "DISREGARDING OTHER TRAFFIC SIGNS                                                      2417\n",
       "ROAD CONSTRUCTION/MAINTENANCE                                                         1768\n",
       "EVASIVE ACTION DUE TO ANIMAL, OBJECT, NONMOTORIST                                     1673\n",
       "ROAD ENGINEERING/SURFACE/MARKING DEFECTS                                              1612\n",
       "CELL PHONE USE OTHER THAN TEXTING                                                     1517\n",
       "DISREGARDING ROAD MARKINGS                                                            1374\n",
       "HAD BEEN DRINKING (USE WHEN ARREST IS NOT MADE)                                       1008\n",
       "TURNING RIGHT ON RED                                                                   851\n",
       "ANIMAL                                                                                 586\n",
       "DISTRACTION - OTHER ELECTRONIC DEVICE (NAVIGATION DEVICE, DVD PLAYER, ETC.)            498\n",
       "TEXTING                                                                                449\n",
       "RELATED TO BUS STOP                                                                    425\n",
       "DISREGARDING YIELD SIGN                                                                384\n",
       "PASSING STOPPED SCHOOL BUS                                                             139\n",
       "BICYCLE ADVANCING LEGALLY ON RED LIGHT                                                  92\n",
       "OBSTRUCTED CROSSWALKS                                                                   80\n",
       "MOTORCYCLE ADVANCING LEGALLY ON RED LIGHT                                               35\n",
       "Name: PRIM_CONTRIBUTORY_CAUSE, dtype: int64"
      ]
     },
     "execution_count": 16,
     "metadata": {},
     "output_type": "execute_result"
    }
   ],
   "source": [
    "# Drop rows with a cause that has less than 10k total\n",
    "drop_list = []\n",
    "for cause, number in zip(df.PRIM_CONTRIBUTORY_CAUSE.value_counts().index, df.PRIM_CONTRIBUTORY_CAUSE.value_counts()):\n",
    "    if number < 10000:\n",
    "        drop_list.append(cause)\n",
    "df.PRIM_CONTRIBUTORY_CAUSE.value_counts()"
   ]
  },
  {
   "cell_type": "code",
   "execution_count": 17,
   "metadata": {},
   "outputs": [
    {
     "data": {
      "text/plain": [
       "<AxesSubplot:>"
      ]
     },
     "execution_count": 17,
     "metadata": {},
     "output_type": "execute_result"
    },
    {
     "data": {
      "image/png": "[encoded data removed]",
      "text/plain": [
       "<Figure size 432x288 with 1 Axes>"
      ]
     },
     "metadata": {
      "needs_background": "light"
     },
     "output_type": "display_data"
    }
   ],
   "source": [
    "df.PRIM_CONTRIBUTORY_CAUSE.hist()"
   ]
  },
  {
   "cell_type": "code",
   "execution_count": 18,
   "metadata": {
    "scrolled": true
   },
   "outputs": [
    {
     "data": {
      "text/plain": [
       "FAILING TO YIELD RIGHT-OF-WAY                                                       133013\n",
       "FOLLOWING TOO CLOSELY                                                               132795\n",
       "IMPROPER OVERTAKING/PASSING                                                          57294\n",
       "FAILING TO REDUCE SPEED TO AVOID CRASH                                               51012\n",
       "IMPROPER LANE USAGE                                                                  43608\n",
       "IMPROPER BACKING                                                                     41129\n",
       "IMPROPER TURNING/NO SIGNAL                                                           39791\n",
       "DRIVING SKILLS/KNOWLEDGE/EXPERIENCE                                                  30957\n",
       "DISREGARDING TRAFFIC SIGNALS                                                         25028\n",
       "WEATHER                                                                              16357\n",
       "DISREGARDING STOP SIGN                                                               14059\n",
       "OPERATING VEHICLE IN ERRATIC, RECKLESS, CARELESS, NEGLIGENT OR AGGRESSIVE MANNER     12537\n",
       "Name: PRIM_CONTRIBUTORY_CAUSE, dtype: int64"
      ]
     },
     "execution_count": 18,
     "metadata": {},
     "output_type": "execute_result"
    }
   ],
   "source": [
    "# We'll also drop 'unable to determine' as it isn't helpful here\n",
    "# Same with not applicable \n",
    "drop_list.append('UNABLE TO DETERMINE')\n",
    "drop_list.append('NOT APPLICABLE')\n",
    "df = df[~df['PRIM_CONTRIBUTORY_CAUSE'].isin(drop_list)]\n",
    "df.PRIM_CONTRIBUTORY_CAUSE.value_counts()"
   ]
  },
  {
   "cell_type": "code",
   "execution_count": null,
   "metadata": {},
   "outputs": [],
   "source": []
  },
  {
   "cell_type": "code",
   "execution_count": 19,
   "metadata": {
    "scrolled": true
   },
   "outputs": [
    {
     "data": {
      "text/plain": [
       "DRIVERS_LICENSE_CLASS      173282\n",
       "SEX                             0\n",
       "AGE                        123982\n",
       "SAFETY_EQUIPMENT                0\n",
       "UNIT_TYPE                       0\n",
       "NUM_PASSENGERS                  0\n",
       "MAKE                            0\n",
       "MODEL                           0\n",
       "VEHICLE_DEFECT                  0\n",
       "VEHICLE_TYPE                    0\n",
       "VEHICLE_USE                     0\n",
       "MANEUVER                        0\n",
       "FIRST_CONTACT_POINT             0\n",
       "POSTED_SPEED_LIMIT              0\n",
       "WEATHER_CONDITION               0\n",
       "LIGHTING_CONDITION              0\n",
       "FIRST_CRASH_TYPE                0\n",
       "TRAFFICWAY_TYPE                 0\n",
       "ALIGNMENT                       0\n",
       "ROADWAY_SURFACE_COND            0\n",
       "ROAD_DEFECT                     0\n",
       "CRASH_TYPE                      0\n",
       "PRIM_CONTRIBUTORY_CAUSE         0\n",
       "SEC_CONTRIBUTORY_CAUSE          0\n",
       "STREET_DIRECTION                0\n",
       "BEAT_OF_OCCURRENCE              0\n",
       "CRASH_HOUR                      0\n",
       "CRASH_DAY_OF_WEEK               0\n",
       "CRASH_MONTH                     0\n",
       "INJURY_LEVEL                    0\n",
       "dtype: int64"
      ]
     },
     "execution_count": 19,
     "metadata": {},
     "output_type": "execute_result"
    }
   ],
   "source": [
    "df.isna().sum()"
   ]
  },
  {
   "cell_type": "code",
   "execution_count": 20,
   "metadata": {},
   "outputs": [
    {
     "data": {
      "text/plain": [
       "PASSENGER                                 393894\n",
       "SPORT UTILITY VEHICLE (SUV)                85181\n",
       "UNKNOWN/NA                                 32365\n",
       "VAN/MINI-VAN                               30884\n",
       "PICKUP                                     18902\n",
       "TRUCK - SINGLE UNIT                        11709\n",
       "BUS OVER 15 PASS.                           7186\n",
       "OTHER                                       6074\n",
       "TRACTOR W/ SEMI-TRAILER                     5638\n",
       "MOTORCYCLE (OVER 150CC)                     1576\n",
       "BUS UP TO 15 PASS.                          1425\n",
       "TRACTOR W/O SEMI-TRAILER                     779\n",
       "SINGLE UNIT TRUCK WITH TRAILER               704\n",
       "OTHER VEHICLE WITH TRAILER                   674\n",
       "MOTOR DRIVEN CYCLE                           163\n",
       "MOPED OR MOTORIZED BICYCLE                   147\n",
       "AUTOCYCLE                                    147\n",
       "ALL-TERRAIN VEHICLE (ATV)                     68\n",
       "FARM EQUIPMENT                                28\n",
       "3-WHEELED MOTORCYCLE (2 REAR WHEELS)          20\n",
       "RECREATIONAL OFF-HIGHWAY VEHICLE (ROV)        10\n",
       "SNOWMOBILE                                     6\n",
       "Name: VEHICLE_TYPE, dtype: int64"
      ]
     },
     "execution_count": 20,
     "metadata": {},
     "output_type": "execute_result"
    }
   ],
   "source": [
    "df.VEHICLE_TYPE.value_counts()"
   ]
  },
  {
   "cell_type": "code",
   "execution_count": 21,
   "metadata": {},
   "outputs": [
    {
     "data": {
      "text/plain": [
       "PERSONAL                        435561\n",
       "UNKNOWN/NA                       94513\n",
       "OTHER                            18695\n",
       "TAXI/FOR HIRE                    10184\n",
       "COMMERCIAL - SINGLE UNIT          8124\n",
       "RIDESHARE SERVICE                 6480\n",
       "CTA                               4650\n",
       "POLICE                            3585\n",
       "CONSTRUCTION/MAINTENANCE          2888\n",
       "COMMERCIAL - MULTI-UNIT           2632\n",
       "NOT IN USE                        2313\n",
       "OTHER TRANSIT                     2100\n",
       "SCHOOL BUS                        1731\n",
       "TOW TRUCK                         1206\n",
       "AMBULANCE                          650\n",
       "STATE OWNED                        517\n",
       "DRIVER EDUCATION                   494\n",
       "MASS TRANSIT                       442\n",
       "FIRE                               421\n",
       "LAWN CARE/LANDSCAPING              266\n",
       "AGRICULTURE                         59\n",
       "CAMPER/RV - SINGLE UNIT             30\n",
       "MILITARY                            23\n",
       "HOUSE TRAILER                       11\n",
       "CAMPER/RV - TOWED/MULTI-UNIT         5\n",
       "Name: VEHICLE_USE, dtype: int64"
      ]
     },
     "execution_count": 21,
     "metadata": {},
     "output_type": "execute_result"
    }
   ],
   "source": [
    "df.VEHICLE_USE.value_counts()"
   ]
  },
  {
   "cell_type": "code",
   "execution_count": 22,
   "metadata": {},
   "outputs": [],
   "source": [
    "# have to cut down on variables as modeling is taking WAY too long, don't have time\n",
    "df.drop(columns=['MAKE', 'MODEL', 'VEHICLE_DEFECT', 'SEC_CONTRIBUTORY_CAUSE', 'STREET_DIRECTION',\n",
    "                'VEHICLE_USE', 'VEHICLE_TYPE'], inplace=True)"
   ]
  },
  {
   "cell_type": "code",
   "execution_count": null,
   "metadata": {},
   "outputs": [],
   "source": []
  },
  {
   "cell_type": "code",
   "execution_count": 23,
   "metadata": {},
   "outputs": [],
   "source": [
    "# Create train/test split\n",
    "X = df.drop('PRIM_CONTRIBUTORY_CAUSE', axis=1)\n",
    "y = df[['PRIM_CONTRIBUTORY_CAUSE']]\n",
    "\n",
    "X_train, X_test, y_train, y_test = train_test_split(X, y, random_state=42)"
   ]
  },
  {
   "cell_type": "code",
   "execution_count": 24,
   "metadata": {},
   "outputs": [],
   "source": [
    "# I know some columns are still not 100% clean(age having some negative numbers/0, speed having the same)\n",
    "# but I'll need to come back to this after running the gridsearch"
   ]
  },
  {
   "cell_type": "markdown",
   "metadata": {},
   "source": [
    "Next we'll create our pipelines, including the imbalanced pipeline."
   ]
  },
  {
   "cell_type": "code",
   "execution_count": 25,
   "metadata": {},
   "outputs": [
    {
     "name": "stderr",
     "output_type": "stream",
     "text": [
      "C:\\Users\\mitch\\anaconda3\\envs\\learn-env\\lib\\site-packages\\sklearn\\utils\\validation.py:72: DataConversionWarning: A column-vector y was passed when a 1d array was expected. Please change the shape of y to (n_samples, ), for example using ravel().\n",
      "  return f(**kwargs)\n"
     ]
    }
   ],
   "source": [
    "# label encode target\n",
    "le = LabelEncoder()\n",
    "y_train_enc = le.fit_transform(y_train)"
   ]
  },
  {
   "cell_type": "code",
   "execution_count": 26,
   "metadata": {
    "scrolled": true
   },
   "outputs": [
    {
     "data": {
      "text/plain": [
       "array(['DISREGARDING STOP SIGN', 'DISREGARDING TRAFFIC SIGNALS',\n",
       "       'DRIVING SKILLS/KNOWLEDGE/EXPERIENCE',\n",
       "       'FAILING TO REDUCE SPEED TO AVOID CRASH',\n",
       "       'FAILING TO YIELD RIGHT-OF-WAY', 'FOLLOWING TOO CLOSELY',\n",
       "       'IMPROPER BACKING', 'IMPROPER LANE USAGE',\n",
       "       'IMPROPER OVERTAKING/PASSING', 'IMPROPER TURNING/NO SIGNAL',\n",
       "       'OPERATING VEHICLE IN ERRATIC, RECKLESS, CARELESS, NEGLIGENT OR AGGRESSIVE MANNER',\n",
       "       'WEATHER'], dtype=object)"
      ]
     },
     "execution_count": 26,
     "metadata": {},
     "output_type": "execute_result"
    }
   ],
   "source": [
    "le.classes_"
   ]
  },
  {
   "cell_type": "code",
   "execution_count": null,
   "metadata": {},
   "outputs": [],
   "source": []
  },
  {
   "cell_type": "code",
   "execution_count": 27,
   "metadata": {},
   "outputs": [],
   "source": [
    "# Create pipes\n",
    "\n",
    "subpipe_num = Pipeline(steps=[\n",
    "    ('num_impute', SimpleImputer(strategy='median')),\n",
    "    ('ss', StandardScaler()),\n",
    "])\n",
    "\n",
    "\n",
    "subpipe_cat = Pipeline(steps=[\n",
    "    ('cat_impute',SimpleImputer(strategy='most_frequent')),\n",
    "    ('ohe', OneHotEncoder(sparse=False, handle_unknown='ignore'))\n",
    "])\n",
    "\n",
    "CT = ColumnTransformer(transformers=[\n",
    "    ('subpipe_num', subpipe_num, selector(dtype_include=np.number)),\n",
    "    ('subpipe_cat', subpipe_cat, selector(dtype_include=object))], remainder='passthrough')"
   ]
  },
  {
   "cell_type": "code",
   "execution_count": 28,
   "metadata": {},
   "outputs": [],
   "source": [
    "imb_dt_pipe = ImPipeline(steps=[\n",
    "#     CT pipe will be run seperately, as it takes a long time\n",
    "#     So that we're not running this part of the pipe repeatedly\n",
    "#     ('ct',CT),\n",
    "    ('sm',SMOTE(random_state=42)),\n",
    "    ('dt', DecisionTreeClassifier(random_state=42))\n",
    "])"
   ]
  },
  {
   "cell_type": "code",
   "execution_count": 29,
   "metadata": {},
   "outputs": [],
   "source": [
    "parameters = {\n",
    "    'dt__max_depth': [2],\n",
    "    'sm__k_neighbors': [3,5,7],\n",
    "    'sm__sampling_strategy': [0.8,0.6,0.4]\n",
    "}\n",
    "\n",
    "\n",
    "gs_dt = GridSearchCV(imb_dt_pipe, parameters, cv=10, verbose=2)"
   ]
  },
  {
   "cell_type": "code",
   "execution_count": 30,
   "metadata": {},
   "outputs": [
    {
     "data": {
      "text/plain": [
       "(448185, 22)"
      ]
     },
     "execution_count": 30,
     "metadata": {},
     "output_type": "execute_result"
    }
   ],
   "source": [
    "X_train.shape"
   ]
  },
  {
   "cell_type": "code",
   "execution_count": 31,
   "metadata": {},
   "outputs": [],
   "source": [
    "# As is, this is taking much too long.\n",
    "# Need to cut down on variables."
   ]
  },
  {
   "cell_type": "code",
   "execution_count": null,
   "metadata": {},
   "outputs": [],
   "source": [
    "X_train_transformed = CT.fit_transform(X_train)"
   ]
  },
  {
   "cell_type": "code",
   "execution_count": null,
   "metadata": {},
   "outputs": [],
   "source": [
    "X_train_transformed"
   ]
  },
  {
   "cell_type": "code",
   "execution_count": null,
   "metadata": {},
   "outputs": [
    {
     "name": "stdout",
     "output_type": "stream",
     "text": [
      "Fitting 10 folds for each of 9 candidates, totalling 90 fits\n",
      "[CV] dt__max_depth=2, sm__k_neighbors=3, sm__sampling_strategy=0.8 ...\n"
     ]
    },
    {
     "name": "stderr",
     "output_type": "stream",
     "text": [
      "[Parallel(n_jobs=1)]: Using backend SequentialBackend with 1 concurrent workers.\n"
     ]
    }
   ],
   "source": [
    "gs_dt.fit(X_train_transformed, y_train_enc)"
   ]
  },
  {
   "cell_type": "code",
   "execution_count": 1,
   "metadata": {},
   "outputs": [],
   "source": [
    "# I unfortunately wasn't able to create any viable gridsearches using the dataframe as is.\n",
    "# Will create functions to engineer variables/clean manually\n",
    "# This may lead to some slight data leakage but it appears to be the only way to proceed."
   ]
  },
  {
   "cell_type": "code",
   "execution_count": null,
   "metadata": {},
   "outputs": [],
   "source": []
  }
 ],
 "metadata": {
  "kernelspec": {
   "display_name": "Python (learn-env)",
   "language": "python",
   "name": "learn-env"
  },
  "language_info": {
   "codemirror_mode": {
    "name": "ipython",
    "version": 3
   },
   "file_extension": ".py",
   "mimetype": "text/x-python",
   "name": "python",
   "nbconvert_exporter": "python",
   "pygments_lexer": "ipython3",
   "version": "3.8.5"
  }
 },
 "nbformat": 4,
 "nbformat_minor": 4
}
