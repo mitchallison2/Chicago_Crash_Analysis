{
 "cells": [
  {
   "cell_type": "code",
   "execution_count": 1,
   "metadata": {},
   "outputs": [],
   "source": [
    "import pandas as pd\n",
    "import numpy as np\n",
    "from matplotlib import pyplot as plt\n",
    "import seaborn as sns\n",
    "\n",
    "from sklearn.model_selection import train_test_split, GridSearchCV, cross_val_score\n",
    "from sklearn.pipeline import Pipeline\n",
    "from sklearn.preprocessing import StandardScaler, OneHotEncoder, FunctionTransformer, LabelEncoder\n",
    "from sklearn.impute import SimpleImputer\n",
    "from sklearn.compose import ColumnTransformer,  make_column_selector as selector\n",
    "from sklearn.linear_model import LogisticRegression\n",
    "from sklearn.ensemble import RandomForestClassifier, GradientBoostingClassifier\n",
    "from sklearn.metrics import plot_confusion_matrix, recall_score,\\\n",
    "    accuracy_score, precision_score, f1_score\n",
    "\n",
    "from pandas_profiling import ProfileReport\n",
    "\n",
    "from sklearn.dummy import DummyClassifier\n",
    "\n",
    "from imblearn.over_sampling import SMOTE\n",
    "from imblearn.pipeline import Pipeline as ImPipeline\n",
    "\n",
    "from sklearn.multioutput import MultiOutputClassifier\n",
    "\n",
    "from sklearn.tree import DecisionTreeClassifier\n",
    "\n",
    "import pickle"
   ]
  },
  {
   "cell_type": "code",
   "execution_count": 2,
   "metadata": {
    "scrolled": true
   },
   "outputs": [
    {
     "data": {
      "text/html": [
       "<div>\n",
       "<style scoped>\n",
       "    .dataframe tbody tr th:only-of-type {\n",
       "        vertical-align: middle;\n",
       "    }\n",
       "\n",
       "    .dataframe tbody tr th {\n",
       "        vertical-align: top;\n",
       "    }\n",
       "\n",
       "    .dataframe thead th {\n",
       "        text-align: right;\n",
       "    }\n",
       "</style>\n",
       "<table border=\"1\" class=\"dataframe\">\n",
       "  <thead>\n",
       "    <tr style=\"text-align: right;\">\n",
       "      <th></th>\n",
       "      <th>DRIVERS_LICENSE_CLASS</th>\n",
       "      <th>SEX</th>\n",
       "      <th>AGE</th>\n",
       "      <th>SAFETY_EQUIPMENT</th>\n",
       "      <th>UNIT_TYPE</th>\n",
       "      <th>NUM_PASSENGERS</th>\n",
       "      <th>MAKE</th>\n",
       "      <th>MODEL</th>\n",
       "      <th>VEHICLE_DEFECT</th>\n",
       "      <th>VEHICLE_TYPE</th>\n",
       "      <th>...</th>\n",
       "      <th>ROAD_DEFECT</th>\n",
       "      <th>CRASH_TYPE</th>\n",
       "      <th>PRIM_CONTRIBUTORY_CAUSE</th>\n",
       "      <th>SEC_CONTRIBUTORY_CAUSE</th>\n",
       "      <th>STREET_DIRECTION</th>\n",
       "      <th>BEAT_OF_OCCURRENCE</th>\n",
       "      <th>CRASH_HOUR</th>\n",
       "      <th>CRASH_DAY_OF_WEEK</th>\n",
       "      <th>CRASH_MONTH</th>\n",
       "      <th>INJURY_LEVEL</th>\n",
       "    </tr>\n",
       "  </thead>\n",
       "  <tbody>\n",
       "    <tr>\n",
       "      <th>0</th>\n",
       "      <td>D</td>\n",
       "      <td>M</td>\n",
       "      <td>25.0</td>\n",
       "      <td>NONE PRESENT</td>\n",
       "      <td>DRIVER</td>\n",
       "      <td>0.0</td>\n",
       "      <td>HONDA</td>\n",
       "      <td>CIVIC</td>\n",
       "      <td>UNKNOWN</td>\n",
       "      <td>PASSENGER</td>\n",
       "      <td>...</td>\n",
       "      <td>NO DEFECTS</td>\n",
       "      <td>NO INJURY / DRIVE AWAY</td>\n",
       "      <td>UNABLE TO DETERMINE</td>\n",
       "      <td>NOT APPLICABLE</td>\n",
       "      <td>N</td>\n",
       "      <td>1531.0</td>\n",
       "      <td>3.0</td>\n",
       "      <td>7.0</td>\n",
       "      <td>9.0</td>\n",
       "      <td>0</td>\n",
       "    </tr>\n",
       "    <tr>\n",
       "      <th>1</th>\n",
       "      <td>NaN</td>\n",
       "      <td>M</td>\n",
       "      <td>37.0</td>\n",
       "      <td>SAFETY BELT USED</td>\n",
       "      <td>DRIVER</td>\n",
       "      <td>0.0</td>\n",
       "      <td>BUICK</td>\n",
       "      <td>ENCORE</td>\n",
       "      <td>NONE</td>\n",
       "      <td>PASSENGER</td>\n",
       "      <td>...</td>\n",
       "      <td>NO DEFECTS</td>\n",
       "      <td>NO INJURY / DRIVE AWAY</td>\n",
       "      <td>IMPROPER OVERTAKING/PASSING</td>\n",
       "      <td>FAILING TO REDUCE SPEED TO AVOID CRASH</td>\n",
       "      <td>W</td>\n",
       "      <td>613.0</td>\n",
       "      <td>22.0</td>\n",
       "      <td>2.0</td>\n",
       "      <td>4.0</td>\n",
       "      <td>0</td>\n",
       "    </tr>\n",
       "    <tr>\n",
       "      <th>2</th>\n",
       "      <td>NaN</td>\n",
       "      <td>X</td>\n",
       "      <td>NaN</td>\n",
       "      <td>USAGE UNKNOWN</td>\n",
       "      <td>DRIVER</td>\n",
       "      <td>0.0</td>\n",
       "      <td>UNKNOWN</td>\n",
       "      <td>UNKNOWN</td>\n",
       "      <td>NONE</td>\n",
       "      <td>PASSENGER</td>\n",
       "      <td>...</td>\n",
       "      <td>NO DEFECTS</td>\n",
       "      <td>NO INJURY / DRIVE AWAY</td>\n",
       "      <td>DRIVING SKILLS/KNOWLEDGE/EXPERIENCE</td>\n",
       "      <td>NOT APPLICABLE</td>\n",
       "      <td>W</td>\n",
       "      <td>821.0</td>\n",
       "      <td>5.0</td>\n",
       "      <td>1.0</td>\n",
       "      <td>11.0</td>\n",
       "      <td>0</td>\n",
       "    </tr>\n",
       "    <tr>\n",
       "      <th>3</th>\n",
       "      <td>NaN</td>\n",
       "      <td>X</td>\n",
       "      <td>NaN</td>\n",
       "      <td>USAGE UNKNOWN</td>\n",
       "      <td>DRIVER</td>\n",
       "      <td>0.0</td>\n",
       "      <td>UNKNOWN</td>\n",
       "      <td>UNKNOWN</td>\n",
       "      <td>UNKNOWN</td>\n",
       "      <td>UNKNOWN/NA</td>\n",
       "      <td>...</td>\n",
       "      <td>NO DEFECTS</td>\n",
       "      <td>NO INJURY / DRIVE AWAY</td>\n",
       "      <td>UNABLE TO DETERMINE</td>\n",
       "      <td>UNABLE TO DETERMINE</td>\n",
       "      <td>N</td>\n",
       "      <td>2023.0</td>\n",
       "      <td>8.0</td>\n",
       "      <td>1.0</td>\n",
       "      <td>11.0</td>\n",
       "      <td>0</td>\n",
       "    </tr>\n",
       "    <tr>\n",
       "      <th>4</th>\n",
       "      <td>NaN</td>\n",
       "      <td>X</td>\n",
       "      <td>NaN</td>\n",
       "      <td>USAGE UNKNOWN</td>\n",
       "      <td>DRIVER</td>\n",
       "      <td>0.0</td>\n",
       "      <td>UNKNOWN</td>\n",
       "      <td>UNKNOWN</td>\n",
       "      <td>UNKNOWN</td>\n",
       "      <td>UNKNOWN/NA</td>\n",
       "      <td>...</td>\n",
       "      <td>NO DEFECTS</td>\n",
       "      <td>NO INJURY / DRIVE AWAY</td>\n",
       "      <td>UNABLE TO DETERMINE</td>\n",
       "      <td>NOT APPLICABLE</td>\n",
       "      <td>S</td>\n",
       "      <td>223.0</td>\n",
       "      <td>10.0</td>\n",
       "      <td>1.0</td>\n",
       "      <td>11.0</td>\n",
       "      <td>0</td>\n",
       "    </tr>\n",
       "  </tbody>\n",
       "</table>\n",
       "<p>5 rows × 30 columns</p>\n",
       "</div>"
      ],
      "text/plain": [
       "  DRIVERS_LICENSE_CLASS SEX   AGE  SAFETY_EQUIPMENT UNIT_TYPE  NUM_PASSENGERS  \\\n",
       "0                     D   M  25.0      NONE PRESENT    DRIVER             0.0   \n",
       "1                   NaN   M  37.0  SAFETY BELT USED    DRIVER             0.0   \n",
       "2                   NaN   X   NaN     USAGE UNKNOWN    DRIVER             0.0   \n",
       "3                   NaN   X   NaN     USAGE UNKNOWN    DRIVER             0.0   \n",
       "4                   NaN   X   NaN     USAGE UNKNOWN    DRIVER             0.0   \n",
       "\n",
       "      MAKE    MODEL VEHICLE_DEFECT VEHICLE_TYPE  ... ROAD_DEFECT  \\\n",
       "0    HONDA    CIVIC        UNKNOWN    PASSENGER  ...  NO DEFECTS   \n",
       "1    BUICK   ENCORE           NONE    PASSENGER  ...  NO DEFECTS   \n",
       "2  UNKNOWN  UNKNOWN           NONE    PASSENGER  ...  NO DEFECTS   \n",
       "3  UNKNOWN  UNKNOWN        UNKNOWN   UNKNOWN/NA  ...  NO DEFECTS   \n",
       "4  UNKNOWN  UNKNOWN        UNKNOWN   UNKNOWN/NA  ...  NO DEFECTS   \n",
       "\n",
       "               CRASH_TYPE              PRIM_CONTRIBUTORY_CAUSE  \\\n",
       "0  NO INJURY / DRIVE AWAY                  UNABLE TO DETERMINE   \n",
       "1  NO INJURY / DRIVE AWAY          IMPROPER OVERTAKING/PASSING   \n",
       "2  NO INJURY / DRIVE AWAY  DRIVING SKILLS/KNOWLEDGE/EXPERIENCE   \n",
       "3  NO INJURY / DRIVE AWAY                  UNABLE TO DETERMINE   \n",
       "4  NO INJURY / DRIVE AWAY                  UNABLE TO DETERMINE   \n",
       "\n",
       "                   SEC_CONTRIBUTORY_CAUSE STREET_DIRECTION BEAT_OF_OCCURRENCE  \\\n",
       "0                          NOT APPLICABLE                N             1531.0   \n",
       "1  FAILING TO REDUCE SPEED TO AVOID CRASH                W              613.0   \n",
       "2                          NOT APPLICABLE                W              821.0   \n",
       "3                     UNABLE TO DETERMINE                N             2023.0   \n",
       "4                          NOT APPLICABLE                S              223.0   \n",
       "\n",
       "  CRASH_HOUR CRASH_DAY_OF_WEEK CRASH_MONTH INJURY_LEVEL  \n",
       "0        3.0               7.0         9.0            0  \n",
       "1       22.0               2.0         4.0            0  \n",
       "2        5.0               1.0        11.0            0  \n",
       "3        8.0               1.0        11.0            0  \n",
       "4       10.0               1.0        11.0            0  \n",
       "\n",
       "[5 rows x 30 columns]"
      ]
     },
     "execution_count": 2,
     "metadata": {},
     "output_type": "execute_result"
    }
   ],
   "source": [
    "unpickleFile = open('./Data/clean_joined_df.pkl', 'rb')\n",
    "df = pickle.load(unpickleFile, encoding='bytes')\n",
    "df.head()"
   ]
  },
  {
   "cell_type": "code",
   "execution_count": 3,
   "metadata": {},
   "outputs": [
    {
     "data": {
      "text/plain": [
       "(1088146, 30)"
      ]
     },
     "execution_count": 3,
     "metadata": {},
     "output_type": "execute_result"
    }
   ],
   "source": [
    "df.shape"
   ]
  },
  {
   "cell_type": "code",
   "execution_count": 4,
   "metadata": {},
   "outputs": [],
   "source": [
    "# Unfortunately, the data set is still in an unworkable position.\n",
    "# This will be a final pass for the data to:\n",
    "# reduce the scope(focus on top 3-5 classes)\n",
    "# reduce the complexity(engineer variables to simplify variables)\n",
    "# reduce the complexity(delete overly complex variables that can't be engineered)"
   ]
  },
  {
   "cell_type": "code",
   "execution_count": 5,
   "metadata": {},
   "outputs": [
    {
     "data": {
      "text/plain": [
       "Index(['DRIVERS_LICENSE_CLASS', 'SEX', 'AGE', 'SAFETY_EQUIPMENT', 'UNIT_TYPE',\n",
       "       'NUM_PASSENGERS', 'MAKE', 'MODEL', 'VEHICLE_DEFECT', 'VEHICLE_TYPE',\n",
       "       'VEHICLE_USE', 'MANEUVER', 'FIRST_CONTACT_POINT', 'POSTED_SPEED_LIMIT',\n",
       "       'WEATHER_CONDITION', 'LIGHTING_CONDITION', 'FIRST_CRASH_TYPE',\n",
       "       'TRAFFICWAY_TYPE', 'ALIGNMENT', 'ROADWAY_SURFACE_COND', 'ROAD_DEFECT',\n",
       "       'CRASH_TYPE', 'PRIM_CONTRIBUTORY_CAUSE', 'SEC_CONTRIBUTORY_CAUSE',\n",
       "       'STREET_DIRECTION', 'BEAT_OF_OCCURRENCE', 'CRASH_HOUR',\n",
       "       'CRASH_DAY_OF_WEEK', 'CRASH_MONTH', 'INJURY_LEVEL'],\n",
       "      dtype='object')"
      ]
     },
     "execution_count": 5,
     "metadata": {},
     "output_type": "execute_result"
    }
   ],
   "source": [
    "df.columns"
   ]
  },
  {
   "cell_type": "code",
   "execution_count": 6,
   "metadata": {},
   "outputs": [
    {
     "data": {
      "text/plain": [
       "DRIVERS_LICENSE_CLASS      388727\n",
       "SEX                             0\n",
       "AGE                        291805\n",
       "SAFETY_EQUIPMENT                0\n",
       "UNIT_TYPE                       0\n",
       "NUM_PASSENGERS                  0\n",
       "MAKE                            0\n",
       "MODEL                           0\n",
       "VEHICLE_DEFECT                  0\n",
       "VEHICLE_TYPE                    0\n",
       "VEHICLE_USE                     0\n",
       "MANEUVER                        0\n",
       "FIRST_CONTACT_POINT             0\n",
       "POSTED_SPEED_LIMIT              0\n",
       "WEATHER_CONDITION               0\n",
       "LIGHTING_CONDITION              0\n",
       "FIRST_CRASH_TYPE                0\n",
       "TRAFFICWAY_TYPE                 0\n",
       "ALIGNMENT                       0\n",
       "ROADWAY_SURFACE_COND            0\n",
       "ROAD_DEFECT                     0\n",
       "CRASH_TYPE                      0\n",
       "PRIM_CONTRIBUTORY_CAUSE         0\n",
       "SEC_CONTRIBUTORY_CAUSE          0\n",
       "STREET_DIRECTION                0\n",
       "BEAT_OF_OCCURRENCE              0\n",
       "CRASH_HOUR                      0\n",
       "CRASH_DAY_OF_WEEK               0\n",
       "CRASH_MONTH                     0\n",
       "INJURY_LEVEL                    0\n",
       "dtype: int64"
      ]
     },
     "execution_count": 6,
     "metadata": {},
     "output_type": "execute_result"
    }
   ],
   "source": [
    "df.isna().sum()"
   ]
  },
  {
   "cell_type": "code",
   "execution_count": 7,
   "metadata": {
    "scrolled": false
   },
   "outputs": [
    {
     "data": {
      "text/plain": [
       "DRIVER                 1088051\n",
       "NON-CONTACT VEHICLE         95\n",
       "Name: UNIT_TYPE, dtype: int64"
      ]
     },
     "execution_count": 7,
     "metadata": {},
     "output_type": "execute_result"
    }
   ],
   "source": [
    "df.UNIT_TYPE.value_counts()"
   ]
  },
  {
   "cell_type": "code",
   "execution_count": 8,
   "metadata": {},
   "outputs": [],
   "source": [
    "# list of variables to screen with\n",
    "# WILL TRY ON TARGET FIRST AND THEN SEE HOW MUCH SCREENING IS NECESSARY\n",
    "\n",
    "# 'PRIM_CONTRIBUTORY_CAUSE' - limit to top 4:\n",
    "# FAILING TO YIELD RIGHT-OF-WAY                                                       133013\n",
    "# FOLLOWING TOO CLOSELY                                                               132795\n",
    "# IMPROPER OVERTAKING/PASSING                                                          57294\n",
    "# FAILING TO REDUCE SPEED TO AVOID CRASH                                               51012\n",
    "\n",
    "\n",
    "# 'DRIVERS_LICENSE_CLASS - only take people with drivers licenses (D)\n",
    "# 'UNIT_TYPE' - only for drivers\n",
    "# 'AGE' - only people 16 or above can use a drivers license"
   ]
  },
  {
   "cell_type": "code",
   "execution_count": 9,
   "metadata": {},
   "outputs": [],
   "source": [
    "# list of variables to engineer\n",
    "# SAFETY_EQUIPMENT - safety belt used/not used\n",
    "# 'NUM_PASSENGERS' - has/does not have passengers\n",
    "# 'VEHICLE_DEFECT' - defective/not defective\n",
    "# 'VEHICLE_TYPE' - motorcycle/passenger/large passenger/large\n",
    "# 'VEHICLE_USE' - personal/not-personal\n",
    "# 'MANEUVER' - straight/turn/traffic/other\n",
    "# 'FIRST_CONTACT_POINT' - LEAVE AS IS FOR NOW\n",
    "# 'POSTED_SPEED_LIMIT' - BUCKET(LOW/MED/HIGH)\n",
    "# 'WEATHER_CONDITION' - clear+unknown/rain/snow\n",
    "# 'ROADWAY_SURFACE_COND' - DRY/WET/OTHER\n",
    "# 'ROAD_DEFECT' - no defect/possible defect\n",
    "# 'TRAFFICWAY_TYPE'' - not divided/divided/other\n",
    "# 'ALIGNMENT' - straight/curved\n"
   ]
  },
  {
   "cell_type": "code",
   "execution_count": 10,
   "metadata": {},
   "outputs": [],
   "source": [
    "# Overly complicated: remove with predjudice\n",
    "# 'MAKE', 'MODEL', 'FIRST_CRASH_TYPE', 'SEC_CONTRIBUTORY_CAUSE', 'BEAT_OF_OCCURRENCE'"
   ]
  },
  {
   "cell_type": "code",
   "execution_count": 11,
   "metadata": {},
   "outputs": [],
   "source": [
    "# list of variables to remove after above steps\n",
    "# 'DRIVERS_LICENSE_CLASS', 'SAFETY_EQUIPMENT', 'UNIT_TYPE', 'NUM_PASSENGERS', 'VEHICLE_DEFECT', 'VEHICLE_TYPE',\n",
    "# 'VEHICLE_USE', 'MANEUVER', 'POSTED_SPEED_LIMIT', 'WEATHER_CONDITION', 'ROADWAY_SURFACE_COND', 'ALIGNMENT',\n",
    "# 'ROAD_DEFECT'"
   ]
  },
  {
   "cell_type": "code",
   "execution_count": 12,
   "metadata": {},
   "outputs": [],
   "source": [
    "# SCREEN pass 1: target reduction\n",
    "cause_list = ['FAILING TO YIELD RIGHT-OF-WAY', 'FOLLOWING TOO CLOSELY',\n",
    "              'IMPROPER OVERTAKING/PASSING', 'FAILING TO REDUCE SPEED TO AVOID CRASH']\n",
    "df = df[df['PRIM_CONTRIBUTORY_CAUSE'].isin(cause_list)]"
   ]
  },
  {
   "cell_type": "code",
   "execution_count": 13,
   "metadata": {},
   "outputs": [
    {
     "data": {
      "text/plain": [
       "(374114, 30)"
      ]
     },
     "execution_count": 13,
     "metadata": {},
     "output_type": "execute_result"
    }
   ],
   "source": [
    "df.shape"
   ]
  },
  {
   "cell_type": "code",
   "execution_count": 14,
   "metadata": {},
   "outputs": [
    {
     "data": {
      "text/plain": [
       "D    240793\n",
       "Name: DRIVERS_LICENSE_CLASS, dtype: int64"
      ]
     },
     "execution_count": 14,
     "metadata": {},
     "output_type": "execute_result"
    }
   ],
   "source": [
    "# SCREEN pass 2: has drivers license\n",
    "df = df[df['DRIVERS_LICENSE_CLASS'].isin(['D'])]\n",
    "df.DRIVERS_LICENSE_CLASS.value_counts()"
   ]
  },
  {
   "cell_type": "code",
   "execution_count": 15,
   "metadata": {},
   "outputs": [
    {
     "data": {
      "text/plain": [
       "DRIVER    240784\n",
       "Name: UNIT_TYPE, dtype: int64"
      ]
     },
     "execution_count": 15,
     "metadata": {},
     "output_type": "execute_result"
    }
   ],
   "source": [
    "# SCREEN pass 3: UNIT_TYPE only for drivers\n",
    "df = df[df['UNIT_TYPE'].isin(['DRIVER'])]\n",
    "df.UNIT_TYPE.value_counts()"
   ]
  },
  {
   "cell_type": "code",
   "execution_count": 16,
   "metadata": {},
   "outputs": [
    {
     "data": {
      "text/plain": [
       "25.0     7099\n",
       "27.0     7023\n",
       "26.0     6925\n",
       "28.0     6742\n",
       "24.0     6689\n",
       "         ... \n",
       "97.0        4\n",
       "103.0       3\n",
       "108.0       2\n",
       "102.0       1\n",
       "104.0       1\n",
       "Name: AGE, Length: 89, dtype: int64"
      ]
     },
     "execution_count": 16,
     "metadata": {},
     "output_type": "execute_result"
    }
   ],
   "source": [
    "# SCREEN pass 4: age 16 or above\n",
    "df = df[df['AGE'] >= 16]\n",
    "df.AGE.value_counts()"
   ]
  },
  {
   "cell_type": "code",
   "execution_count": 17,
   "metadata": {},
   "outputs": [
    {
     "data": {
      "text/plain": [
       "(230514, 30)"
      ]
     },
     "execution_count": 17,
     "metadata": {},
     "output_type": "execute_result"
    }
   ],
   "source": [
    "df.shape"
   ]
  },
  {
   "cell_type": "code",
   "execution_count": 18,
   "metadata": {},
   "outputs": [
    {
     "data": {
      "text/plain": [
       "Index(['DRIVERS_LICENSE_CLASS', 'SEX', 'AGE', 'SAFETY_EQUIPMENT', 'UNIT_TYPE',\n",
       "       'NUM_PASSENGERS', 'VEHICLE_DEFECT', 'VEHICLE_TYPE', 'VEHICLE_USE',\n",
       "       'MANEUVER', 'FIRST_CONTACT_POINT', 'POSTED_SPEED_LIMIT',\n",
       "       'WEATHER_CONDITION', 'LIGHTING_CONDITION', 'TRAFFICWAY_TYPE',\n",
       "       'ALIGNMENT', 'ROADWAY_SURFACE_COND', 'ROAD_DEFECT', 'CRASH_TYPE',\n",
       "       'PRIM_CONTRIBUTORY_CAUSE', 'STREET_DIRECTION', 'CRASH_HOUR',\n",
       "       'CRASH_DAY_OF_WEEK', 'CRASH_MONTH', 'INJURY_LEVEL'],\n",
       "      dtype='object')"
      ]
     },
     "execution_count": 18,
     "metadata": {},
     "output_type": "execute_result"
    }
   ],
   "source": [
    "# DELETE pass: remove overly complex variables\n",
    "df.drop(columns=['MAKE', 'MODEL', 'FIRST_CRASH_TYPE', 'SEC_CONTRIBUTORY_CAUSE', 'BEAT_OF_OCCURRENCE'], inplace=True)\n",
    "df.columns"
   ]
  },
  {
   "cell_type": "code",
   "execution_count": 19,
   "metadata": {},
   "outputs": [
    {
     "data": {
      "text/plain": [
       "NO INJURY / DRIVE AWAY              160364\n",
       "INJURY AND / OR TOW DUE TO CRASH     70150\n",
       "Name: CRASH_TYPE, dtype: int64"
      ]
     },
     "execution_count": 19,
     "metadata": {},
     "output_type": "execute_result"
    }
   ],
   "source": [
    "df.CRASH_TYPE.value_counts()"
   ]
  },
  {
   "cell_type": "code",
   "execution_count": 20,
   "metadata": {},
   "outputs": [],
   "source": [
    "# ENGINEER pass: create function to engineer new variables for all required cols\n",
    "\n",
    "def Engineer_Vars(data):\n",
    "    \n",
    "    # 'SAFETY_EQUIPMENT' - safety belt or helmet used/not used+unkown\n",
    "    data['se_simple'] = np.where(((data['SAFETY_EQUIPMENT']=='SAFETY BELT USED')|\n",
    "                               (data['SAFETY_EQUIPMENT']=='DOT COMPLIANT MOTORCYCLE HELMET')), 'safety belt/helmet used', \n",
    "                                 'NO safety belt/helmet + unknown')\n",
    "    \n",
    "    # 'NUM_PASSENGERS' - has/does not have passengers\n",
    "    data['passengers_simple'] = np.where(data['NUM_PASSENGERS'] > 0, 'has passengers', 'no passengers')\n",
    "    \n",
    "    # 'VEHICLE_DEFECT' - not defective/defective+unknown\n",
    "    data['defect_simple'] = np.where(data['VEHICLE_DEFECT'] == 'NONE', 'not defective', 'defective/unknown')\n",
    "    \n",
    "    # 'VEHICLE_TYPE' - passenger/other\n",
    "    data['vehicletype_simple'] = np.where(data['VEHICLE_TYPE'] == 'PASSENGER', 'passenger car', 'other')\n",
    "    \n",
    "    # 'VEHICLE_USE' - personal/not-personal\n",
    "    data['vehicleuse_simple'] = np.where(data['VEHICLE_USE'] == 'PERSONAL', 'personal vehicle', 'non-personal vehicle')  \n",
    "    \n",
    "    # 'MANEUVER' - straight/turn/traffic/other    \n",
    "#     Leave as is for now. too complicated\n",
    "\n",
    "    # 'FIRST_CONTACT_POINT' - LEAVE AS IS FOR NOW\n",
    "    \n",
    "    # 'POSTED_SPEED_LIMIT' - BUCKET(LOW/MED/HIGH)\n",
    "    conditions = [\n",
    "        (data['POSTED_SPEED_LIMIT'] < 30),\n",
    "        (data['POSTED_SPEED_LIMIT'] >= 30) & (data['POSTED_SPEED_LIMIT'] < 40),\n",
    "        (data['POSTED_SPEED_LIMIT'] >= 40)]\n",
    "    \n",
    "    choices = ['low', 'med', 'high']\n",
    "    data['speedlimit_simple'] = np.select(conditions, choices, default='low')\n",
    "    \n",
    "    # 'WEATHER_CONDITION' - clear+unknown/rain/snow/other\n",
    "    conditions = [\n",
    "        (data['WEATHER_CONDITION'] == 'CLEAR') | (data['WEATHER_CONDITION'] == 'UNKNOWN'),\n",
    "        (data['WEATHER_CONDITION'] == 'RAIN') | (data['WEATHER_CONDITION'] == 'CLOUDY/OVERCAST') |\n",
    "            (data['WEATHER_CONDITION'] == 'CLOUDY/OVERCAST'),\n",
    "        (data['WEATHER_CONDITION'] == 'SNOW')]\n",
    "    \n",
    "    choices = ['clear/unknown', 'rain', 'snow']\n",
    "    data['weather_simple'] = np.select(conditions, choices, default='other')\n",
    "    \n",
    "    # 'ROADWAY_SURFACE_COND' - DRY/H20/OTHER\n",
    "    conditions = [\n",
    "        (data['ROADWAY_SURFACE_COND'] == 'DRY'),\n",
    "        (data['ROADWAY_SURFACE_COND'] == 'WET') | (data['ROADWAY_SURFACE_COND'] == 'SNOW OR SLUSH') |\n",
    "            (data['ROADWAY_SURFACE_COND'] == 'ICE')]\n",
    "    \n",
    "    choices = ['dry', 'H20']\n",
    "    data['roadcond_simple'] = np.select(conditions, choices, default='other')\n",
    "    \n",
    "    # 'ROAD_DEFECT' - no defect/possible defect\n",
    "    data['roaddef_simple'] = np.where(data['ROAD_DEFECT'] == 'NO DEFECTS', 'no road defect', 'possible road defect')\n",
    "    \n",
    "    # 'TRAFFICWAY_TYPE'' - not divided/divided/other\n",
    "    conditions = [\n",
    "        (data['TRAFFICWAY_TYPE'] == 'NOT DIVIDED') | (data['TRAFFICWAY_TYPE'] == 'ONE-WAY'),\n",
    "        (data['TRAFFICWAY_TYPE'] == 'DIVIDED - W/MEDIAN (NOT RAISED)') | (data['TRAFFICWAY_TYPE'] == 'DIVIDED - W/MEDIAN BARRIER')\n",
    "        ]\n",
    "    \n",
    "    choices = ['not divided', 'divided']\n",
    "    data['trafficway_simple'] = np.select(conditions, choices, default='other')\n",
    "    \n",
    "    # 'ALIGNMENT' - straight/curved\n",
    "    data['alignment_simple'] = np.where(data['ALIGNMENT'].str.contains('STRAIGHT'), 'straight', 'curved')\n",
    "    \n",
    "    \n",
    "    "
   ]
  },
  {
   "cell_type": "code",
   "execution_count": 21,
   "metadata": {},
   "outputs": [
    {
     "data": {
      "text/plain": [
       "Index(['DRIVERS_LICENSE_CLASS', 'SEX', 'AGE', 'SAFETY_EQUIPMENT', 'UNIT_TYPE',\n",
       "       'NUM_PASSENGERS', 'VEHICLE_DEFECT', 'VEHICLE_TYPE', 'VEHICLE_USE',\n",
       "       'MANEUVER', 'FIRST_CONTACT_POINT', 'POSTED_SPEED_LIMIT',\n",
       "       'WEATHER_CONDITION', 'LIGHTING_CONDITION', 'TRAFFICWAY_TYPE',\n",
       "       'ALIGNMENT', 'ROADWAY_SURFACE_COND', 'ROAD_DEFECT', 'CRASH_TYPE',\n",
       "       'PRIM_CONTRIBUTORY_CAUSE', 'STREET_DIRECTION', 'CRASH_HOUR',\n",
       "       'CRASH_DAY_OF_WEEK', 'CRASH_MONTH', 'INJURY_LEVEL', 'se_simple',\n",
       "       'passengers_simple', 'defect_simple', 'vehicletype_simple',\n",
       "       'vehicleuse_simple', 'speedlimit_simple', 'weather_simple',\n",
       "       'roadcond_simple', 'roaddef_simple', 'trafficway_simple',\n",
       "       'alignment_simple'],\n",
       "      dtype='object')"
      ]
     },
     "execution_count": 21,
     "metadata": {},
     "output_type": "execute_result"
    }
   ],
   "source": [
    "Engineer_Vars(df)\n",
    "df.columns"
   ]
  },
  {
   "cell_type": "code",
   "execution_count": 22,
   "metadata": {},
   "outputs": [],
   "source": [
    "# DELETE pass: remove unneccary variables\n",
    "def Remove_complicated_cols(data):\n",
    "    remove_list = [\n",
    "        'DRIVERS_LICENSE_CLASS', 'SAFETY_EQUIPMENT', 'UNIT_TYPE', 'NUM_PASSENGERS', 'VEHICLE_DEFECT', 'VEHICLE_TYPE',\n",
    "        'VEHICLE_USE', 'POSTED_SPEED_LIMIT', 'WEATHER_CONDITION', 'ROADWAY_SURFACE_COND', 'TRAFFICWAY_TYPE', 'ALIGNMENT',\n",
    "        'ROAD_DEFECT' \n",
    "        \n",
    "#         'MANEUVER', 'FIRST_CONTACT_POINT'\n",
    "    ]\n",
    "    data.drop(columns=remove_list, inplace=True)"
   ]
  },
  {
   "cell_type": "code",
   "execution_count": 23,
   "metadata": {},
   "outputs": [
    {
     "data": {
      "text/plain": [
       "Index(['SEX', 'AGE', 'MANEUVER', 'FIRST_CONTACT_POINT', 'LIGHTING_CONDITION',\n",
       "       'CRASH_TYPE', 'PRIM_CONTRIBUTORY_CAUSE', 'STREET_DIRECTION',\n",
       "       'CRASH_HOUR', 'CRASH_DAY_OF_WEEK', 'CRASH_MONTH', 'INJURY_LEVEL',\n",
       "       'se_simple', 'passengers_simple', 'defect_simple', 'vehicletype_simple',\n",
       "       'vehicleuse_simple', 'speedlimit_simple', 'weather_simple',\n",
       "       'roadcond_simple', 'roaddef_simple', 'trafficway_simple',\n",
       "       'alignment_simple'],\n",
       "      dtype='object')"
      ]
     },
     "execution_count": 23,
     "metadata": {},
     "output_type": "execute_result"
    }
   ],
   "source": [
    "Remove_complicated_cols(df)\n",
    "df.columns"
   ]
  },
  {
   "cell_type": "code",
   "execution_count": 24,
   "metadata": {},
   "outputs": [
    {
     "data": {
      "text/plain": [
       "(230514, 23)"
      ]
     },
     "execution_count": 24,
     "metadata": {},
     "output_type": "execute_result"
    }
   ],
   "source": [
    "df.shape"
   ]
  },
  {
   "cell_type": "code",
   "execution_count": 25,
   "metadata": {},
   "outputs": [],
   "source": [
    "# final prep complete. Will pickle and try to gridsearch again!\n",
    "df.to_pickle(\"./Data/final_data.pkl\")"
   ]
  },
  {
   "cell_type": "code",
   "execution_count": null,
   "metadata": {},
   "outputs": [],
   "source": []
  }
 ],
 "metadata": {
  "kernelspec": {
   "display_name": "Python (learn-env)",
   "language": "python",
   "name": "learn-env"
  },
  "language_info": {
   "codemirror_mode": {
    "name": "ipython",
    "version": 3
   },
   "file_extension": ".py",
   "mimetype": "text/x-python",
   "name": "python",
   "nbconvert_exporter": "python",
   "pygments_lexer": "ipython3",
   "version": "3.8.5"
  }
 },
 "nbformat": 4,
 "nbformat_minor": 4
}
