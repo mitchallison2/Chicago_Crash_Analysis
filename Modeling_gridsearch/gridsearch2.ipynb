{
 "cells": [
  {
   "cell_type": "code",
   "execution_count": 5,
   "metadata": {},
   "outputs": [],
   "source": [
    "import pandas as pd\n",
    "import numpy as np\n",
    "from matplotlib import pyplot as plt\n",
    "import seaborn as sns\n",
    "\n",
    "from sklearn.model_selection import train_test_split, GridSearchCV, cross_val_score\n",
    "from sklearn.pipeline import Pipeline\n",
    "from sklearn.preprocessing import StandardScaler, OneHotEncoder, FunctionTransformer, LabelEncoder\n",
    "from sklearn.impute import SimpleImputer\n",
    "from sklearn.compose import ColumnTransformer,  make_column_selector as selector\n",
    "from sklearn.linear_model import LogisticRegression\n",
    "from sklearn.ensemble import RandomForestClassifier, GradientBoostingClassifier\n",
    "from sklearn.metrics import plot_confusion_matrix, recall_score,\\\n",
    "    accuracy_score, precision_score, f1_score\n",
    "\n",
    "from sklearn.dummy import DummyClassifier\n",
    "\n",
    "from imblearn.over_sampling import SMOTE\n",
    "from imblearn.under_sampling import RandomUnderSampler\n",
    "from imblearn.pipeline import Pipeline as ImPipeline\n",
    "\n",
    "from sklearn.multioutput import MultiOutputClassifier\n",
    "\n",
    "from sklearn.tree import DecisionTreeClassifier\n",
    "\n",
    "import pickle"
   ]
  },
  {
   "cell_type": "code",
   "execution_count": 7,
   "metadata": {},
   "outputs": [
    {
     "data": {
      "text/html": [
       "<div>\n",
       "<style scoped>\n",
       "    .dataframe tbody tr th:only-of-type {\n",
       "        vertical-align: middle;\n",
       "    }\n",
       "\n",
       "    .dataframe tbody tr th {\n",
       "        vertical-align: top;\n",
       "    }\n",
       "\n",
       "    .dataframe thead th {\n",
       "        text-align: right;\n",
       "    }\n",
       "</style>\n",
       "<table border=\"1\" class=\"dataframe\">\n",
       "  <thead>\n",
       "    <tr style=\"text-align: right;\">\n",
       "      <th></th>\n",
       "      <th>SEX</th>\n",
       "      <th>AGE</th>\n",
       "      <th>MANEUVER</th>\n",
       "      <th>FIRST_CONTACT_POINT</th>\n",
       "      <th>LIGHTING_CONDITION</th>\n",
       "      <th>CRASH_TYPE</th>\n",
       "      <th>PRIM_CONTRIBUTORY_CAUSE</th>\n",
       "      <th>STREET_DIRECTION</th>\n",
       "      <th>CRASH_HOUR</th>\n",
       "      <th>CRASH_DAY_OF_WEEK</th>\n",
       "      <th>...</th>\n",
       "      <th>passengers_simple</th>\n",
       "      <th>defect_simple</th>\n",
       "      <th>vehicletype_simple</th>\n",
       "      <th>vehicleuse_simple</th>\n",
       "      <th>speedlimit_simple</th>\n",
       "      <th>weather_simple</th>\n",
       "      <th>roadcond_simple</th>\n",
       "      <th>roaddef_simple</th>\n",
       "      <th>trafficway_simple</th>\n",
       "      <th>alignment_simple</th>\n",
       "    </tr>\n",
       "  </thead>\n",
       "  <tbody>\n",
       "    <tr>\n",
       "      <th>12</th>\n",
       "      <td>F</td>\n",
       "      <td>34.0</td>\n",
       "      <td>MERGING</td>\n",
       "      <td>TOTAL (ALL AREAS)</td>\n",
       "      <td>DUSK</td>\n",
       "      <td>NO INJURY / DRIVE AWAY</td>\n",
       "      <td>IMPROPER OVERTAKING/PASSING</td>\n",
       "      <td>W</td>\n",
       "      <td>18.0</td>\n",
       "      <td>1.0</td>\n",
       "      <td>...</td>\n",
       "      <td>no passengers</td>\n",
       "      <td>defective/unknown</td>\n",
       "      <td>passenger car</td>\n",
       "      <td>personal vehicle</td>\n",
       "      <td>med</td>\n",
       "      <td>clear/unknown</td>\n",
       "      <td>dry</td>\n",
       "      <td>no road defect</td>\n",
       "      <td>not divided</td>\n",
       "      <td>straight</td>\n",
       "    </tr>\n",
       "    <tr>\n",
       "      <th>40</th>\n",
       "      <td>M</td>\n",
       "      <td>61.0</td>\n",
       "      <td>SLOW/STOP IN TRAFFIC</td>\n",
       "      <td>REAR-LEFT</td>\n",
       "      <td>DAYLIGHT</td>\n",
       "      <td>NO INJURY / DRIVE AWAY</td>\n",
       "      <td>FOLLOWING TOO CLOSELY</td>\n",
       "      <td>S</td>\n",
       "      <td>11.0</td>\n",
       "      <td>7.0</td>\n",
       "      <td>...</td>\n",
       "      <td>has passengers</td>\n",
       "      <td>not defective</td>\n",
       "      <td>other</td>\n",
       "      <td>personal vehicle</td>\n",
       "      <td>high</td>\n",
       "      <td>clear/unknown</td>\n",
       "      <td>dry</td>\n",
       "      <td>no road defect</td>\n",
       "      <td>divided</td>\n",
       "      <td>straight</td>\n",
       "    </tr>\n",
       "    <tr>\n",
       "      <th>60</th>\n",
       "      <td>F</td>\n",
       "      <td>24.0</td>\n",
       "      <td>STRAIGHT AHEAD</td>\n",
       "      <td>FRONT</td>\n",
       "      <td>DARKNESS, LIGHTED ROAD</td>\n",
       "      <td>INJURY AND / OR TOW DUE TO CRASH</td>\n",
       "      <td>FAILING TO REDUCE SPEED TO AVOID CRASH</td>\n",
       "      <td>W</td>\n",
       "      <td>0.0</td>\n",
       "      <td>2.0</td>\n",
       "      <td>...</td>\n",
       "      <td>no passengers</td>\n",
       "      <td>defective/unknown</td>\n",
       "      <td>passenger car</td>\n",
       "      <td>personal vehicle</td>\n",
       "      <td>med</td>\n",
       "      <td>clear/unknown</td>\n",
       "      <td>dry</td>\n",
       "      <td>no road defect</td>\n",
       "      <td>not divided</td>\n",
       "      <td>straight</td>\n",
       "    </tr>\n",
       "    <tr>\n",
       "      <th>96</th>\n",
       "      <td>M</td>\n",
       "      <td>23.0</td>\n",
       "      <td>TURNING LEFT</td>\n",
       "      <td>SIDE-RIGHT</td>\n",
       "      <td>DAYLIGHT</td>\n",
       "      <td>NO INJURY / DRIVE AWAY</td>\n",
       "      <td>FAILING TO YIELD RIGHT-OF-WAY</td>\n",
       "      <td>W</td>\n",
       "      <td>7.0</td>\n",
       "      <td>6.0</td>\n",
       "      <td>...</td>\n",
       "      <td>no passengers</td>\n",
       "      <td>not defective</td>\n",
       "      <td>passenger car</td>\n",
       "      <td>personal vehicle</td>\n",
       "      <td>med</td>\n",
       "      <td>clear/unknown</td>\n",
       "      <td>dry</td>\n",
       "      <td>no road defect</td>\n",
       "      <td>other</td>\n",
       "      <td>straight</td>\n",
       "    </tr>\n",
       "    <tr>\n",
       "      <th>97</th>\n",
       "      <td>M</td>\n",
       "      <td>52.0</td>\n",
       "      <td>STRAIGHT AHEAD</td>\n",
       "      <td>OTHER</td>\n",
       "      <td>DAYLIGHT</td>\n",
       "      <td>NO INJURY / DRIVE AWAY</td>\n",
       "      <td>FAILING TO YIELD RIGHT-OF-WAY</td>\n",
       "      <td>W</td>\n",
       "      <td>7.0</td>\n",
       "      <td>6.0</td>\n",
       "      <td>...</td>\n",
       "      <td>has passengers</td>\n",
       "      <td>not defective</td>\n",
       "      <td>passenger car</td>\n",
       "      <td>personal vehicle</td>\n",
       "      <td>med</td>\n",
       "      <td>clear/unknown</td>\n",
       "      <td>dry</td>\n",
       "      <td>no road defect</td>\n",
       "      <td>other</td>\n",
       "      <td>straight</td>\n",
       "    </tr>\n",
       "  </tbody>\n",
       "</table>\n",
       "<p>5 rows × 23 columns</p>\n",
       "</div>"
      ],
      "text/plain": [
       "   SEX   AGE              MANEUVER FIRST_CONTACT_POINT  \\\n",
       "12   F  34.0               MERGING   TOTAL (ALL AREAS)   \n",
       "40   M  61.0  SLOW/STOP IN TRAFFIC           REAR-LEFT   \n",
       "60   F  24.0        STRAIGHT AHEAD               FRONT   \n",
       "96   M  23.0          TURNING LEFT          SIDE-RIGHT   \n",
       "97   M  52.0        STRAIGHT AHEAD               OTHER   \n",
       "\n",
       "        LIGHTING_CONDITION                        CRASH_TYPE  \\\n",
       "12                    DUSK            NO INJURY / DRIVE AWAY   \n",
       "40                DAYLIGHT            NO INJURY / DRIVE AWAY   \n",
       "60  DARKNESS, LIGHTED ROAD  INJURY AND / OR TOW DUE TO CRASH   \n",
       "96                DAYLIGHT            NO INJURY / DRIVE AWAY   \n",
       "97                DAYLIGHT            NO INJURY / DRIVE AWAY   \n",
       "\n",
       "                   PRIM_CONTRIBUTORY_CAUSE STREET_DIRECTION  CRASH_HOUR  \\\n",
       "12             IMPROPER OVERTAKING/PASSING                W        18.0   \n",
       "40                   FOLLOWING TOO CLOSELY                S        11.0   \n",
       "60  FAILING TO REDUCE SPEED TO AVOID CRASH                W         0.0   \n",
       "96           FAILING TO YIELD RIGHT-OF-WAY                W         7.0   \n",
       "97           FAILING TO YIELD RIGHT-OF-WAY                W         7.0   \n",
       "\n",
       "    CRASH_DAY_OF_WEEK  ...  passengers_simple      defect_simple  \\\n",
       "12                1.0  ...      no passengers  defective/unknown   \n",
       "40                7.0  ...     has passengers      not defective   \n",
       "60                2.0  ...      no passengers  defective/unknown   \n",
       "96                6.0  ...      no passengers      not defective   \n",
       "97                6.0  ...     has passengers      not defective   \n",
       "\n",
       "   vehicletype_simple vehicleuse_simple speedlimit_simple weather_simple  \\\n",
       "12      passenger car  personal vehicle               med  clear/unknown   \n",
       "40              other  personal vehicle              high  clear/unknown   \n",
       "60      passenger car  personal vehicle               med  clear/unknown   \n",
       "96      passenger car  personal vehicle               med  clear/unknown   \n",
       "97      passenger car  personal vehicle               med  clear/unknown   \n",
       "\n",
       "   roadcond_simple  roaddef_simple trafficway_simple alignment_simple  \n",
       "12             dry  no road defect       not divided         straight  \n",
       "40             dry  no road defect           divided         straight  \n",
       "60             dry  no road defect       not divided         straight  \n",
       "96             dry  no road defect             other         straight  \n",
       "97             dry  no road defect             other         straight  \n",
       "\n",
       "[5 rows x 23 columns]"
      ]
     },
     "execution_count": 7,
     "metadata": {},
     "output_type": "execute_result"
    }
   ],
   "source": [
    "unpickleFile = open('../Datasets/final_data.pkl', 'rb')\n",
    "df = pickle.load(unpickleFile, encoding='bytes')\n",
    "df.head()"
   ]
  },
  {
   "cell_type": "code",
   "execution_count": 3,
   "metadata": {},
   "outputs": [
    {
     "data": {
      "text/plain": [
       "(230514, 23)"
      ]
     },
     "execution_count": 3,
     "metadata": {},
     "output_type": "execute_result"
    }
   ],
   "source": [
    "df.shape"
   ]
  },
  {
   "cell_type": "code",
   "execution_count": 4,
   "metadata": {},
   "outputs": [
    {
     "data": {
      "text/plain": [
       "SEX                         object\n",
       "AGE                        float64\n",
       "MANEUVER                    object\n",
       "FIRST_CONTACT_POINT         object\n",
       "LIGHTING_CONDITION          object\n",
       "CRASH_TYPE                  object\n",
       "PRIM_CONTRIBUTORY_CAUSE     object\n",
       "STREET_DIRECTION            object\n",
       "CRASH_HOUR                 float64\n",
       "CRASH_DAY_OF_WEEK          float64\n",
       "CRASH_MONTH                float64\n",
       "INJURY_LEVEL                object\n",
       "se_simple                   object\n",
       "passengers_simple           object\n",
       "defect_simple               object\n",
       "vehicletype_simple          object\n",
       "vehicleuse_simple           object\n",
       "speedlimit_simple           object\n",
       "weather_simple              object\n",
       "roadcond_simple             object\n",
       "roaddef_simple              object\n",
       "trafficway_simple           object\n",
       "alignment_simple            object\n",
       "dtype: object"
      ]
     },
     "execution_count": 4,
     "metadata": {},
     "output_type": "execute_result"
    }
   ],
   "source": [
    "df.dtypes"
   ]
  },
  {
   "cell_type": "code",
   "execution_count": 8,
   "metadata": {},
   "outputs": [],
   "source": [
    "# Create train/test split\n",
    "X = df.drop('PRIM_CONTRIBUTORY_CAUSE', axis=1)\n",
    "y = df[['PRIM_CONTRIBUTORY_CAUSE']]\n",
    "\n",
    "X_train, X_test, y_train, y_test = train_test_split(X, y, random_state=42)"
   ]
  },
  {
   "cell_type": "code",
   "execution_count": 9,
   "metadata": {},
   "outputs": [
    {
     "name": "stderr",
     "output_type": "stream",
     "text": [
      "C:\\Users\\mitch\\anaconda3\\envs\\learn-env\\lib\\site-packages\\sklearn\\utils\\validation.py:72: DataConversionWarning: A column-vector y was passed when a 1d array was expected. Please change the shape of y to (n_samples, ), for example using ravel().\n",
      "  return f(**kwargs)\n"
     ]
    }
   ],
   "source": [
    "# label encode target\n",
    "le = LabelEncoder()\n",
    "y_train_enc = le.fit_transform(y_train)"
   ]
  },
  {
   "cell_type": "code",
   "execution_count": 7,
   "metadata": {
    "scrolled": true
   },
   "outputs": [
    {
     "data": {
      "text/plain": [
       "array(['FAILING TO REDUCE SPEED TO AVOID CRASH',\n",
       "       'FAILING TO YIELD RIGHT-OF-WAY', 'FOLLOWING TOO CLOSELY',\n",
       "       'IMPROPER OVERTAKING/PASSING'], dtype=object)"
      ]
     },
     "execution_count": 7,
     "metadata": {},
     "output_type": "execute_result"
    }
   ],
   "source": [
    "le.classes_"
   ]
  },
  {
   "cell_type": "code",
   "execution_count": 8,
   "metadata": {
    "collapsed": true
   },
   "outputs": [
    {
     "data": {
      "text/plain": [
       "PRIM_CONTRIBUTORY_CAUSE               \n",
       "FAILING TO YIELD RIGHT-OF-WAY             65494\n",
       "FOLLOWING TOO CLOSELY                     61163\n",
       "FAILING TO REDUCE SPEED TO AVOID CRASH    23584\n",
       "IMPROPER OVERTAKING/PASSING               22644\n",
       "dtype: int64"
      ]
     },
     "execution_count": 8,
     "metadata": {},
     "output_type": "execute_result"
    }
   ],
   "source": [
    "# data is partially imbalanced(lowest class is 34% of largest class)\n",
    "# will still need to apply SMOTE\n",
    "y_train.value_counts()"
   ]
  },
  {
   "cell_type": "code",
   "execution_count": 9,
   "metadata": {
    "collapsed": true
   },
   "outputs": [
    {
     "data": {
      "text/plain": [
       "SEX                        0\n",
       "AGE                        0\n",
       "MANEUVER                   0\n",
       "FIRST_CONTACT_POINT        0\n",
       "LIGHTING_CONDITION         0\n",
       "CRASH_TYPE                 0\n",
       "PRIM_CONTRIBUTORY_CAUSE    0\n",
       "STREET_DIRECTION           0\n",
       "CRASH_HOUR                 0\n",
       "CRASH_DAY_OF_WEEK          0\n",
       "CRASH_MONTH                0\n",
       "INJURY_LEVEL               0\n",
       "se_simple                  0\n",
       "passengers_simple          0\n",
       "defect_simple              0\n",
       "vehicletype_simple         0\n",
       "vehicleuse_simple          0\n",
       "speedlimit_simple          0\n",
       "weather_simple             0\n",
       "roadcond_simple            0\n",
       "roaddef_simple             0\n",
       "trafficway_simple          0\n",
       "alignment_simple           0\n",
       "dtype: int64"
      ]
     },
     "execution_count": 9,
     "metadata": {},
     "output_type": "execute_result"
    }
   ],
   "source": [
    "# data is free of nan's\n",
    "# This means we won't need to use imputer\n",
    "df.isna().sum()"
   ]
  },
  {
   "cell_type": "code",
   "execution_count": 10,
   "metadata": {},
   "outputs": [],
   "source": [
    "# Create pipes\n",
    "subpipe_num = Pipeline(steps=[\n",
    "#     Don't know why but imputer breaks the thing\n",
    "#     ('num_impute', SimpleImputer(strategy='median')),\n",
    "    ('ss', StandardScaler())\n",
    "])\n",
    "\n",
    "\n",
    "subpipe_cat = Pipeline(steps=[\n",
    "#     gets stuck on imputer, unknown why\n",
    "#     ('cat_impute',SimpleImputer(strategy='most_frequent')),\n",
    "    ('ohe', OneHotEncoder(sparse=False, handle_unknown='ignore'))\n",
    "])\n",
    "\n",
    "CT = ColumnTransformer(transformers=[\n",
    "    ('subpipe_num', subpipe_num, selector(dtype_include=np.number)),\n",
    "    ('subpipe_cat', subpipe_cat, selector(dtype_include=object))], remainder='passthrough')"
   ]
  },
  {
   "cell_type": "code",
   "execution_count": 11,
   "metadata": {},
   "outputs": [
    {
     "data": {
      "text/plain": [
       "(array([0, 1, 2, 3]), array([23584, 65494, 61163, 22644], dtype=int64))"
      ]
     },
     "execution_count": 11,
     "metadata": {},
     "output_type": "execute_result"
    }
   ],
   "source": [
    "np.unique(y_train_enc, return_counts=True)"
   ]
  },
  {
   "cell_type": "code",
   "execution_count": 12,
   "metadata": {},
   "outputs": [
    {
     "data": {
      "text/plain": [
       "0.34574159464989157"
      ]
     },
     "execution_count": 12,
     "metadata": {},
     "output_type": "execute_result"
    }
   ],
   "source": [
    "22644/65494"
   ]
  },
  {
   "cell_type": "code",
   "execution_count": 13,
   "metadata": {},
   "outputs": [],
   "source": [
    "# strategy = {0:100, 1:100, 2:200, 3:200, 4:200, 5:200}\n",
    "\n",
    "# imb_dt_pipe = ImPipeline(steps=[\n",
    "#     ('ct',CT),\n",
    "#     ('sm',SMOTE(sampling_strategy='auto', random_state=42)),\n",
    "#     ('dt', DecisionTreeClassifier(random_state=42))\n",
    "# ])"
   ]
  },
  {
   "cell_type": "code",
   "execution_count": 14,
   "metadata": {},
   "outputs": [],
   "source": [
    "# First gridsearch attempt\n",
    "# Time to compute: 7:43-7:53, no results\n",
    "# try restarting everything\n",
    "# parameters = {\n",
    "#     'dt__max_depth': [2,5],\n",
    "#     'sm__k_neighbors': [3,5]\n",
    "#     'sm__sampling_strategy': [0.8,0.6,0.4]\n",
    "#     might come back to this later\n",
    "# }\n",
    "\n",
    "\n",
    "# gs_dt = GridSearchCV(imb_dt_pipe, parameters, n_jobs=-1, verbose=3)"
   ]
  },
  {
   "cell_type": "code",
   "execution_count": 15,
   "metadata": {},
   "outputs": [],
   "source": [
    "# attempt after a comp restart\n",
    "# jobs changed = 2\n",
    "# k neighbors size reduced\n",
    "# start 8pm-"
   ]
  },
  {
   "cell_type": "code",
   "execution_count": 12,
   "metadata": {},
   "outputs": [
    {
     "data": {
      "text/plain": [
       "ColumnTransformer(remainder='passthrough',\n",
       "                  transformers=[('subpipe_num',\n",
       "                                 Pipeline(steps=[('ss', StandardScaler())]),\n",
       "                                 <sklearn.compose._column_transformer.make_column_selector object at 0x000001F696B958E0>),\n",
       "                                ('subpipe_cat',\n",
       "                                 Pipeline(steps=[('ohe',\n",
       "                                                  OneHotEncoder(handle_unknown='ignore',\n",
       "                                                                sparse=False))]),\n",
       "                                 <sklearn.compose._column_transformer.make_column_selector object at 0x000001F696B95730>)])"
      ]
     },
     "execution_count": 12,
     "metadata": {},
     "output_type": "execute_result"
    }
   ],
   "source": [
    "# try fit etc manually, 1 step at a time\n",
    "# start at 8:14\n",
    "\n",
    "# I CANT BELIEVE A HANGING COMMA WAS CAUSING THE PROBLEM HOLY FUCK\n",
    "# 2 FUCKIN DAYS I'VE BEEN TRYING TO FIGURE THIS OUT\n",
    "# ok lets try the cross validate again\n",
    "CT.fit(X_train)"
   ]
  },
  {
   "cell_type": "code",
   "execution_count": 13,
   "metadata": {},
   "outputs": [],
   "source": [
    "X_trans = CT.transform(X_train)"
   ]
  },
  {
   "cell_type": "code",
   "execution_count": null,
   "metadata": {},
   "outputs": [],
   "source": [
    "# SMOTE breaks the thing - no idea why\n",
    "# after some research: SMOTE is not good at larger datasets.\n",
    "# takes a VERY long time\n",
    "\n",
    "# sm = SMOTE(sampling_strategy='auto', random_state=42)\n",
    "\n",
    "# X_clean_resmp, y_clean_resmp = sm.fit_resample(X_trans, y_train_enc)\n",
    "\n",
    "# y_clean_resmp.value_counts()"
   ]
  },
  {
   "cell_type": "code",
   "execution_count": null,
   "metadata": {
    "scrolled": false
   },
   "outputs": [],
   "source": [
    "# gs_dt.fit(X_train, y_train_enc)"
   ]
  },
  {
   "cell_type": "markdown",
   "metadata": {},
   "source": [
    "# DT w/ + w/o undersampling"
   ]
  },
  {
   "cell_type": "code",
   "execution_count": 18,
   "metadata": {},
   "outputs": [],
   "source": [
    "# try undersampling\n",
    "rus_dt_pipe = ImPipeline(steps=[\n",
    "    ('ct',CT),\n",
    "    ('rus',RandomUnderSampler(random_state=42)),\n",
    "    ('dt', DecisionTreeClassifier(random_state=42)),\n",
    "])\n",
    "\n",
    "parameters = {\n",
    "    'dt__max_depth': [2,3,4,5]\n",
    "#     'rus__k_neighbors': [3,5]\n",
    "#     'sm__sampling_strategy': [0.8,0.6,0.4]\n",
    "}\n",
    "\n",
    "gs_dt_us = GridSearchCV(rus_dt_pipe, parameters, verbose=3)"
   ]
  },
  {
   "cell_type": "code",
   "execution_count": 19,
   "metadata": {
    "collapsed": true
   },
   "outputs": [
    {
     "name": "stdout",
     "output_type": "stream",
     "text": [
      "Fitting 5 folds for each of 4 candidates, totalling 20 fits\n",
      "[CV] dt__max_depth=2 .................................................\n"
     ]
    },
    {
     "name": "stderr",
     "output_type": "stream",
     "text": [
      "[Parallel(n_jobs=1)]: Using backend SequentialBackend with 1 concurrent workers.\n"
     ]
    },
    {
     "name": "stdout",
     "output_type": "stream",
     "text": [
      "[CV] ..................... dt__max_depth=2, score=0.487, total=   1.4s\n",
      "[CV] dt__max_depth=2 .................................................\n"
     ]
    },
    {
     "name": "stderr",
     "output_type": "stream",
     "text": [
      "[Parallel(n_jobs=1)]: Done   1 out of   1 | elapsed:    1.4s remaining:    0.0s\n"
     ]
    },
    {
     "name": "stdout",
     "output_type": "stream",
     "text": [
      "[CV] ..................... dt__max_depth=2, score=0.486, total=   1.5s\n",
      "[CV] dt__max_depth=2 .................................................\n"
     ]
    },
    {
     "name": "stderr",
     "output_type": "stream",
     "text": [
      "[Parallel(n_jobs=1)]: Done   2 out of   2 | elapsed:    2.8s remaining:    0.0s\n"
     ]
    },
    {
     "name": "stdout",
     "output_type": "stream",
     "text": [
      "[CV] ..................... dt__max_depth=2, score=0.487, total=   1.5s\n",
      "[CV] dt__max_depth=2 .................................................\n",
      "[CV] ..................... dt__max_depth=2, score=0.488, total=   1.4s\n",
      "[CV] dt__max_depth=2 .................................................\n",
      "[CV] ..................... dt__max_depth=2, score=0.488, total=   1.4s\n",
      "[CV] dt__max_depth=3 .................................................\n",
      "[CV] ..................... dt__max_depth=3, score=0.549, total=   1.5s\n",
      "[CV] dt__max_depth=3 .................................................\n",
      "[CV] ..................... dt__max_depth=3, score=0.550, total=   1.5s\n",
      "[CV] dt__max_depth=3 .................................................\n",
      "[CV] ..................... dt__max_depth=3, score=0.550, total=   1.5s\n",
      "[CV] dt__max_depth=3 .................................................\n",
      "[CV] ..................... dt__max_depth=3, score=0.552, total=   1.6s\n",
      "[CV] dt__max_depth=3 .................................................\n",
      "[CV] ..................... dt__max_depth=3, score=0.549, total=   1.6s\n",
      "[CV] dt__max_depth=4 .................................................\n",
      "[CV] ..................... dt__max_depth=4, score=0.417, total=   1.6s\n",
      "[CV] dt__max_depth=4 .................................................\n",
      "[CV] ..................... dt__max_depth=4, score=0.416, total=   1.6s\n",
      "[CV] dt__max_depth=4 .................................................\n",
      "[CV] ..................... dt__max_depth=4, score=0.416, total=   1.6s\n",
      "[CV] dt__max_depth=4 .................................................\n",
      "[CV] ..................... dt__max_depth=4, score=0.420, total=   1.6s\n",
      "[CV] dt__max_depth=4 .................................................\n",
      "[CV] ..................... dt__max_depth=4, score=0.413, total=   1.6s\n",
      "[CV] dt__max_depth=5 .................................................\n",
      "[CV] ..................... dt__max_depth=5, score=0.465, total=   1.6s\n",
      "[CV] dt__max_depth=5 .................................................\n",
      "[CV] ..................... dt__max_depth=5, score=0.465, total=   1.7s\n",
      "[CV] dt__max_depth=5 .................................................\n",
      "[CV] ..................... dt__max_depth=5, score=0.456, total=   1.7s\n",
      "[CV] dt__max_depth=5 .................................................\n",
      "[CV] ..................... dt__max_depth=5, score=0.460, total=   1.8s\n",
      "[CV] dt__max_depth=5 .................................................\n",
      "[CV] ..................... dt__max_depth=5, score=0.453, total=   1.7s\n"
     ]
    },
    {
     "name": "stderr",
     "output_type": "stream",
     "text": [
      "[Parallel(n_jobs=1)]: Done  20 out of  20 | elapsed:   31.8s finished\n"
     ]
    },
    {
     "data": {
      "text/plain": [
       "GridSearchCV(estimator=Pipeline(steps=[('ct',\n",
       "                                        ColumnTransformer(remainder='passthrough',\n",
       "                                                          transformers=[('subpipe_num',\n",
       "                                                                         Pipeline(steps=[('ss',\n",
       "                                                                                          StandardScaler())]),\n",
       "                                                                         <sklearn.compose._column_transformer.make_column_selector object at 0x000001AE0C055100>),\n",
       "                                                                        ('subpipe_cat',\n",
       "                                                                         Pipeline(steps=[('ohe',\n",
       "                                                                                          OneHotEncoder(handle_unknown='ignore',\n",
       "                                                                                                        sparse=False))]),\n",
       "                                                                         <sklearn.compose._column_transformer.make_column_selector object at 0x000001AE0C055130>)])),\n",
       "                                       ('rus',\n",
       "                                        RandomUnderSampler(random_state=42)),\n",
       "                                       ('dt',\n",
       "                                        DecisionTreeClassifier(random_state=42))]),\n",
       "             param_grid={'dt__max_depth': [2, 3, 4, 5]}, verbose=3)"
      ]
     },
     "execution_count": 19,
     "metadata": {},
     "output_type": "execute_result"
    }
   ],
   "source": [
    "gs_dt_us.fit(X_train, y_train_enc)"
   ]
  },
  {
   "cell_type": "code",
   "execution_count": 20,
   "metadata": {},
   "outputs": [
    {
     "data": {
      "text/plain": [
       "0.5498799780200712"
      ]
     },
     "execution_count": 20,
     "metadata": {},
     "output_type": "execute_result"
    }
   ],
   "source": [
    "gs_dt_us.score(X_train, y_train_enc)\n",
    "# IT WORKS LETS GOOO"
   ]
  },
  {
   "cell_type": "code",
   "execution_count": 21,
   "metadata": {},
   "outputs": [
    {
     "data": {
      "text/plain": [
       "{'dt__max_depth': 3}"
      ]
     },
     "execution_count": 21,
     "metadata": {},
     "output_type": "execute_result"
    }
   ],
   "source": [
    "gs_dt_us.best_params_"
   ]
  },
  {
   "cell_type": "code",
   "execution_count": null,
   "metadata": {},
   "outputs": [],
   "source": []
  },
  {
   "cell_type": "code",
   "execution_count": 22,
   "metadata": {},
   "outputs": [
    {
     "name": "stdout",
     "output_type": "stream",
     "text": [
      "Fitting 5 folds for each of 4 candidates, totalling 20 fits\n",
      "[CV] dt__max_depth=2 .................................................\n"
     ]
    },
    {
     "name": "stderr",
     "output_type": "stream",
     "text": [
      "[Parallel(n_jobs=1)]: Using backend SequentialBackend with 1 concurrent workers.\n"
     ]
    },
    {
     "name": "stdout",
     "output_type": "stream",
     "text": [
      "[CV] ..................... dt__max_depth=2, score=0.487, total=   1.5s\n",
      "[CV] dt__max_depth=2 .................................................\n"
     ]
    },
    {
     "name": "stderr",
     "output_type": "stream",
     "text": [
      "[Parallel(n_jobs=1)]: Done   1 out of   1 | elapsed:    1.5s remaining:    0.0s\n"
     ]
    },
    {
     "name": "stdout",
     "output_type": "stream",
     "text": [
      "[CV] ..................... dt__max_depth=2, score=0.486, total=   1.4s\n",
      "[CV] dt__max_depth=2 .................................................\n"
     ]
    },
    {
     "name": "stderr",
     "output_type": "stream",
     "text": [
      "[Parallel(n_jobs=1)]: Done   2 out of   2 | elapsed:    2.9s remaining:    0.0s\n"
     ]
    },
    {
     "name": "stdout",
     "output_type": "stream",
     "text": [
      "[CV] ..................... dt__max_depth=2, score=0.487, total=   1.6s\n",
      "[CV] dt__max_depth=2 .................................................\n",
      "[CV] ..................... dt__max_depth=2, score=0.488, total=   1.5s\n",
      "[CV] dt__max_depth=2 .................................................\n",
      "[CV] ..................... dt__max_depth=2, score=0.488, total=   1.5s\n",
      "[CV] dt__max_depth=3 .................................................\n",
      "[CV] ..................... dt__max_depth=3, score=0.549, total=   1.6s\n",
      "[CV] dt__max_depth=3 .................................................\n",
      "[CV] ..................... dt__max_depth=3, score=0.550, total=   1.6s\n",
      "[CV] dt__max_depth=3 .................................................\n",
      "[CV] ..................... dt__max_depth=3, score=0.550, total=   1.6s\n",
      "[CV] dt__max_depth=3 .................................................\n",
      "[CV] ..................... dt__max_depth=3, score=0.552, total=   1.6s\n",
      "[CV] dt__max_depth=3 .................................................\n",
      "[CV] ..................... dt__max_depth=3, score=0.549, total=   1.6s\n",
      "[CV] dt__max_depth=4 .................................................\n",
      "[CV] ..................... dt__max_depth=4, score=0.417, total=   1.7s\n",
      "[CV] dt__max_depth=4 .................................................\n",
      "[CV] ..................... dt__max_depth=4, score=0.416, total=   1.6s\n",
      "[CV] dt__max_depth=4 .................................................\n",
      "[CV] ..................... dt__max_depth=4, score=0.416, total=   1.7s\n",
      "[CV] dt__max_depth=4 .................................................\n",
      "[CV] ..................... dt__max_depth=4, score=0.420, total=   1.6s\n",
      "[CV] dt__max_depth=4 .................................................\n",
      "[CV] ..................... dt__max_depth=4, score=0.413, total=   1.6s\n",
      "[CV] dt__max_depth=5 .................................................\n",
      "[CV] ..................... dt__max_depth=5, score=0.465, total=   1.8s\n",
      "[CV] dt__max_depth=5 .................................................\n",
      "[CV] ..................... dt__max_depth=5, score=0.465, total=   1.7s\n",
      "[CV] dt__max_depth=5 .................................................\n",
      "[CV] ..................... dt__max_depth=5, score=0.456, total=   1.7s\n",
      "[CV] dt__max_depth=5 .................................................\n",
      "[CV] ..................... dt__max_depth=5, score=0.460, total=   1.7s\n",
      "[CV] dt__max_depth=5 .................................................\n",
      "[CV] ..................... dt__max_depth=5, score=0.453, total=   1.7s\n"
     ]
    },
    {
     "name": "stderr",
     "output_type": "stream",
     "text": [
      "[Parallel(n_jobs=1)]: Done  20 out of  20 | elapsed:   32.5s finished\n"
     ]
    },
    {
     "data": {
      "text/plain": [
       "GridSearchCV(estimator=Pipeline(steps=[('ct',\n",
       "                                        ColumnTransformer(remainder='passthrough',\n",
       "                                                          transformers=[('subpipe_num',\n",
       "                                                                         Pipeline(steps=[('ss',\n",
       "                                                                                          StandardScaler())]),\n",
       "                                                                         <sklearn.compose._column_transformer.make_column_selector object at 0x000001AE0C055100>),\n",
       "                                                                        ('subpipe_cat',\n",
       "                                                                         Pipeline(steps=[('ohe',\n",
       "                                                                                          OneHotEncoder(handle_unknown='ignore',\n",
       "                                                                                                        sparse=False))]),\n",
       "                                                                         <sklearn.compose._column_transformer.make_column_selector object at 0x000001AE0C055130>)])),\n",
       "                                       ('rus',\n",
       "                                        RandomUnderSampler(random_state=42)),\n",
       "                                       ('dt',\n",
       "                                        DecisionTreeClassifier(random_state=42))]),\n",
       "             param_grid={'dt__max_depth': [2, 3, 4, 5]}, verbose=3)"
      ]
     },
     "execution_count": 22,
     "metadata": {},
     "output_type": "execute_result"
    }
   ],
   "source": [
    "dt_pipe = ImPipeline(steps=[\n",
    "    ('ct',CT),\n",
    "    ('dt', DecisionTreeClassifier(random_state=42)),\n",
    "])\n",
    "parameters = {\n",
    "    'dt__max_depth': [2,3,4,5]\n",
    "}\n",
    "dt_gs = GridSearchCV(rus_dt_pipe, parameters, verbose=3)\n",
    "dt_gs.fit(X_train, y_train_enc)"
   ]
  },
  {
   "cell_type": "code",
   "execution_count": 23,
   "metadata": {},
   "outputs": [
    {
     "data": {
      "text/plain": [
       "0.5498799780200712"
      ]
     },
     "execution_count": 23,
     "metadata": {},
     "output_type": "execute_result"
    }
   ],
   "source": [
    "dt_gs.score(X_train, y_train_enc)\n",
    "# IT WORKS LETS GOOO"
   ]
  },
  {
   "cell_type": "code",
   "execution_count": 24,
   "metadata": {},
   "outputs": [],
   "source": [
    "# looks like resampling does...nothing lol\n",
    "# time to try other gs's :)"
   ]
  },
  {
   "cell_type": "markdown",
   "metadata": {},
   "source": [
    "# RFC"
   ]
  },
  {
   "cell_type": "code",
   "execution_count": 14,
   "metadata": {},
   "outputs": [],
   "source": [
    "rfc_model_pipe = Pipeline([\n",
    "    ('ct',CT),\n",
    "    ('rfc',RandomForestClassifier(random_state=42))\n",
    "])\n",
    "\n",
    "parameters = {\n",
    "    'rfc__criterion': ['gini'],\n",
    "    'rfc__min_samples_leaf': [1, 2, 3],\n",
    "    'rfc__max_features': ['sqrt', 'log2', 'float']\n",
    "}\n",
    "rfc_gs = GridSearchCV(rfc_model_pipe, parameters, verbose=3)"
   ]
  },
  {
   "cell_type": "code",
   "execution_count": 38,
   "metadata": {
    "scrolled": true
   },
   "outputs": [
    {
     "name": "stdout",
     "output_type": "stream",
     "text": [
      "Fitting 5 folds for each of 9 candidates, totalling 45 fits\n",
      "[CV] rfc__criterion=gini, rfc__max_features=sqrt, rfc__min_samples_leaf=1 \n"
     ]
    },
    {
     "name": "stderr",
     "output_type": "stream",
     "text": [
      "[Parallel(n_jobs=1)]: Using backend SequentialBackend with 1 concurrent workers.\n"
     ]
    },
    {
     "name": "stdout",
     "output_type": "stream",
     "text": [
      "[CV]  rfc__criterion=gini, rfc__max_features=sqrt, rfc__min_samples_leaf=1, score=0.626, total=  28.4s\n",
      "[CV] rfc__criterion=gini, rfc__max_features=sqrt, rfc__min_samples_leaf=1 \n"
     ]
    },
    {
     "name": "stderr",
     "output_type": "stream",
     "text": [
      "[Parallel(n_jobs=1)]: Done   1 out of   1 | elapsed:   28.3s remaining:    0.0s\n"
     ]
    },
    {
     "name": "stdout",
     "output_type": "stream",
     "text": [
      "[CV]  rfc__criterion=gini, rfc__max_features=sqrt, rfc__min_samples_leaf=1, score=0.630, total=  28.1s\n",
      "[CV] rfc__criterion=gini, rfc__max_features=sqrt, rfc__min_samples_leaf=1 \n"
     ]
    },
    {
     "name": "stderr",
     "output_type": "stream",
     "text": [
      "[Parallel(n_jobs=1)]: Done   2 out of   2 | elapsed:   56.5s remaining:    0.0s\n"
     ]
    },
    {
     "name": "stdout",
     "output_type": "stream",
     "text": [
      "[CV]  rfc__criterion=gini, rfc__max_features=sqrt, rfc__min_samples_leaf=1, score=0.627, total=  28.2s\n",
      "[CV] rfc__criterion=gini, rfc__max_features=sqrt, rfc__min_samples_leaf=1 \n",
      "[CV]  rfc__criterion=gini, rfc__max_features=sqrt, rfc__min_samples_leaf=1, score=0.631, total=  28.1s\n",
      "[CV] rfc__criterion=gini, rfc__max_features=sqrt, rfc__min_samples_leaf=1 \n",
      "[CV]  rfc__criterion=gini, rfc__max_features=sqrt, rfc__min_samples_leaf=1, score=0.625, total=  28.4s\n",
      "[CV] rfc__criterion=gini, rfc__max_features=sqrt, rfc__min_samples_leaf=2 \n",
      "[CV]  rfc__criterion=gini, rfc__max_features=sqrt, rfc__min_samples_leaf=2, score=0.637, total=  24.8s\n",
      "[CV] rfc__criterion=gini, rfc__max_features=sqrt, rfc__min_samples_leaf=2 \n",
      "[CV]  rfc__criterion=gini, rfc__max_features=sqrt, rfc__min_samples_leaf=2, score=0.640, total=  24.9s\n",
      "[CV] rfc__criterion=gini, rfc__max_features=sqrt, rfc__min_samples_leaf=2 \n",
      "[CV]  rfc__criterion=gini, rfc__max_features=sqrt, rfc__min_samples_leaf=2, score=0.639, total=  24.9s\n",
      "[CV] rfc__criterion=gini, rfc__max_features=sqrt, rfc__min_samples_leaf=2 \n",
      "[CV]  rfc__criterion=gini, rfc__max_features=sqrt, rfc__min_samples_leaf=2, score=0.642, total=  24.9s\n",
      "[CV] rfc__criterion=gini, rfc__max_features=sqrt, rfc__min_samples_leaf=2 \n",
      "[CV]  rfc__criterion=gini, rfc__max_features=sqrt, rfc__min_samples_leaf=2, score=0.635, total=  24.9s\n",
      "[CV] rfc__criterion=gini, rfc__max_features=sqrt, rfc__min_samples_leaf=3 \n",
      "[CV]  rfc__criterion=gini, rfc__max_features=sqrt, rfc__min_samples_leaf=3, score=0.636, total=  23.6s\n",
      "[CV] rfc__criterion=gini, rfc__max_features=sqrt, rfc__min_samples_leaf=3 \n",
      "[CV]  rfc__criterion=gini, rfc__max_features=sqrt, rfc__min_samples_leaf=3, score=0.641, total=  23.7s\n",
      "[CV] rfc__criterion=gini, rfc__max_features=sqrt, rfc__min_samples_leaf=3 \n",
      "[CV]  rfc__criterion=gini, rfc__max_features=sqrt, rfc__min_samples_leaf=3, score=0.639, total=  23.6s\n",
      "[CV] rfc__criterion=gini, rfc__max_features=sqrt, rfc__min_samples_leaf=3 \n",
      "[CV]  rfc__criterion=gini, rfc__max_features=sqrt, rfc__min_samples_leaf=3, score=0.641, total=  23.6s\n",
      "[CV] rfc__criterion=gini, rfc__max_features=sqrt, rfc__min_samples_leaf=3 \n",
      "[CV]  rfc__criterion=gini, rfc__max_features=sqrt, rfc__min_samples_leaf=3, score=0.635, total=  23.7s\n",
      "[CV] rfc__criterion=gini, rfc__max_features=log2, rfc__min_samples_leaf=1 \n",
      "[CV]  rfc__criterion=gini, rfc__max_features=log2, rfc__min_samples_leaf=1, score=0.624, total=  22.9s\n",
      "[CV] rfc__criterion=gini, rfc__max_features=log2, rfc__min_samples_leaf=1 \n",
      "[CV]  rfc__criterion=gini, rfc__max_features=log2, rfc__min_samples_leaf=1, score=0.630, total=  22.8s\n",
      "[CV] rfc__criterion=gini, rfc__max_features=log2, rfc__min_samples_leaf=1 \n",
      "[CV]  rfc__criterion=gini, rfc__max_features=log2, rfc__min_samples_leaf=1, score=0.625, total=  22.9s\n",
      "[CV] rfc__criterion=gini, rfc__max_features=log2, rfc__min_samples_leaf=1 \n",
      "[CV]  rfc__criterion=gini, rfc__max_features=log2, rfc__min_samples_leaf=1, score=0.630, total=  22.8s\n",
      "[CV] rfc__criterion=gini, rfc__max_features=log2, rfc__min_samples_leaf=1 \n",
      "[CV]  rfc__criterion=gini, rfc__max_features=log2, rfc__min_samples_leaf=1, score=0.623, total=  23.0s\n",
      "[CV] rfc__criterion=gini, rfc__max_features=log2, rfc__min_samples_leaf=2 \n",
      "[CV]  rfc__criterion=gini, rfc__max_features=log2, rfc__min_samples_leaf=2, score=0.635, total=  19.1s\n",
      "[CV] rfc__criterion=gini, rfc__max_features=log2, rfc__min_samples_leaf=2 \n",
      "[CV]  rfc__criterion=gini, rfc__max_features=log2, rfc__min_samples_leaf=2, score=0.639, total=  19.0s\n",
      "[CV] rfc__criterion=gini, rfc__max_features=log2, rfc__min_samples_leaf=2 \n",
      "[CV]  rfc__criterion=gini, rfc__max_features=log2, rfc__min_samples_leaf=2, score=0.638, total=  19.3s\n",
      "[CV] rfc__criterion=gini, rfc__max_features=log2, rfc__min_samples_leaf=2 \n",
      "[CV]  rfc__criterion=gini, rfc__max_features=log2, rfc__min_samples_leaf=2, score=0.640, total=  19.1s\n",
      "[CV] rfc__criterion=gini, rfc__max_features=log2, rfc__min_samples_leaf=2 \n",
      "[CV]  rfc__criterion=gini, rfc__max_features=log2, rfc__min_samples_leaf=2, score=0.635, total=  19.1s\n",
      "[CV] rfc__criterion=gini, rfc__max_features=log2, rfc__min_samples_leaf=3 \n",
      "[CV]  rfc__criterion=gini, rfc__max_features=log2, rfc__min_samples_leaf=3, score=0.635, total=  17.8s\n",
      "[CV] rfc__criterion=gini, rfc__max_features=log2, rfc__min_samples_leaf=3 \n",
      "[CV]  rfc__criterion=gini, rfc__max_features=log2, rfc__min_samples_leaf=3, score=0.640, total=  17.6s\n",
      "[CV] rfc__criterion=gini, rfc__max_features=log2, rfc__min_samples_leaf=3 \n",
      "[CV]  rfc__criterion=gini, rfc__max_features=log2, rfc__min_samples_leaf=3, score=0.638, total=  17.7s\n",
      "[CV] rfc__criterion=gini, rfc__max_features=log2, rfc__min_samples_leaf=3 \n",
      "[CV]  rfc__criterion=gini, rfc__max_features=log2, rfc__min_samples_leaf=3, score=0.639, total=  17.7s\n",
      "[CV] rfc__criterion=gini, rfc__max_features=log2, rfc__min_samples_leaf=3 \n",
      "[CV]  rfc__criterion=gini, rfc__max_features=log2, rfc__min_samples_leaf=3, score=0.636, total=  17.6s\n",
      "[CV] rfc__criterion=gini, rfc__max_features=float, rfc__min_samples_leaf=1 \n"
     ]
    },
    {
     "name": "stderr",
     "output_type": "stream",
     "text": [
      "C:\\Users\\mitch\\anaconda3\\envs\\learn-env\\lib\\site-packages\\sklearn\\model_selection\\_validation.py:548: FitFailedWarning: Estimator fit failed. The score on this train-test partition for these parameters will be set to nan. Details: \n",
      "Traceback (most recent call last):\n",
      "  File \"C:\\Users\\mitch\\anaconda3\\envs\\learn-env\\lib\\site-packages\\sklearn\\model_selection\\_validation.py\", line 531, in _fit_and_score\n",
      "    estimator.fit(X_train, y_train, **fit_params)\n",
      "  File \"C:\\Users\\mitch\\anaconda3\\envs\\learn-env\\lib\\site-packages\\sklearn\\pipeline.py\", line 335, in fit\n",
      "    self._final_estimator.fit(Xt, y, **fit_params_last_step)\n",
      "  File \"C:\\Users\\mitch\\anaconda3\\envs\\learn-env\\lib\\site-packages\\sklearn\\ensemble\\_forest.py\", line 386, in fit\n",
      "    trees = Parallel(n_jobs=self.n_jobs, verbose=self.verbose,\n",
      "  File \"C:\\Users\\mitch\\anaconda3\\envs\\learn-env\\lib\\site-packages\\joblib\\parallel.py\", line 1043, in __call__\n",
      "    if self.dispatch_one_batch(iterator):\n",
      "  File \"C:\\Users\\mitch\\anaconda3\\envs\\learn-env\\lib\\site-packages\\joblib\\parallel.py\", line 861, in dispatch_one_batch\n",
      "    self._dispatch(tasks)\n",
      "  File \"C:\\Users\\mitch\\anaconda3\\envs\\learn-env\\lib\\site-packages\\joblib\\parallel.py\", line 779, in _dispatch\n",
      "    job = self._backend.apply_async(batch, callback=cb)\n",
      "  File \"C:\\Users\\mitch\\anaconda3\\envs\\learn-env\\lib\\site-packages\\joblib\\_parallel_backends.py\", line 208, in apply_async\n",
      "    result = ImmediateResult(func)\n",
      "  File \"C:\\Users\\mitch\\anaconda3\\envs\\learn-env\\lib\\site-packages\\joblib\\_parallel_backends.py\", line 572, in __init__\n",
      "    self.results = batch()\n",
      "  File \"C:\\Users\\mitch\\anaconda3\\envs\\learn-env\\lib\\site-packages\\joblib\\parallel.py\", line 262, in __call__\n",
      "    return [func(*args, **kwargs)\n",
      "  File \"C:\\Users\\mitch\\anaconda3\\envs\\learn-env\\lib\\site-packages\\joblib\\parallel.py\", line 262, in <listcomp>\n",
      "    return [func(*args, **kwargs)\n",
      "  File \"C:\\Users\\mitch\\anaconda3\\envs\\learn-env\\lib\\site-packages\\sklearn\\ensemble\\_forest.py\", line 168, in _parallel_build_trees\n",
      "    tree.fit(X, y, sample_weight=curr_sample_weight, check_input=False)\n",
      "  File \"C:\\Users\\mitch\\anaconda3\\envs\\learn-env\\lib\\site-packages\\sklearn\\tree\\_classes.py\", line 890, in fit\n",
      "    super().fit(\n",
      "  File \"C:\\Users\\mitch\\anaconda3\\envs\\learn-env\\lib\\site-packages\\sklearn\\tree\\_classes.py\", line 255, in fit\n",
      "    raise ValueError(\"Invalid value for max_features. \"\n",
      "ValueError: Invalid value for max_features. Allowed string values are 'auto', 'sqrt' or 'log2'.\n",
      "\n",
      "  warnings.warn(\"Estimator fit failed. The score on this train-test\"\n"
     ]
    },
    {
     "name": "stdout",
     "output_type": "stream",
     "text": [
      "[CV]  rfc__criterion=gini, rfc__max_features=float, rfc__min_samples_leaf=1, score=nan, total=   1.0s\n",
      "[CV] rfc__criterion=gini, rfc__max_features=float, rfc__min_samples_leaf=1 \n"
     ]
    },
    {
     "name": "stderr",
     "output_type": "stream",
     "text": [
      "C:\\Users\\mitch\\anaconda3\\envs\\learn-env\\lib\\site-packages\\sklearn\\model_selection\\_validation.py:548: FitFailedWarning: Estimator fit failed. The score on this train-test partition for these parameters will be set to nan. Details: \n",
      "Traceback (most recent call last):\n",
      "  File \"C:\\Users\\mitch\\anaconda3\\envs\\learn-env\\lib\\site-packages\\sklearn\\model_selection\\_validation.py\", line 531, in _fit_and_score\n",
      "    estimator.fit(X_train, y_train, **fit_params)\n",
      "  File \"C:\\Users\\mitch\\anaconda3\\envs\\learn-env\\lib\\site-packages\\sklearn\\pipeline.py\", line 335, in fit\n",
      "    self._final_estimator.fit(Xt, y, **fit_params_last_step)\n",
      "  File \"C:\\Users\\mitch\\anaconda3\\envs\\learn-env\\lib\\site-packages\\sklearn\\ensemble\\_forest.py\", line 386, in fit\n",
      "    trees = Parallel(n_jobs=self.n_jobs, verbose=self.verbose,\n",
      "  File \"C:\\Users\\mitch\\anaconda3\\envs\\learn-env\\lib\\site-packages\\joblib\\parallel.py\", line 1043, in __call__\n",
      "    if self.dispatch_one_batch(iterator):\n",
      "  File \"C:\\Users\\mitch\\anaconda3\\envs\\learn-env\\lib\\site-packages\\joblib\\parallel.py\", line 861, in dispatch_one_batch\n",
      "    self._dispatch(tasks)\n",
      "  File \"C:\\Users\\mitch\\anaconda3\\envs\\learn-env\\lib\\site-packages\\joblib\\parallel.py\", line 779, in _dispatch\n",
      "    job = self._backend.apply_async(batch, callback=cb)\n",
      "  File \"C:\\Users\\mitch\\anaconda3\\envs\\learn-env\\lib\\site-packages\\joblib\\_parallel_backends.py\", line 208, in apply_async\n",
      "    result = ImmediateResult(func)\n",
      "  File \"C:\\Users\\mitch\\anaconda3\\envs\\learn-env\\lib\\site-packages\\joblib\\_parallel_backends.py\", line 572, in __init__\n",
      "    self.results = batch()\n",
      "  File \"C:\\Users\\mitch\\anaconda3\\envs\\learn-env\\lib\\site-packages\\joblib\\parallel.py\", line 262, in __call__\n",
      "    return [func(*args, **kwargs)\n",
      "  File \"C:\\Users\\mitch\\anaconda3\\envs\\learn-env\\lib\\site-packages\\joblib\\parallel.py\", line 262, in <listcomp>\n",
      "    return [func(*args, **kwargs)\n",
      "  File \"C:\\Users\\mitch\\anaconda3\\envs\\learn-env\\lib\\site-packages\\sklearn\\ensemble\\_forest.py\", line 168, in _parallel_build_trees\n",
      "    tree.fit(X, y, sample_weight=curr_sample_weight, check_input=False)\n",
      "  File \"C:\\Users\\mitch\\anaconda3\\envs\\learn-env\\lib\\site-packages\\sklearn\\tree\\_classes.py\", line 890, in fit\n",
      "    super().fit(\n",
      "  File \"C:\\Users\\mitch\\anaconda3\\envs\\learn-env\\lib\\site-packages\\sklearn\\tree\\_classes.py\", line 255, in fit\n",
      "    raise ValueError(\"Invalid value for max_features. \"\n",
      "ValueError: Invalid value for max_features. Allowed string values are 'auto', 'sqrt' or 'log2'.\n",
      "\n",
      "  warnings.warn(\"Estimator fit failed. The score on this train-test\"\n"
     ]
    },
    {
     "name": "stdout",
     "output_type": "stream",
     "text": [
      "[CV]  rfc__criterion=gini, rfc__max_features=float, rfc__min_samples_leaf=1, score=nan, total=   1.0s\n",
      "[CV] rfc__criterion=gini, rfc__max_features=float, rfc__min_samples_leaf=1 \n"
     ]
    },
    {
     "name": "stderr",
     "output_type": "stream",
     "text": [
      "C:\\Users\\mitch\\anaconda3\\envs\\learn-env\\lib\\site-packages\\sklearn\\model_selection\\_validation.py:548: FitFailedWarning: Estimator fit failed. The score on this train-test partition for these parameters will be set to nan. Details: \n",
      "Traceback (most recent call last):\n",
      "  File \"C:\\Users\\mitch\\anaconda3\\envs\\learn-env\\lib\\site-packages\\sklearn\\model_selection\\_validation.py\", line 531, in _fit_and_score\n",
      "    estimator.fit(X_train, y_train, **fit_params)\n",
      "  File \"C:\\Users\\mitch\\anaconda3\\envs\\learn-env\\lib\\site-packages\\sklearn\\pipeline.py\", line 335, in fit\n",
      "    self._final_estimator.fit(Xt, y, **fit_params_last_step)\n",
      "  File \"C:\\Users\\mitch\\anaconda3\\envs\\learn-env\\lib\\site-packages\\sklearn\\ensemble\\_forest.py\", line 386, in fit\n",
      "    trees = Parallel(n_jobs=self.n_jobs, verbose=self.verbose,\n",
      "  File \"C:\\Users\\mitch\\anaconda3\\envs\\learn-env\\lib\\site-packages\\joblib\\parallel.py\", line 1043, in __call__\n",
      "    if self.dispatch_one_batch(iterator):\n",
      "  File \"C:\\Users\\mitch\\anaconda3\\envs\\learn-env\\lib\\site-packages\\joblib\\parallel.py\", line 861, in dispatch_one_batch\n",
      "    self._dispatch(tasks)\n",
      "  File \"C:\\Users\\mitch\\anaconda3\\envs\\learn-env\\lib\\site-packages\\joblib\\parallel.py\", line 779, in _dispatch\n",
      "    job = self._backend.apply_async(batch, callback=cb)\n",
      "  File \"C:\\Users\\mitch\\anaconda3\\envs\\learn-env\\lib\\site-packages\\joblib\\_parallel_backends.py\", line 208, in apply_async\n",
      "    result = ImmediateResult(func)\n",
      "  File \"C:\\Users\\mitch\\anaconda3\\envs\\learn-env\\lib\\site-packages\\joblib\\_parallel_backends.py\", line 572, in __init__\n",
      "    self.results = batch()\n",
      "  File \"C:\\Users\\mitch\\anaconda3\\envs\\learn-env\\lib\\site-packages\\joblib\\parallel.py\", line 262, in __call__\n",
      "    return [func(*args, **kwargs)\n",
      "  File \"C:\\Users\\mitch\\anaconda3\\envs\\learn-env\\lib\\site-packages\\joblib\\parallel.py\", line 262, in <listcomp>\n",
      "    return [func(*args, **kwargs)\n",
      "  File \"C:\\Users\\mitch\\anaconda3\\envs\\learn-env\\lib\\site-packages\\sklearn\\ensemble\\_forest.py\", line 168, in _parallel_build_trees\n",
      "    tree.fit(X, y, sample_weight=curr_sample_weight, check_input=False)\n",
      "  File \"C:\\Users\\mitch\\anaconda3\\envs\\learn-env\\lib\\site-packages\\sklearn\\tree\\_classes.py\", line 890, in fit\n",
      "    super().fit(\n",
      "  File \"C:\\Users\\mitch\\anaconda3\\envs\\learn-env\\lib\\site-packages\\sklearn\\tree\\_classes.py\", line 255, in fit\n",
      "    raise ValueError(\"Invalid value for max_features. \"\n",
      "ValueError: Invalid value for max_features. Allowed string values are 'auto', 'sqrt' or 'log2'.\n",
      "\n",
      "  warnings.warn(\"Estimator fit failed. The score on this train-test\"\n"
     ]
    },
    {
     "name": "stdout",
     "output_type": "stream",
     "text": [
      "[CV]  rfc__criterion=gini, rfc__max_features=float, rfc__min_samples_leaf=1, score=nan, total=   1.1s\n",
      "[CV] rfc__criterion=gini, rfc__max_features=float, rfc__min_samples_leaf=1 \n"
     ]
    },
    {
     "name": "stderr",
     "output_type": "stream",
     "text": [
      "C:\\Users\\mitch\\anaconda3\\envs\\learn-env\\lib\\site-packages\\sklearn\\model_selection\\_validation.py:548: FitFailedWarning: Estimator fit failed. The score on this train-test partition for these parameters will be set to nan. Details: \n",
      "Traceback (most recent call last):\n",
      "  File \"C:\\Users\\mitch\\anaconda3\\envs\\learn-env\\lib\\site-packages\\sklearn\\model_selection\\_validation.py\", line 531, in _fit_and_score\n",
      "    estimator.fit(X_train, y_train, **fit_params)\n",
      "  File \"C:\\Users\\mitch\\anaconda3\\envs\\learn-env\\lib\\site-packages\\sklearn\\pipeline.py\", line 335, in fit\n",
      "    self._final_estimator.fit(Xt, y, **fit_params_last_step)\n",
      "  File \"C:\\Users\\mitch\\anaconda3\\envs\\learn-env\\lib\\site-packages\\sklearn\\ensemble\\_forest.py\", line 386, in fit\n",
      "    trees = Parallel(n_jobs=self.n_jobs, verbose=self.verbose,\n",
      "  File \"C:\\Users\\mitch\\anaconda3\\envs\\learn-env\\lib\\site-packages\\joblib\\parallel.py\", line 1043, in __call__\n",
      "    if self.dispatch_one_batch(iterator):\n",
      "  File \"C:\\Users\\mitch\\anaconda3\\envs\\learn-env\\lib\\site-packages\\joblib\\parallel.py\", line 861, in dispatch_one_batch\n",
      "    self._dispatch(tasks)\n",
      "  File \"C:\\Users\\mitch\\anaconda3\\envs\\learn-env\\lib\\site-packages\\joblib\\parallel.py\", line 779, in _dispatch\n",
      "    job = self._backend.apply_async(batch, callback=cb)\n",
      "  File \"C:\\Users\\mitch\\anaconda3\\envs\\learn-env\\lib\\site-packages\\joblib\\_parallel_backends.py\", line 208, in apply_async\n",
      "    result = ImmediateResult(func)\n",
      "  File \"C:\\Users\\mitch\\anaconda3\\envs\\learn-env\\lib\\site-packages\\joblib\\_parallel_backends.py\", line 572, in __init__\n",
      "    self.results = batch()\n",
      "  File \"C:\\Users\\mitch\\anaconda3\\envs\\learn-env\\lib\\site-packages\\joblib\\parallel.py\", line 262, in __call__\n",
      "    return [func(*args, **kwargs)\n",
      "  File \"C:\\Users\\mitch\\anaconda3\\envs\\learn-env\\lib\\site-packages\\joblib\\parallel.py\", line 262, in <listcomp>\n",
      "    return [func(*args, **kwargs)\n",
      "  File \"C:\\Users\\mitch\\anaconda3\\envs\\learn-env\\lib\\site-packages\\sklearn\\ensemble\\_forest.py\", line 168, in _parallel_build_trees\n",
      "    tree.fit(X, y, sample_weight=curr_sample_weight, check_input=False)\n",
      "  File \"C:\\Users\\mitch\\anaconda3\\envs\\learn-env\\lib\\site-packages\\sklearn\\tree\\_classes.py\", line 890, in fit\n",
      "    super().fit(\n",
      "  File \"C:\\Users\\mitch\\anaconda3\\envs\\learn-env\\lib\\site-packages\\sklearn\\tree\\_classes.py\", line 255, in fit\n",
      "    raise ValueError(\"Invalid value for max_features. \"\n",
      "ValueError: Invalid value for max_features. Allowed string values are 'auto', 'sqrt' or 'log2'.\n",
      "\n",
      "  warnings.warn(\"Estimator fit failed. The score on this train-test\"\n"
     ]
    },
    {
     "name": "stdout",
     "output_type": "stream",
     "text": [
      "[CV]  rfc__criterion=gini, rfc__max_features=float, rfc__min_samples_leaf=1, score=nan, total=   1.0s\n",
      "[CV] rfc__criterion=gini, rfc__max_features=float, rfc__min_samples_leaf=1 \n"
     ]
    },
    {
     "name": "stderr",
     "output_type": "stream",
     "text": [
      "C:\\Users\\mitch\\anaconda3\\envs\\learn-env\\lib\\site-packages\\sklearn\\model_selection\\_validation.py:548: FitFailedWarning: Estimator fit failed. The score on this train-test partition for these parameters will be set to nan. Details: \n",
      "Traceback (most recent call last):\n",
      "  File \"C:\\Users\\mitch\\anaconda3\\envs\\learn-env\\lib\\site-packages\\sklearn\\model_selection\\_validation.py\", line 531, in _fit_and_score\n",
      "    estimator.fit(X_train, y_train, **fit_params)\n",
      "  File \"C:\\Users\\mitch\\anaconda3\\envs\\learn-env\\lib\\site-packages\\sklearn\\pipeline.py\", line 335, in fit\n",
      "    self._final_estimator.fit(Xt, y, **fit_params_last_step)\n",
      "  File \"C:\\Users\\mitch\\anaconda3\\envs\\learn-env\\lib\\site-packages\\sklearn\\ensemble\\_forest.py\", line 386, in fit\n",
      "    trees = Parallel(n_jobs=self.n_jobs, verbose=self.verbose,\n",
      "  File \"C:\\Users\\mitch\\anaconda3\\envs\\learn-env\\lib\\site-packages\\joblib\\parallel.py\", line 1043, in __call__\n",
      "    if self.dispatch_one_batch(iterator):\n",
      "  File \"C:\\Users\\mitch\\anaconda3\\envs\\learn-env\\lib\\site-packages\\joblib\\parallel.py\", line 861, in dispatch_one_batch\n",
      "    self._dispatch(tasks)\n",
      "  File \"C:\\Users\\mitch\\anaconda3\\envs\\learn-env\\lib\\site-packages\\joblib\\parallel.py\", line 779, in _dispatch\n",
      "    job = self._backend.apply_async(batch, callback=cb)\n",
      "  File \"C:\\Users\\mitch\\anaconda3\\envs\\learn-env\\lib\\site-packages\\joblib\\_parallel_backends.py\", line 208, in apply_async\n",
      "    result = ImmediateResult(func)\n",
      "  File \"C:\\Users\\mitch\\anaconda3\\envs\\learn-env\\lib\\site-packages\\joblib\\_parallel_backends.py\", line 572, in __init__\n",
      "    self.results = batch()\n",
      "  File \"C:\\Users\\mitch\\anaconda3\\envs\\learn-env\\lib\\site-packages\\joblib\\parallel.py\", line 262, in __call__\n",
      "    return [func(*args, **kwargs)\n",
      "  File \"C:\\Users\\mitch\\anaconda3\\envs\\learn-env\\lib\\site-packages\\joblib\\parallel.py\", line 262, in <listcomp>\n",
      "    return [func(*args, **kwargs)\n",
      "  File \"C:\\Users\\mitch\\anaconda3\\envs\\learn-env\\lib\\site-packages\\sklearn\\ensemble\\_forest.py\", line 168, in _parallel_build_trees\n",
      "    tree.fit(X, y, sample_weight=curr_sample_weight, check_input=False)\n",
      "  File \"C:\\Users\\mitch\\anaconda3\\envs\\learn-env\\lib\\site-packages\\sklearn\\tree\\_classes.py\", line 890, in fit\n",
      "    super().fit(\n",
      "  File \"C:\\Users\\mitch\\anaconda3\\envs\\learn-env\\lib\\site-packages\\sklearn\\tree\\_classes.py\", line 255, in fit\n",
      "    raise ValueError(\"Invalid value for max_features. \"\n",
      "ValueError: Invalid value for max_features. Allowed string values are 'auto', 'sqrt' or 'log2'.\n",
      "\n",
      "  warnings.warn(\"Estimator fit failed. The score on this train-test\"\n"
     ]
    },
    {
     "name": "stdout",
     "output_type": "stream",
     "text": [
      "[CV]  rfc__criterion=gini, rfc__max_features=float, rfc__min_samples_leaf=1, score=nan, total=   1.1s\n",
      "[CV] rfc__criterion=gini, rfc__max_features=float, rfc__min_samples_leaf=2 \n"
     ]
    },
    {
     "name": "stderr",
     "output_type": "stream",
     "text": [
      "C:\\Users\\mitch\\anaconda3\\envs\\learn-env\\lib\\site-packages\\sklearn\\model_selection\\_validation.py:548: FitFailedWarning: Estimator fit failed. The score on this train-test partition for these parameters will be set to nan. Details: \n",
      "Traceback (most recent call last):\n",
      "  File \"C:\\Users\\mitch\\anaconda3\\envs\\learn-env\\lib\\site-packages\\sklearn\\model_selection\\_validation.py\", line 531, in _fit_and_score\n",
      "    estimator.fit(X_train, y_train, **fit_params)\n",
      "  File \"C:\\Users\\mitch\\anaconda3\\envs\\learn-env\\lib\\site-packages\\sklearn\\pipeline.py\", line 335, in fit\n",
      "    self._final_estimator.fit(Xt, y, **fit_params_last_step)\n",
      "  File \"C:\\Users\\mitch\\anaconda3\\envs\\learn-env\\lib\\site-packages\\sklearn\\ensemble\\_forest.py\", line 386, in fit\n",
      "    trees = Parallel(n_jobs=self.n_jobs, verbose=self.verbose,\n",
      "  File \"C:\\Users\\mitch\\anaconda3\\envs\\learn-env\\lib\\site-packages\\joblib\\parallel.py\", line 1043, in __call__\n",
      "    if self.dispatch_one_batch(iterator):\n",
      "  File \"C:\\Users\\mitch\\anaconda3\\envs\\learn-env\\lib\\site-packages\\joblib\\parallel.py\", line 861, in dispatch_one_batch\n",
      "    self._dispatch(tasks)\n",
      "  File \"C:\\Users\\mitch\\anaconda3\\envs\\learn-env\\lib\\site-packages\\joblib\\parallel.py\", line 779, in _dispatch\n",
      "    job = self._backend.apply_async(batch, callback=cb)\n",
      "  File \"C:\\Users\\mitch\\anaconda3\\envs\\learn-env\\lib\\site-packages\\joblib\\_parallel_backends.py\", line 208, in apply_async\n",
      "    result = ImmediateResult(func)\n",
      "  File \"C:\\Users\\mitch\\anaconda3\\envs\\learn-env\\lib\\site-packages\\joblib\\_parallel_backends.py\", line 572, in __init__\n",
      "    self.results = batch()\n",
      "  File \"C:\\Users\\mitch\\anaconda3\\envs\\learn-env\\lib\\site-packages\\joblib\\parallel.py\", line 262, in __call__\n",
      "    return [func(*args, **kwargs)\n",
      "  File \"C:\\Users\\mitch\\anaconda3\\envs\\learn-env\\lib\\site-packages\\joblib\\parallel.py\", line 262, in <listcomp>\n",
      "    return [func(*args, **kwargs)\n",
      "  File \"C:\\Users\\mitch\\anaconda3\\envs\\learn-env\\lib\\site-packages\\sklearn\\ensemble\\_forest.py\", line 168, in _parallel_build_trees\n",
      "    tree.fit(X, y, sample_weight=curr_sample_weight, check_input=False)\n",
      "  File \"C:\\Users\\mitch\\anaconda3\\envs\\learn-env\\lib\\site-packages\\sklearn\\tree\\_classes.py\", line 890, in fit\n",
      "    super().fit(\n",
      "  File \"C:\\Users\\mitch\\anaconda3\\envs\\learn-env\\lib\\site-packages\\sklearn\\tree\\_classes.py\", line 255, in fit\n",
      "    raise ValueError(\"Invalid value for max_features. \"\n",
      "ValueError: Invalid value for max_features. Allowed string values are 'auto', 'sqrt' or 'log2'.\n",
      "\n",
      "  warnings.warn(\"Estimator fit failed. The score on this train-test\"\n"
     ]
    },
    {
     "name": "stdout",
     "output_type": "stream",
     "text": [
      "[CV]  rfc__criterion=gini, rfc__max_features=float, rfc__min_samples_leaf=2, score=nan, total=   1.0s\n",
      "[CV] rfc__criterion=gini, rfc__max_features=float, rfc__min_samples_leaf=2 \n"
     ]
    },
    {
     "name": "stderr",
     "output_type": "stream",
     "text": [
      "C:\\Users\\mitch\\anaconda3\\envs\\learn-env\\lib\\site-packages\\sklearn\\model_selection\\_validation.py:548: FitFailedWarning: Estimator fit failed. The score on this train-test partition for these parameters will be set to nan. Details: \n",
      "Traceback (most recent call last):\n",
      "  File \"C:\\Users\\mitch\\anaconda3\\envs\\learn-env\\lib\\site-packages\\sklearn\\model_selection\\_validation.py\", line 531, in _fit_and_score\n",
      "    estimator.fit(X_train, y_train, **fit_params)\n",
      "  File \"C:\\Users\\mitch\\anaconda3\\envs\\learn-env\\lib\\site-packages\\sklearn\\pipeline.py\", line 335, in fit\n",
      "    self._final_estimator.fit(Xt, y, **fit_params_last_step)\n",
      "  File \"C:\\Users\\mitch\\anaconda3\\envs\\learn-env\\lib\\site-packages\\sklearn\\ensemble\\_forest.py\", line 386, in fit\n",
      "    trees = Parallel(n_jobs=self.n_jobs, verbose=self.verbose,\n",
      "  File \"C:\\Users\\mitch\\anaconda3\\envs\\learn-env\\lib\\site-packages\\joblib\\parallel.py\", line 1043, in __call__\n",
      "    if self.dispatch_one_batch(iterator):\n",
      "  File \"C:\\Users\\mitch\\anaconda3\\envs\\learn-env\\lib\\site-packages\\joblib\\parallel.py\", line 861, in dispatch_one_batch\n",
      "    self._dispatch(tasks)\n",
      "  File \"C:\\Users\\mitch\\anaconda3\\envs\\learn-env\\lib\\site-packages\\joblib\\parallel.py\", line 779, in _dispatch\n",
      "    job = self._backend.apply_async(batch, callback=cb)\n",
      "  File \"C:\\Users\\mitch\\anaconda3\\envs\\learn-env\\lib\\site-packages\\joblib\\_parallel_backends.py\", line 208, in apply_async\n",
      "    result = ImmediateResult(func)\n",
      "  File \"C:\\Users\\mitch\\anaconda3\\envs\\learn-env\\lib\\site-packages\\joblib\\_parallel_backends.py\", line 572, in __init__\n",
      "    self.results = batch()\n",
      "  File \"C:\\Users\\mitch\\anaconda3\\envs\\learn-env\\lib\\site-packages\\joblib\\parallel.py\", line 262, in __call__\n",
      "    return [func(*args, **kwargs)\n",
      "  File \"C:\\Users\\mitch\\anaconda3\\envs\\learn-env\\lib\\site-packages\\joblib\\parallel.py\", line 262, in <listcomp>\n",
      "    return [func(*args, **kwargs)\n",
      "  File \"C:\\Users\\mitch\\anaconda3\\envs\\learn-env\\lib\\site-packages\\sklearn\\ensemble\\_forest.py\", line 168, in _parallel_build_trees\n",
      "    tree.fit(X, y, sample_weight=curr_sample_weight, check_input=False)\n",
      "  File \"C:\\Users\\mitch\\anaconda3\\envs\\learn-env\\lib\\site-packages\\sklearn\\tree\\_classes.py\", line 890, in fit\n",
      "    super().fit(\n",
      "  File \"C:\\Users\\mitch\\anaconda3\\envs\\learn-env\\lib\\site-packages\\sklearn\\tree\\_classes.py\", line 255, in fit\n",
      "    raise ValueError(\"Invalid value for max_features. \"\n",
      "ValueError: Invalid value for max_features. Allowed string values are 'auto', 'sqrt' or 'log2'.\n",
      "\n",
      "  warnings.warn(\"Estimator fit failed. The score on this train-test\"\n"
     ]
    },
    {
     "name": "stdout",
     "output_type": "stream",
     "text": [
      "[CV]  rfc__criterion=gini, rfc__max_features=float, rfc__min_samples_leaf=2, score=nan, total=   1.0s\n",
      "[CV] rfc__criterion=gini, rfc__max_features=float, rfc__min_samples_leaf=2 \n"
     ]
    },
    {
     "name": "stderr",
     "output_type": "stream",
     "text": [
      "C:\\Users\\mitch\\anaconda3\\envs\\learn-env\\lib\\site-packages\\sklearn\\model_selection\\_validation.py:548: FitFailedWarning: Estimator fit failed. The score on this train-test partition for these parameters will be set to nan. Details: \n",
      "Traceback (most recent call last):\n",
      "  File \"C:\\Users\\mitch\\anaconda3\\envs\\learn-env\\lib\\site-packages\\sklearn\\model_selection\\_validation.py\", line 531, in _fit_and_score\n",
      "    estimator.fit(X_train, y_train, **fit_params)\n",
      "  File \"C:\\Users\\mitch\\anaconda3\\envs\\learn-env\\lib\\site-packages\\sklearn\\pipeline.py\", line 335, in fit\n",
      "    self._final_estimator.fit(Xt, y, **fit_params_last_step)\n",
      "  File \"C:\\Users\\mitch\\anaconda3\\envs\\learn-env\\lib\\site-packages\\sklearn\\ensemble\\_forest.py\", line 386, in fit\n",
      "    trees = Parallel(n_jobs=self.n_jobs, verbose=self.verbose,\n",
      "  File \"C:\\Users\\mitch\\anaconda3\\envs\\learn-env\\lib\\site-packages\\joblib\\parallel.py\", line 1043, in __call__\n",
      "    if self.dispatch_one_batch(iterator):\n",
      "  File \"C:\\Users\\mitch\\anaconda3\\envs\\learn-env\\lib\\site-packages\\joblib\\parallel.py\", line 861, in dispatch_one_batch\n",
      "    self._dispatch(tasks)\n",
      "  File \"C:\\Users\\mitch\\anaconda3\\envs\\learn-env\\lib\\site-packages\\joblib\\parallel.py\", line 779, in _dispatch\n",
      "    job = self._backend.apply_async(batch, callback=cb)\n",
      "  File \"C:\\Users\\mitch\\anaconda3\\envs\\learn-env\\lib\\site-packages\\joblib\\_parallel_backends.py\", line 208, in apply_async\n",
      "    result = ImmediateResult(func)\n",
      "  File \"C:\\Users\\mitch\\anaconda3\\envs\\learn-env\\lib\\site-packages\\joblib\\_parallel_backends.py\", line 572, in __init__\n",
      "    self.results = batch()\n",
      "  File \"C:\\Users\\mitch\\anaconda3\\envs\\learn-env\\lib\\site-packages\\joblib\\parallel.py\", line 262, in __call__\n",
      "    return [func(*args, **kwargs)\n",
      "  File \"C:\\Users\\mitch\\anaconda3\\envs\\learn-env\\lib\\site-packages\\joblib\\parallel.py\", line 262, in <listcomp>\n",
      "    return [func(*args, **kwargs)\n",
      "  File \"C:\\Users\\mitch\\anaconda3\\envs\\learn-env\\lib\\site-packages\\sklearn\\ensemble\\_forest.py\", line 168, in _parallel_build_trees\n",
      "    tree.fit(X, y, sample_weight=curr_sample_weight, check_input=False)\n",
      "  File \"C:\\Users\\mitch\\anaconda3\\envs\\learn-env\\lib\\site-packages\\sklearn\\tree\\_classes.py\", line 890, in fit\n",
      "    super().fit(\n",
      "  File \"C:\\Users\\mitch\\anaconda3\\envs\\learn-env\\lib\\site-packages\\sklearn\\tree\\_classes.py\", line 255, in fit\n",
      "    raise ValueError(\"Invalid value for max_features. \"\n",
      "ValueError: Invalid value for max_features. Allowed string values are 'auto', 'sqrt' or 'log2'.\n",
      "\n",
      "  warnings.warn(\"Estimator fit failed. The score on this train-test\"\n"
     ]
    },
    {
     "name": "stdout",
     "output_type": "stream",
     "text": [
      "[CV]  rfc__criterion=gini, rfc__max_features=float, rfc__min_samples_leaf=2, score=nan, total=   1.0s\n",
      "[CV] rfc__criterion=gini, rfc__max_features=float, rfc__min_samples_leaf=2 \n"
     ]
    },
    {
     "name": "stderr",
     "output_type": "stream",
     "text": [
      "C:\\Users\\mitch\\anaconda3\\envs\\learn-env\\lib\\site-packages\\sklearn\\model_selection\\_validation.py:548: FitFailedWarning: Estimator fit failed. The score on this train-test partition for these parameters will be set to nan. Details: \n",
      "Traceback (most recent call last):\n",
      "  File \"C:\\Users\\mitch\\anaconda3\\envs\\learn-env\\lib\\site-packages\\sklearn\\model_selection\\_validation.py\", line 531, in _fit_and_score\n",
      "    estimator.fit(X_train, y_train, **fit_params)\n",
      "  File \"C:\\Users\\mitch\\anaconda3\\envs\\learn-env\\lib\\site-packages\\sklearn\\pipeline.py\", line 335, in fit\n",
      "    self._final_estimator.fit(Xt, y, **fit_params_last_step)\n",
      "  File \"C:\\Users\\mitch\\anaconda3\\envs\\learn-env\\lib\\site-packages\\sklearn\\ensemble\\_forest.py\", line 386, in fit\n",
      "    trees = Parallel(n_jobs=self.n_jobs, verbose=self.verbose,\n",
      "  File \"C:\\Users\\mitch\\anaconda3\\envs\\learn-env\\lib\\site-packages\\joblib\\parallel.py\", line 1043, in __call__\n",
      "    if self.dispatch_one_batch(iterator):\n",
      "  File \"C:\\Users\\mitch\\anaconda3\\envs\\learn-env\\lib\\site-packages\\joblib\\parallel.py\", line 861, in dispatch_one_batch\n",
      "    self._dispatch(tasks)\n",
      "  File \"C:\\Users\\mitch\\anaconda3\\envs\\learn-env\\lib\\site-packages\\joblib\\parallel.py\", line 779, in _dispatch\n",
      "    job = self._backend.apply_async(batch, callback=cb)\n",
      "  File \"C:\\Users\\mitch\\anaconda3\\envs\\learn-env\\lib\\site-packages\\joblib\\_parallel_backends.py\", line 208, in apply_async\n",
      "    result = ImmediateResult(func)\n",
      "  File \"C:\\Users\\mitch\\anaconda3\\envs\\learn-env\\lib\\site-packages\\joblib\\_parallel_backends.py\", line 572, in __init__\n",
      "    self.results = batch()\n",
      "  File \"C:\\Users\\mitch\\anaconda3\\envs\\learn-env\\lib\\site-packages\\joblib\\parallel.py\", line 262, in __call__\n",
      "    return [func(*args, **kwargs)\n",
      "  File \"C:\\Users\\mitch\\anaconda3\\envs\\learn-env\\lib\\site-packages\\joblib\\parallel.py\", line 262, in <listcomp>\n",
      "    return [func(*args, **kwargs)\n",
      "  File \"C:\\Users\\mitch\\anaconda3\\envs\\learn-env\\lib\\site-packages\\sklearn\\ensemble\\_forest.py\", line 168, in _parallel_build_trees\n",
      "    tree.fit(X, y, sample_weight=curr_sample_weight, check_input=False)\n",
      "  File \"C:\\Users\\mitch\\anaconda3\\envs\\learn-env\\lib\\site-packages\\sklearn\\tree\\_classes.py\", line 890, in fit\n",
      "    super().fit(\n",
      "  File \"C:\\Users\\mitch\\anaconda3\\envs\\learn-env\\lib\\site-packages\\sklearn\\tree\\_classes.py\", line 255, in fit\n",
      "    raise ValueError(\"Invalid value for max_features. \"\n",
      "ValueError: Invalid value for max_features. Allowed string values are 'auto', 'sqrt' or 'log2'.\n",
      "\n",
      "  warnings.warn(\"Estimator fit failed. The score on this train-test\"\n"
     ]
    },
    {
     "name": "stdout",
     "output_type": "stream",
     "text": [
      "[CV]  rfc__criterion=gini, rfc__max_features=float, rfc__min_samples_leaf=2, score=nan, total=   1.0s\n",
      "[CV] rfc__criterion=gini, rfc__max_features=float, rfc__min_samples_leaf=2 \n"
     ]
    },
    {
     "name": "stderr",
     "output_type": "stream",
     "text": [
      "C:\\Users\\mitch\\anaconda3\\envs\\learn-env\\lib\\site-packages\\sklearn\\model_selection\\_validation.py:548: FitFailedWarning: Estimator fit failed. The score on this train-test partition for these parameters will be set to nan. Details: \n",
      "Traceback (most recent call last):\n",
      "  File \"C:\\Users\\mitch\\anaconda3\\envs\\learn-env\\lib\\site-packages\\sklearn\\model_selection\\_validation.py\", line 531, in _fit_and_score\n",
      "    estimator.fit(X_train, y_train, **fit_params)\n",
      "  File \"C:\\Users\\mitch\\anaconda3\\envs\\learn-env\\lib\\site-packages\\sklearn\\pipeline.py\", line 335, in fit\n",
      "    self._final_estimator.fit(Xt, y, **fit_params_last_step)\n",
      "  File \"C:\\Users\\mitch\\anaconda3\\envs\\learn-env\\lib\\site-packages\\sklearn\\ensemble\\_forest.py\", line 386, in fit\n",
      "    trees = Parallel(n_jobs=self.n_jobs, verbose=self.verbose,\n",
      "  File \"C:\\Users\\mitch\\anaconda3\\envs\\learn-env\\lib\\site-packages\\joblib\\parallel.py\", line 1043, in __call__\n",
      "    if self.dispatch_one_batch(iterator):\n",
      "  File \"C:\\Users\\mitch\\anaconda3\\envs\\learn-env\\lib\\site-packages\\joblib\\parallel.py\", line 861, in dispatch_one_batch\n",
      "    self._dispatch(tasks)\n",
      "  File \"C:\\Users\\mitch\\anaconda3\\envs\\learn-env\\lib\\site-packages\\joblib\\parallel.py\", line 779, in _dispatch\n",
      "    job = self._backend.apply_async(batch, callback=cb)\n",
      "  File \"C:\\Users\\mitch\\anaconda3\\envs\\learn-env\\lib\\site-packages\\joblib\\_parallel_backends.py\", line 208, in apply_async\n",
      "    result = ImmediateResult(func)\n",
      "  File \"C:\\Users\\mitch\\anaconda3\\envs\\learn-env\\lib\\site-packages\\joblib\\_parallel_backends.py\", line 572, in __init__\n",
      "    self.results = batch()\n",
      "  File \"C:\\Users\\mitch\\anaconda3\\envs\\learn-env\\lib\\site-packages\\joblib\\parallel.py\", line 262, in __call__\n",
      "    return [func(*args, **kwargs)\n",
      "  File \"C:\\Users\\mitch\\anaconda3\\envs\\learn-env\\lib\\site-packages\\joblib\\parallel.py\", line 262, in <listcomp>\n",
      "    return [func(*args, **kwargs)\n",
      "  File \"C:\\Users\\mitch\\anaconda3\\envs\\learn-env\\lib\\site-packages\\sklearn\\ensemble\\_forest.py\", line 168, in _parallel_build_trees\n",
      "    tree.fit(X, y, sample_weight=curr_sample_weight, check_input=False)\n",
      "  File \"C:\\Users\\mitch\\anaconda3\\envs\\learn-env\\lib\\site-packages\\sklearn\\tree\\_classes.py\", line 890, in fit\n",
      "    super().fit(\n",
      "  File \"C:\\Users\\mitch\\anaconda3\\envs\\learn-env\\lib\\site-packages\\sklearn\\tree\\_classes.py\", line 255, in fit\n",
      "    raise ValueError(\"Invalid value for max_features. \"\n",
      "ValueError: Invalid value for max_features. Allowed string values are 'auto', 'sqrt' or 'log2'.\n",
      "\n",
      "  warnings.warn(\"Estimator fit failed. The score on this train-test\"\n"
     ]
    },
    {
     "name": "stdout",
     "output_type": "stream",
     "text": [
      "[CV]  rfc__criterion=gini, rfc__max_features=float, rfc__min_samples_leaf=2, score=nan, total=   1.1s\n",
      "[CV] rfc__criterion=gini, rfc__max_features=float, rfc__min_samples_leaf=3 \n"
     ]
    },
    {
     "name": "stderr",
     "output_type": "stream",
     "text": [
      "C:\\Users\\mitch\\anaconda3\\envs\\learn-env\\lib\\site-packages\\sklearn\\model_selection\\_validation.py:548: FitFailedWarning: Estimator fit failed. The score on this train-test partition for these parameters will be set to nan. Details: \n",
      "Traceback (most recent call last):\n",
      "  File \"C:\\Users\\mitch\\anaconda3\\envs\\learn-env\\lib\\site-packages\\sklearn\\model_selection\\_validation.py\", line 531, in _fit_and_score\n",
      "    estimator.fit(X_train, y_train, **fit_params)\n",
      "  File \"C:\\Users\\mitch\\anaconda3\\envs\\learn-env\\lib\\site-packages\\sklearn\\pipeline.py\", line 335, in fit\n",
      "    self._final_estimator.fit(Xt, y, **fit_params_last_step)\n",
      "  File \"C:\\Users\\mitch\\anaconda3\\envs\\learn-env\\lib\\site-packages\\sklearn\\ensemble\\_forest.py\", line 386, in fit\n",
      "    trees = Parallel(n_jobs=self.n_jobs, verbose=self.verbose,\n",
      "  File \"C:\\Users\\mitch\\anaconda3\\envs\\learn-env\\lib\\site-packages\\joblib\\parallel.py\", line 1043, in __call__\n",
      "    if self.dispatch_one_batch(iterator):\n",
      "  File \"C:\\Users\\mitch\\anaconda3\\envs\\learn-env\\lib\\site-packages\\joblib\\parallel.py\", line 861, in dispatch_one_batch\n",
      "    self._dispatch(tasks)\n",
      "  File \"C:\\Users\\mitch\\anaconda3\\envs\\learn-env\\lib\\site-packages\\joblib\\parallel.py\", line 779, in _dispatch\n",
      "    job = self._backend.apply_async(batch, callback=cb)\n",
      "  File \"C:\\Users\\mitch\\anaconda3\\envs\\learn-env\\lib\\site-packages\\joblib\\_parallel_backends.py\", line 208, in apply_async\n",
      "    result = ImmediateResult(func)\n",
      "  File \"C:\\Users\\mitch\\anaconda3\\envs\\learn-env\\lib\\site-packages\\joblib\\_parallel_backends.py\", line 572, in __init__\n",
      "    self.results = batch()\n",
      "  File \"C:\\Users\\mitch\\anaconda3\\envs\\learn-env\\lib\\site-packages\\joblib\\parallel.py\", line 262, in __call__\n",
      "    return [func(*args, **kwargs)\n",
      "  File \"C:\\Users\\mitch\\anaconda3\\envs\\learn-env\\lib\\site-packages\\joblib\\parallel.py\", line 262, in <listcomp>\n",
      "    return [func(*args, **kwargs)\n",
      "  File \"C:\\Users\\mitch\\anaconda3\\envs\\learn-env\\lib\\site-packages\\sklearn\\ensemble\\_forest.py\", line 168, in _parallel_build_trees\n",
      "    tree.fit(X, y, sample_weight=curr_sample_weight, check_input=False)\n",
      "  File \"C:\\Users\\mitch\\anaconda3\\envs\\learn-env\\lib\\site-packages\\sklearn\\tree\\_classes.py\", line 890, in fit\n",
      "    super().fit(\n",
      "  File \"C:\\Users\\mitch\\anaconda3\\envs\\learn-env\\lib\\site-packages\\sklearn\\tree\\_classes.py\", line 255, in fit\n",
      "    raise ValueError(\"Invalid value for max_features. \"\n",
      "ValueError: Invalid value for max_features. Allowed string values are 'auto', 'sqrt' or 'log2'.\n",
      "\n",
      "  warnings.warn(\"Estimator fit failed. The score on this train-test\"\n"
     ]
    },
    {
     "name": "stdout",
     "output_type": "stream",
     "text": [
      "[CV]  rfc__criterion=gini, rfc__max_features=float, rfc__min_samples_leaf=3, score=nan, total=   1.0s\n",
      "[CV] rfc__criterion=gini, rfc__max_features=float, rfc__min_samples_leaf=3 \n"
     ]
    },
    {
     "name": "stderr",
     "output_type": "stream",
     "text": [
      "C:\\Users\\mitch\\anaconda3\\envs\\learn-env\\lib\\site-packages\\sklearn\\model_selection\\_validation.py:548: FitFailedWarning: Estimator fit failed. The score on this train-test partition for these parameters will be set to nan. Details: \n",
      "Traceback (most recent call last):\n",
      "  File \"C:\\Users\\mitch\\anaconda3\\envs\\learn-env\\lib\\site-packages\\sklearn\\model_selection\\_validation.py\", line 531, in _fit_and_score\n",
      "    estimator.fit(X_train, y_train, **fit_params)\n",
      "  File \"C:\\Users\\mitch\\anaconda3\\envs\\learn-env\\lib\\site-packages\\sklearn\\pipeline.py\", line 335, in fit\n",
      "    self._final_estimator.fit(Xt, y, **fit_params_last_step)\n",
      "  File \"C:\\Users\\mitch\\anaconda3\\envs\\learn-env\\lib\\site-packages\\sklearn\\ensemble\\_forest.py\", line 386, in fit\n",
      "    trees = Parallel(n_jobs=self.n_jobs, verbose=self.verbose,\n",
      "  File \"C:\\Users\\mitch\\anaconda3\\envs\\learn-env\\lib\\site-packages\\joblib\\parallel.py\", line 1043, in __call__\n",
      "    if self.dispatch_one_batch(iterator):\n",
      "  File \"C:\\Users\\mitch\\anaconda3\\envs\\learn-env\\lib\\site-packages\\joblib\\parallel.py\", line 861, in dispatch_one_batch\n",
      "    self._dispatch(tasks)\n",
      "  File \"C:\\Users\\mitch\\anaconda3\\envs\\learn-env\\lib\\site-packages\\joblib\\parallel.py\", line 779, in _dispatch\n",
      "    job = self._backend.apply_async(batch, callback=cb)\n",
      "  File \"C:\\Users\\mitch\\anaconda3\\envs\\learn-env\\lib\\site-packages\\joblib\\_parallel_backends.py\", line 208, in apply_async\n",
      "    result = ImmediateResult(func)\n",
      "  File \"C:\\Users\\mitch\\anaconda3\\envs\\learn-env\\lib\\site-packages\\joblib\\_parallel_backends.py\", line 572, in __init__\n",
      "    self.results = batch()\n",
      "  File \"C:\\Users\\mitch\\anaconda3\\envs\\learn-env\\lib\\site-packages\\joblib\\parallel.py\", line 262, in __call__\n",
      "    return [func(*args, **kwargs)\n",
      "  File \"C:\\Users\\mitch\\anaconda3\\envs\\learn-env\\lib\\site-packages\\joblib\\parallel.py\", line 262, in <listcomp>\n",
      "    return [func(*args, **kwargs)\n",
      "  File \"C:\\Users\\mitch\\anaconda3\\envs\\learn-env\\lib\\site-packages\\sklearn\\ensemble\\_forest.py\", line 168, in _parallel_build_trees\n",
      "    tree.fit(X, y, sample_weight=curr_sample_weight, check_input=False)\n",
      "  File \"C:\\Users\\mitch\\anaconda3\\envs\\learn-env\\lib\\site-packages\\sklearn\\tree\\_classes.py\", line 890, in fit\n",
      "    super().fit(\n",
      "  File \"C:\\Users\\mitch\\anaconda3\\envs\\learn-env\\lib\\site-packages\\sklearn\\tree\\_classes.py\", line 255, in fit\n",
      "    raise ValueError(\"Invalid value for max_features. \"\n",
      "ValueError: Invalid value for max_features. Allowed string values are 'auto', 'sqrt' or 'log2'.\n",
      "\n",
      "  warnings.warn(\"Estimator fit failed. The score on this train-test\"\n"
     ]
    },
    {
     "name": "stdout",
     "output_type": "stream",
     "text": [
      "[CV]  rfc__criterion=gini, rfc__max_features=float, rfc__min_samples_leaf=3, score=nan, total=   1.1s\n",
      "[CV] rfc__criterion=gini, rfc__max_features=float, rfc__min_samples_leaf=3 \n"
     ]
    },
    {
     "name": "stderr",
     "output_type": "stream",
     "text": [
      "C:\\Users\\mitch\\anaconda3\\envs\\learn-env\\lib\\site-packages\\sklearn\\model_selection\\_validation.py:548: FitFailedWarning: Estimator fit failed. The score on this train-test partition for these parameters will be set to nan. Details: \n",
      "Traceback (most recent call last):\n",
      "  File \"C:\\Users\\mitch\\anaconda3\\envs\\learn-env\\lib\\site-packages\\sklearn\\model_selection\\_validation.py\", line 531, in _fit_and_score\n",
      "    estimator.fit(X_train, y_train, **fit_params)\n",
      "  File \"C:\\Users\\mitch\\anaconda3\\envs\\learn-env\\lib\\site-packages\\sklearn\\pipeline.py\", line 335, in fit\n",
      "    self._final_estimator.fit(Xt, y, **fit_params_last_step)\n",
      "  File \"C:\\Users\\mitch\\anaconda3\\envs\\learn-env\\lib\\site-packages\\sklearn\\ensemble\\_forest.py\", line 386, in fit\n",
      "    trees = Parallel(n_jobs=self.n_jobs, verbose=self.verbose,\n",
      "  File \"C:\\Users\\mitch\\anaconda3\\envs\\learn-env\\lib\\site-packages\\joblib\\parallel.py\", line 1043, in __call__\n",
      "    if self.dispatch_one_batch(iterator):\n",
      "  File \"C:\\Users\\mitch\\anaconda3\\envs\\learn-env\\lib\\site-packages\\joblib\\parallel.py\", line 861, in dispatch_one_batch\n",
      "    self._dispatch(tasks)\n",
      "  File \"C:\\Users\\mitch\\anaconda3\\envs\\learn-env\\lib\\site-packages\\joblib\\parallel.py\", line 779, in _dispatch\n",
      "    job = self._backend.apply_async(batch, callback=cb)\n",
      "  File \"C:\\Users\\mitch\\anaconda3\\envs\\learn-env\\lib\\site-packages\\joblib\\_parallel_backends.py\", line 208, in apply_async\n",
      "    result = ImmediateResult(func)\n",
      "  File \"C:\\Users\\mitch\\anaconda3\\envs\\learn-env\\lib\\site-packages\\joblib\\_parallel_backends.py\", line 572, in __init__\n",
      "    self.results = batch()\n",
      "  File \"C:\\Users\\mitch\\anaconda3\\envs\\learn-env\\lib\\site-packages\\joblib\\parallel.py\", line 262, in __call__\n",
      "    return [func(*args, **kwargs)\n",
      "  File \"C:\\Users\\mitch\\anaconda3\\envs\\learn-env\\lib\\site-packages\\joblib\\parallel.py\", line 262, in <listcomp>\n",
      "    return [func(*args, **kwargs)\n",
      "  File \"C:\\Users\\mitch\\anaconda3\\envs\\learn-env\\lib\\site-packages\\sklearn\\ensemble\\_forest.py\", line 168, in _parallel_build_trees\n",
      "    tree.fit(X, y, sample_weight=curr_sample_weight, check_input=False)\n",
      "  File \"C:\\Users\\mitch\\anaconda3\\envs\\learn-env\\lib\\site-packages\\sklearn\\tree\\_classes.py\", line 890, in fit\n",
      "    super().fit(\n",
      "  File \"C:\\Users\\mitch\\anaconda3\\envs\\learn-env\\lib\\site-packages\\sklearn\\tree\\_classes.py\", line 255, in fit\n",
      "    raise ValueError(\"Invalid value for max_features. \"\n",
      "ValueError: Invalid value for max_features. Allowed string values are 'auto', 'sqrt' or 'log2'.\n",
      "\n",
      "  warnings.warn(\"Estimator fit failed. The score on this train-test\"\n"
     ]
    },
    {
     "name": "stdout",
     "output_type": "stream",
     "text": [
      "[CV]  rfc__criterion=gini, rfc__max_features=float, rfc__min_samples_leaf=3, score=nan, total=   1.0s\n",
      "[CV] rfc__criterion=gini, rfc__max_features=float, rfc__min_samples_leaf=3 \n"
     ]
    },
    {
     "name": "stderr",
     "output_type": "stream",
     "text": [
      "C:\\Users\\mitch\\anaconda3\\envs\\learn-env\\lib\\site-packages\\sklearn\\model_selection\\_validation.py:548: FitFailedWarning: Estimator fit failed. The score on this train-test partition for these parameters will be set to nan. Details: \n",
      "Traceback (most recent call last):\n",
      "  File \"C:\\Users\\mitch\\anaconda3\\envs\\learn-env\\lib\\site-packages\\sklearn\\model_selection\\_validation.py\", line 531, in _fit_and_score\n",
      "    estimator.fit(X_train, y_train, **fit_params)\n",
      "  File \"C:\\Users\\mitch\\anaconda3\\envs\\learn-env\\lib\\site-packages\\sklearn\\pipeline.py\", line 335, in fit\n",
      "    self._final_estimator.fit(Xt, y, **fit_params_last_step)\n",
      "  File \"C:\\Users\\mitch\\anaconda3\\envs\\learn-env\\lib\\site-packages\\sklearn\\ensemble\\_forest.py\", line 386, in fit\n",
      "    trees = Parallel(n_jobs=self.n_jobs, verbose=self.verbose,\n",
      "  File \"C:\\Users\\mitch\\anaconda3\\envs\\learn-env\\lib\\site-packages\\joblib\\parallel.py\", line 1043, in __call__\n",
      "    if self.dispatch_one_batch(iterator):\n",
      "  File \"C:\\Users\\mitch\\anaconda3\\envs\\learn-env\\lib\\site-packages\\joblib\\parallel.py\", line 861, in dispatch_one_batch\n",
      "    self._dispatch(tasks)\n",
      "  File \"C:\\Users\\mitch\\anaconda3\\envs\\learn-env\\lib\\site-packages\\joblib\\parallel.py\", line 779, in _dispatch\n",
      "    job = self._backend.apply_async(batch, callback=cb)\n",
      "  File \"C:\\Users\\mitch\\anaconda3\\envs\\learn-env\\lib\\site-packages\\joblib\\_parallel_backends.py\", line 208, in apply_async\n",
      "    result = ImmediateResult(func)\n",
      "  File \"C:\\Users\\mitch\\anaconda3\\envs\\learn-env\\lib\\site-packages\\joblib\\_parallel_backends.py\", line 572, in __init__\n",
      "    self.results = batch()\n",
      "  File \"C:\\Users\\mitch\\anaconda3\\envs\\learn-env\\lib\\site-packages\\joblib\\parallel.py\", line 262, in __call__\n",
      "    return [func(*args, **kwargs)\n",
      "  File \"C:\\Users\\mitch\\anaconda3\\envs\\learn-env\\lib\\site-packages\\joblib\\parallel.py\", line 262, in <listcomp>\n",
      "    return [func(*args, **kwargs)\n",
      "  File \"C:\\Users\\mitch\\anaconda3\\envs\\learn-env\\lib\\site-packages\\sklearn\\ensemble\\_forest.py\", line 168, in _parallel_build_trees\n",
      "    tree.fit(X, y, sample_weight=curr_sample_weight, check_input=False)\n",
      "  File \"C:\\Users\\mitch\\anaconda3\\envs\\learn-env\\lib\\site-packages\\sklearn\\tree\\_classes.py\", line 890, in fit\n",
      "    super().fit(\n",
      "  File \"C:\\Users\\mitch\\anaconda3\\envs\\learn-env\\lib\\site-packages\\sklearn\\tree\\_classes.py\", line 255, in fit\n",
      "    raise ValueError(\"Invalid value for max_features. \"\n",
      "ValueError: Invalid value for max_features. Allowed string values are 'auto', 'sqrt' or 'log2'.\n",
      "\n",
      "  warnings.warn(\"Estimator fit failed. The score on this train-test\"\n"
     ]
    },
    {
     "name": "stdout",
     "output_type": "stream",
     "text": [
      "[CV]  rfc__criterion=gini, rfc__max_features=float, rfc__min_samples_leaf=3, score=nan, total=   1.1s\n",
      "[CV] rfc__criterion=gini, rfc__max_features=float, rfc__min_samples_leaf=3 \n"
     ]
    },
    {
     "name": "stderr",
     "output_type": "stream",
     "text": [
      "C:\\Users\\mitch\\anaconda3\\envs\\learn-env\\lib\\site-packages\\sklearn\\model_selection\\_validation.py:548: FitFailedWarning: Estimator fit failed. The score on this train-test partition for these parameters will be set to nan. Details: \n",
      "Traceback (most recent call last):\n",
      "  File \"C:\\Users\\mitch\\anaconda3\\envs\\learn-env\\lib\\site-packages\\sklearn\\model_selection\\_validation.py\", line 531, in _fit_and_score\n",
      "    estimator.fit(X_train, y_train, **fit_params)\n",
      "  File \"C:\\Users\\mitch\\anaconda3\\envs\\learn-env\\lib\\site-packages\\sklearn\\pipeline.py\", line 335, in fit\n",
      "    self._final_estimator.fit(Xt, y, **fit_params_last_step)\n",
      "  File \"C:\\Users\\mitch\\anaconda3\\envs\\learn-env\\lib\\site-packages\\sklearn\\ensemble\\_forest.py\", line 386, in fit\n",
      "    trees = Parallel(n_jobs=self.n_jobs, verbose=self.verbose,\n",
      "  File \"C:\\Users\\mitch\\anaconda3\\envs\\learn-env\\lib\\site-packages\\joblib\\parallel.py\", line 1043, in __call__\n",
      "    if self.dispatch_one_batch(iterator):\n",
      "  File \"C:\\Users\\mitch\\anaconda3\\envs\\learn-env\\lib\\site-packages\\joblib\\parallel.py\", line 861, in dispatch_one_batch\n",
      "    self._dispatch(tasks)\n",
      "  File \"C:\\Users\\mitch\\anaconda3\\envs\\learn-env\\lib\\site-packages\\joblib\\parallel.py\", line 779, in _dispatch\n",
      "    job = self._backend.apply_async(batch, callback=cb)\n",
      "  File \"C:\\Users\\mitch\\anaconda3\\envs\\learn-env\\lib\\site-packages\\joblib\\_parallel_backends.py\", line 208, in apply_async\n",
      "    result = ImmediateResult(func)\n",
      "  File \"C:\\Users\\mitch\\anaconda3\\envs\\learn-env\\lib\\site-packages\\joblib\\_parallel_backends.py\", line 572, in __init__\n",
      "    self.results = batch()\n",
      "  File \"C:\\Users\\mitch\\anaconda3\\envs\\learn-env\\lib\\site-packages\\joblib\\parallel.py\", line 262, in __call__\n",
      "    return [func(*args, **kwargs)\n",
      "  File \"C:\\Users\\mitch\\anaconda3\\envs\\learn-env\\lib\\site-packages\\joblib\\parallel.py\", line 262, in <listcomp>\n",
      "    return [func(*args, **kwargs)\n",
      "  File \"C:\\Users\\mitch\\anaconda3\\envs\\learn-env\\lib\\site-packages\\sklearn\\ensemble\\_forest.py\", line 168, in _parallel_build_trees\n",
      "    tree.fit(X, y, sample_weight=curr_sample_weight, check_input=False)\n",
      "  File \"C:\\Users\\mitch\\anaconda3\\envs\\learn-env\\lib\\site-packages\\sklearn\\tree\\_classes.py\", line 890, in fit\n",
      "    super().fit(\n",
      "  File \"C:\\Users\\mitch\\anaconda3\\envs\\learn-env\\lib\\site-packages\\sklearn\\tree\\_classes.py\", line 255, in fit\n",
      "    raise ValueError(\"Invalid value for max_features. \"\n",
      "ValueError: Invalid value for max_features. Allowed string values are 'auto', 'sqrt' or 'log2'.\n",
      "\n",
      "  warnings.warn(\"Estimator fit failed. The score on this train-test\"\n",
      "[Parallel(n_jobs=1)]: Done  45 out of  45 | elapsed: 11.7min finished\n"
     ]
    },
    {
     "name": "stdout",
     "output_type": "stream",
     "text": [
      "[CV]  rfc__criterion=gini, rfc__max_features=float, rfc__min_samples_leaf=3, score=nan, total=   1.0s\n"
     ]
    },
    {
     "data": {
      "text/plain": [
       "GridSearchCV(estimator=Pipeline(steps=[('ct',\n",
       "                                        ColumnTransformer(remainder='passthrough',\n",
       "                                                          transformers=[('subpipe_num',\n",
       "                                                                         Pipeline(steps=[('ss',\n",
       "                                                                                          StandardScaler())]),\n",
       "                                                                         <sklearn.compose._column_transformer.make_column_selector object at 0x000001AE0C055100>),\n",
       "                                                                        ('subpipe_cat',\n",
       "                                                                         Pipeline(steps=[('ohe',\n",
       "                                                                                          OneHotEncoder(handle_unknown='ignore',\n",
       "                                                                                                        sparse=False))]),\n",
       "                                                                         <sklearn.compose._column_transformer.make_column_selector object at 0x000001AE0C055130>)])),\n",
       "                                       ('rfc',\n",
       "                                        RandomForestClassifier(random_state=42))]),\n",
       "             param_grid={'rfc__criterion': ['gini'],\n",
       "                         'rfc__max_features': ['sqrt', 'log2', 'float'],\n",
       "                         'rfc__min_samples_leaf': [1, 2, 3]},\n",
       "             verbose=3)"
      ]
     },
     "execution_count": 38,
     "metadata": {},
     "output_type": "execute_result"
    }
   ],
   "source": [
    "rfc_gs.fit(X_train, y_train_enc)"
   ]
  },
  {
   "cell_type": "code",
   "execution_count": 20,
   "metadata": {},
   "outputs": [],
   "source": [
    "# manual test again\n",
    "X_trans = CT.fit_transform(X_train)"
   ]
  },
  {
   "cell_type": "code",
   "execution_count": 27,
   "metadata": {},
   "outputs": [],
   "source": [
    "# manual pt2\n",
    "rfc_model = RandomForestClassifier(random_state=42).fit(X_trans, y_train_enc)"
   ]
  },
  {
   "cell_type": "code",
   "execution_count": 29,
   "metadata": {},
   "outputs": [
    {
     "data": {
      "text/plain": [
       "0.9998438268212974"
      ]
     },
     "execution_count": 29,
     "metadata": {},
     "output_type": "execute_result"
    }
   ],
   "source": [
    "# manual pt3\n",
    "rfc_model.score(X_trans, y_train_enc)"
   ]
  },
  {
   "cell_type": "code",
   "execution_count": 17,
   "metadata": {},
   "outputs": [],
   "source": [
    "# manual pt4\n",
    "X_test_trans= CT.transform(X_test)"
   ]
  },
  {
   "cell_type": "code",
   "execution_count": 19,
   "metadata": {
    "scrolled": false
   },
   "outputs": [
    {
     "name": "stderr",
     "output_type": "stream",
     "text": [
      "C:\\Users\\mitch\\anaconda3\\envs\\learn-env\\lib\\site-packages\\sklearn\\utils\\validation.py:72: DataConversionWarning: A column-vector y was passed when a 1d array was expected. Please change the shape of y to (n_samples, ), for example using ravel().\n",
      "  return f(**kwargs)\n"
     ]
    }
   ],
   "source": [
    "# manual pt5\n",
    "y_test_enc = le.transform(y_test)"
   ]
  },
  {
   "cell_type": "code",
   "execution_count": 36,
   "metadata": {},
   "outputs": [
    {
     "data": {
      "text/plain": [
       "0.6283294868902809"
      ]
     },
     "execution_count": 36,
     "metadata": {},
     "output_type": "execute_result"
    }
   ],
   "source": [
    "# manual pt6\n",
    "rfc_model.score(X_test_trans, y_test_enc)"
   ]
  },
  {
   "cell_type": "code",
   "execution_count": 39,
   "metadata": {},
   "outputs": [
    {
     "data": {
      "text/plain": [
       "{'rfc__criterion': 'gini',\n",
       " 'rfc__max_features': 'sqrt',\n",
       " 'rfc__min_samples_leaf': 2}"
      ]
     },
     "execution_count": 39,
     "metadata": {},
     "output_type": "execute_result"
    }
   ],
   "source": [
    "# gs of rfc results\n",
    "rfc_gs.best_params_"
   ]
  },
  {
   "cell_type": "code",
   "execution_count": 42,
   "metadata": {},
   "outputs": [
    {
     "data": {
      "text/plain": [
       "array([0.62781618, 0.63851693, 0.6384186 , 0.62627758, 0.63742951,\n",
       "       0.63778234,        nan,        nan,        nan])"
      ]
     },
     "execution_count": 42,
     "metadata": {},
     "output_type": "execute_result"
    }
   ],
   "source": [
    "rfc_gs.cv_results_['mean_test_score']"
   ]
  },
  {
   "cell_type": "code",
   "execution_count": 15,
   "metadata": {},
   "outputs": [],
   "source": [
    "# Manually remake best model bc of nan values\n",
    "rfc_model_final = RandomForestClassifier(criterion='gini', max_features='sqrt', min_samples_leaf=2,\n",
    "                                   random_state=42).fit(X_trans, y_train_enc)\n"
   ]
  },
  {
   "cell_type": "code",
   "execution_count": 20,
   "metadata": {},
   "outputs": [
    {
     "data": {
      "text/plain": [
       "0.6370924360998803"
      ]
     },
     "execution_count": 20,
     "metadata": {},
     "output_type": "execute_result"
    }
   ],
   "source": [
    "rfc_model_final.score(X_test_trans, y_test_enc)"
   ]
  },
  {
   "cell_type": "code",
   "execution_count": 23,
   "metadata": {},
   "outputs": [],
   "source": [
    "# Save model\n",
    "filename = 'rfc_model_final.sav'\n",
    "pickle.dump(rfc_model_final, open(filename, 'wb'))"
   ]
  },
  {
   "cell_type": "code",
   "execution_count": 25,
   "metadata": {},
   "outputs": [],
   "source": [
    "# Save test data(X)\n",
    "filename = 'rfc_model_final_Xtest.sav'\n",
    "pickle.dump(X_test_trans, open(filename, 'wb'))\n",
    "\n",
    "# Save test data(y)\n",
    "filename = 'rfc_model_final_ytest.sav'\n",
    "pickle.dump(y_test_enc, open(filename, 'wb'))"
   ]
  },
  {
   "cell_type": "markdown",
   "metadata": {},
   "source": [
    "# RFC final model analysis"
   ]
  },
  {
   "cell_type": "code",
   "execution_count": 30,
   "metadata": {
    "scrolled": true
   },
   "outputs": [
    {
     "name": "stdout",
     "output_type": "stream",
     "text": [
      "Feature: 0, Score: 0.07904\n",
      "Feature: 1, Score: 0.06944\n",
      "Feature: 2, Score: 0.05088\n",
      "Feature: 3, Score: 0.06060\n",
      "Feature: 4, Score: 0.01246\n",
      "Feature: 5, Score: 0.01247\n",
      "Feature: 6, Score: 0.00004\n",
      "Feature: 7, Score: 0.00094\n",
      "Feature: 8, Score: 0.00594\n",
      "Feature: 9, Score: 0.00522\n",
      "Feature: 10, Score: 0.00000\n",
      "Feature: 11, Score: 0.00002\n",
      "Feature: 12, Score: 0.00386\n",
      "Feature: 13, Score: 0.00958\n",
      "Feature: 14, Score: 0.00071\n",
      "Feature: 15, Score: 0.00163\n",
      "Feature: 16, Score: 0.00014\n",
      "Feature: 17, Score: 0.00143\n",
      "Feature: 18, Score: 0.03821\n",
      "Feature: 19, Score: 0.00180\n",
      "Feature: 20, Score: 0.00065\n",
      "Feature: 21, Score: 0.00021\n",
      "Feature: 22, Score: 0.00044\n",
      "Feature: 23, Score: 0.04480\n",
      "Feature: 24, Score: 0.00141\n",
      "Feature: 25, Score: 0.01870\n",
      "Feature: 26, Score: 0.02782\n",
      "Feature: 27, Score: 0.00001\n",
      "Feature: 28, Score: 0.00386\n",
      "Feature: 29, Score: 0.00064\n",
      "Feature: 30, Score: 0.00148\n",
      "Feature: 31, Score: 0.01474\n",
      "Feature: 32, Score: 0.01704\n",
      "Feature: 33, Score: 0.01641\n",
      "Feature: 34, Score: 0.00169\n",
      "Feature: 35, Score: 0.01593\n",
      "Feature: 36, Score: 0.06613\n",
      "Feature: 37, Score: 0.05010\n",
      "Feature: 38, Score: 0.00474\n",
      "Feature: 39, Score: 0.00882\n",
      "Feature: 40, Score: 0.00792\n",
      "Feature: 41, Score: 0.02295\n",
      "Feature: 42, Score: 0.01275\n",
      "Feature: 43, Score: 0.00263\n",
      "Feature: 44, Score: 0.00169\n",
      "Feature: 45, Score: 0.00337\n",
      "Feature: 46, Score: 0.00806\n",
      "Feature: 47, Score: 0.00150\n",
      "Feature: 48, Score: 0.00943\n",
      "Feature: 49, Score: 0.00281\n",
      "Feature: 50, Score: 0.00085\n",
      "Feature: 51, Score: 0.01568\n",
      "Feature: 52, Score: 0.01555\n",
      "Feature: 53, Score: 0.00561\n",
      "Feature: 54, Score: 0.01167\n",
      "Feature: 55, Score: 0.01336\n",
      "Feature: 56, Score: 0.01319\n",
      "Feature: 57, Score: 0.00496\n",
      "Feature: 58, Score: 0.00423\n",
      "Feature: 59, Score: 0.00138\n",
      "Feature: 60, Score: 0.00004\n",
      "Feature: 61, Score: 0.00950\n",
      "Feature: 62, Score: 0.00939\n",
      "Feature: 63, Score: 0.00842\n",
      "Feature: 64, Score: 0.00837\n",
      "Feature: 65, Score: 0.00817\n",
      "Feature: 66, Score: 0.00830\n",
      "Feature: 67, Score: 0.01065\n",
      "Feature: 68, Score: 0.01061\n",
      "Feature: 69, Score: 0.00632\n",
      "Feature: 70, Score: 0.00634\n",
      "Feature: 71, Score: 0.00484\n",
      "Feature: 72, Score: 0.00598\n",
      "Feature: 73, Score: 0.00590\n",
      "Feature: 74, Score: 0.00701\n",
      "Feature: 75, Score: 0.00066\n",
      "Feature: 76, Score: 0.00644\n",
      "Feature: 77, Score: 0.00249\n",
      "Feature: 78, Score: 0.00750\n",
      "Feature: 79, Score: 0.00843\n",
      "Feature: 80, Score: 0.00312\n",
      "Feature: 81, Score: 0.00632\n",
      "Feature: 82, Score: 0.00636\n",
      "Feature: 83, Score: 0.01028\n",
      "Feature: 84, Score: 0.01027\n",
      "Feature: 85, Score: 0.01663\n",
      "Feature: 86, Score: 0.00101\n",
      "Feature: 87, Score: 0.00104\n"
     ]
    }
   ],
   "source": [
    "importance = rfc_model_final.feature_importances_\n",
    "for i,v in enumerate(importance):\n",
    "    print('Feature: %0d, Score: %.5f' % (i,v))"
   ]
  },
  {
   "cell_type": "code",
   "execution_count": null,
   "metadata": {},
   "outputs": [],
   "source": [
    "# reverse features\n"
   ]
  },
  {
   "cell_type": "code",
   "execution_count": 49,
   "metadata": {},
   "outputs": [
    {
     "data": {
      "text/plain": [
       "0.6370924360998803"
      ]
     },
     "execution_count": 49,
     "metadata": {},
     "output_type": "execute_result"
    }
   ],
   "source": [
    "yhat = rfc_model_final.predict(X_test_trans)\n",
    "# Recall\n",
    "# use micro as there is some class imbalance\n",
    "recall = recall_score(y_test_enc, yhat, average='micro')\n",
    "recall"
   ]
  },
  {
   "cell_type": "code",
   "execution_count": 50,
   "metadata": {},
   "outputs": [
    {
     "data": {
      "text/plain": [
       "0.6370924360998803"
      ]
     },
     "execution_count": 50,
     "metadata": {},
     "output_type": "execute_result"
    }
   ],
   "source": [
    "accuracy = accuracy_score(y_test_enc, yhat)\n",
    "accuracy"
   ]
  },
  {
   "cell_type": "code",
   "execution_count": 51,
   "metadata": {},
   "outputs": [
    {
     "data": {
      "text/plain": [
       "0.6370924360998803"
      ]
     },
     "execution_count": 51,
     "metadata": {},
     "output_type": "execute_result"
    }
   ],
   "source": [
    "precision = precision_score(y_test_enc, yhat, average='micro')\n",
    "precision"
   ]
  },
  {
   "cell_type": "code",
   "execution_count": 52,
   "metadata": {},
   "outputs": [
    {
     "data": {
      "text/plain": [
       "0.6370924360998803"
      ]
     },
     "execution_count": 52,
     "metadata": {},
     "output_type": "execute_result"
    }
   ],
   "source": [
    "f1 = f1_score(y_test_enc, yhat, average='micro')\n",
    "f1"
   ]
  },
  {
   "cell_type": "code",
   "execution_count": 45,
   "metadata": {},
   "outputs": [
    {
     "data": {
      "image/png": "[encoded data removed]",
      "text/plain": [
       "<Figure size 432x288 with 2 Axes>"
      ]
     },
     "metadata": {
      "needs_background": "light"
     },
     "output_type": "display_data"
    }
   ],
   "source": [
    "plot_confusion_matrix(rfc_model_final, X_test_trans, y_test_enc);"
   ]
  },
  {
   "cell_type": "markdown",
   "metadata": {},
   "source": [
    "# Gradient Booster"
   ]
  },
  {
   "cell_type": "code",
   "execution_count": 16,
   "metadata": {},
   "outputs": [],
   "source": [
    "gbc = GradientBoostingClassifier(random_state=42)\n",
    "\n",
    "gbc_model_pipe = Pipeline([('ct', CT), ('gbc',gbc)])\n",
    "\n",
    "parameters = {\n",
    "    'gbc__loss': ['deviance'],\n",
    "    'gbc__learning_rate': [0.01, 0.1],\n",
    "    'gbc__max_depth': [2, 3]\n",
    "}\n",
    "\n",
    "gbc_gs = GridSearchCV(gbc_model_pipe, parameters, verbose=2)"
   ]
  },
  {
   "cell_type": "code",
   "execution_count": 17,
   "metadata": {
    "scrolled": true
   },
   "outputs": [
    {
     "name": "stdout",
     "output_type": "stream",
     "text": [
      "Fitting 5 folds for each of 4 candidates, totalling 20 fits\n",
      "[CV] gbc__learning_rate=0.01, gbc__loss=deviance, gbc__max_depth=2 ...\n"
     ]
    },
    {
     "name": "stderr",
     "output_type": "stream",
     "text": [
      "[Parallel(n_jobs=1)]: Using backend SequentialBackend with 1 concurrent workers.\n"
     ]
    },
    {
     "name": "stdout",
     "output_type": "stream",
     "text": [
      "[CV]  gbc__learning_rate=0.01, gbc__loss=deviance, gbc__max_depth=2, total= 2.9min\n",
      "[CV] gbc__learning_rate=0.01, gbc__loss=deviance, gbc__max_depth=2 ...\n"
     ]
    },
    {
     "name": "stderr",
     "output_type": "stream",
     "text": [
      "[Parallel(n_jobs=1)]: Done   1 out of   1 | elapsed:  2.9min remaining:    0.0s\n"
     ]
    },
    {
     "name": "stdout",
     "output_type": "stream",
     "text": [
      "[CV]  gbc__learning_rate=0.01, gbc__loss=deviance, gbc__max_depth=2, total= 2.9min\n",
      "[CV] gbc__learning_rate=0.01, gbc__loss=deviance, gbc__max_depth=2 ...\n",
      "[CV]  gbc__learning_rate=0.01, gbc__loss=deviance, gbc__max_depth=2, total= 2.9min\n",
      "[CV] gbc__learning_rate=0.01, gbc__loss=deviance, gbc__max_depth=2 ...\n",
      "[CV]  gbc__learning_rate=0.01, gbc__loss=deviance, gbc__max_depth=2, total= 2.9min\n",
      "[CV] gbc__learning_rate=0.01, gbc__loss=deviance, gbc__max_depth=2 ...\n",
      "[CV]  gbc__learning_rate=0.01, gbc__loss=deviance, gbc__max_depth=2, total= 2.8min\n",
      "[CV] gbc__learning_rate=0.01, gbc__loss=deviance, gbc__max_depth=3 ...\n",
      "[CV]  gbc__learning_rate=0.01, gbc__loss=deviance, gbc__max_depth=3, total= 4.1min\n",
      "[CV] gbc__learning_rate=0.01, gbc__loss=deviance, gbc__max_depth=3 ...\n",
      "[CV]  gbc__learning_rate=0.01, gbc__loss=deviance, gbc__max_depth=3, total= 4.2min\n",
      "[CV] gbc__learning_rate=0.01, gbc__loss=deviance, gbc__max_depth=3 ...\n",
      "[CV]  gbc__learning_rate=0.01, gbc__loss=deviance, gbc__max_depth=3, total= 4.3min\n",
      "[CV] gbc__learning_rate=0.01, gbc__loss=deviance, gbc__max_depth=3 ...\n",
      "[CV]  gbc__learning_rate=0.01, gbc__loss=deviance, gbc__max_depth=3, total= 4.1min\n",
      "[CV] gbc__learning_rate=0.01, gbc__loss=deviance, gbc__max_depth=3 ...\n",
      "[CV]  gbc__learning_rate=0.01, gbc__loss=deviance, gbc__max_depth=3, total= 3.9min\n",
      "[CV] gbc__learning_rate=0.1, gbc__loss=deviance, gbc__max_depth=2 ....\n",
      "[CV]  gbc__learning_rate=0.1, gbc__loss=deviance, gbc__max_depth=2, total= 2.7min\n",
      "[CV] gbc__learning_rate=0.1, gbc__loss=deviance, gbc__max_depth=2 ....\n",
      "[CV]  gbc__learning_rate=0.1, gbc__loss=deviance, gbc__max_depth=2, total= 2.7min\n",
      "[CV] gbc__learning_rate=0.1, gbc__loss=deviance, gbc__max_depth=2 ....\n",
      "[CV]  gbc__learning_rate=0.1, gbc__loss=deviance, gbc__max_depth=2, total= 2.8min\n",
      "[CV] gbc__learning_rate=0.1, gbc__loss=deviance, gbc__max_depth=2 ....\n",
      "[CV]  gbc__learning_rate=0.1, gbc__loss=deviance, gbc__max_depth=2, total= 2.8min\n",
      "[CV] gbc__learning_rate=0.1, gbc__loss=deviance, gbc__max_depth=2 ....\n",
      "[CV]  gbc__learning_rate=0.1, gbc__loss=deviance, gbc__max_depth=2, total= 2.8min\n",
      "[CV] gbc__learning_rate=0.1, gbc__loss=deviance, gbc__max_depth=3 ....\n",
      "[CV]  gbc__learning_rate=0.1, gbc__loss=deviance, gbc__max_depth=3, total= 4.1min\n",
      "[CV] gbc__learning_rate=0.1, gbc__loss=deviance, gbc__max_depth=3 ....\n",
      "[CV]  gbc__learning_rate=0.1, gbc__loss=deviance, gbc__max_depth=3, total= 4.0min\n",
      "[CV] gbc__learning_rate=0.1, gbc__loss=deviance, gbc__max_depth=3 ....\n",
      "[CV]  gbc__learning_rate=0.1, gbc__loss=deviance, gbc__max_depth=3, total= 4.1min\n",
      "[CV] gbc__learning_rate=0.1, gbc__loss=deviance, gbc__max_depth=3 ....\n",
      "[CV]  gbc__learning_rate=0.1, gbc__loss=deviance, gbc__max_depth=3, total= 4.2min\n",
      "[CV] gbc__learning_rate=0.1, gbc__loss=deviance, gbc__max_depth=3 ....\n",
      "[CV]  gbc__learning_rate=0.1, gbc__loss=deviance, gbc__max_depth=3, total= 4.0min\n"
     ]
    },
    {
     "name": "stderr",
     "output_type": "stream",
     "text": [
      "[Parallel(n_jobs=1)]: Done  20 out of  20 | elapsed: 69.0min finished\n"
     ]
    },
    {
     "data": {
      "text/plain": [
       "GridSearchCV(estimator=Pipeline(steps=[('ct',\n",
       "                                        ColumnTransformer(remainder='passthrough',\n",
       "                                                          transformers=[('subpipe_num',\n",
       "                                                                         Pipeline(steps=[('ss',\n",
       "                                                                                          StandardScaler())]),\n",
       "                                                                         <sklearn.compose._column_transformer.make_column_selector object at 0x00000159693D2F40>),\n",
       "                                                                        ('subpipe_cat',\n",
       "                                                                         Pipeline(steps=[('ohe',\n",
       "                                                                                          OneHotEncoder(handle_unknown='ignore',\n",
       "                                                                                                        sparse=False))]),\n",
       "                                                                         <sklearn.compose._column_transformer.make_column_selector object at 0x0000015900679040>)])),\n",
       "                                       ('gbc',\n",
       "                                        GradientBoostingClassifier(random_state=42))]),\n",
       "             param_grid={'gbc__learning_rate': [0.01, 0.1],\n",
       "                         'gbc__loss': ['deviance'], 'gbc__max_depth': [2, 3]},\n",
       "             verbose=2)"
      ]
     },
     "execution_count": 17,
     "metadata": {},
     "output_type": "execute_result"
    }
   ],
   "source": [
    "gbc_gs.fit(X_train, y_train_enc)"
   ]
  },
  {
   "cell_type": "code",
   "execution_count": 18,
   "metadata": {},
   "outputs": [
    {
     "data": {
      "text/plain": [
       "0.6048471527315846"
      ]
     },
     "execution_count": 18,
     "metadata": {},
     "output_type": "execute_result"
    }
   ],
   "source": [
    "gbc_gs.cv_results_['mean_test_score'].mean()"
   ]
  },
  {
   "cell_type": "code",
   "execution_count": null,
   "metadata": {},
   "outputs": [],
   "source": []
  }
 ],
 "metadata": {
  "kernelspec": {
   "display_name": "Python (learn-env)",
   "language": "python",
   "name": "learn-env"
  },
  "language_info": {
   "codemirror_mode": {
    "name": "ipython",
    "version": 3
   },
   "file_extension": ".py",
   "mimetype": "text/x-python",
   "name": "python",
   "nbconvert_exporter": "python",
   "pygments_lexer": "ipython3",
   "version": "3.8.5"
  }
 },
 "nbformat": 4,
 "nbformat_minor": 4
}
